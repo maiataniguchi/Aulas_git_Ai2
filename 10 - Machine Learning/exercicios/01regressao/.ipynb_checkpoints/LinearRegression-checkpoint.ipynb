{
 "cells": [
  {
   "cell_type": "markdown",
   "metadata": {},
   "source": [
    "# Exemplo Regressão Linear\n",
    "\n",
    "Dado um conjunto de pontos, a ideia é encontrar uma reta que melhor represente o comportamento desses dados.\n",
    "Após encontrar essa reta, é possível predizer a saída de uma nova amostra cujo valor é desconhecido.\n",
    "\n",
    "\n",
    "![alt tag](assets/img1.png)"
   ]
  },
  {
   "cell_type": "markdown",
   "metadata": {},
   "source": [
    "**Regressão Linear** é um modelo básico de predição que usa dados históricos para predizer a saída de uma variável. É muito popular para modelos de predição por ser fácil de entender e implementar.\n",
    "\n",
    "Modelos de regressão linear tem muitas aplicações em problemas reais, como economia, ciências sociais, saúde, etc.\n",
    "\n",
    "Entender como implementar um modelo de regressão linear pode desenterrar o histórico dos dados para resolver problemas presentes e futuros. Usaremos Python por ser uma ferramenta robusta para lidar, processar e modelar dados. Além disso, contém uma quantidade muito grande de bibliotecas para aprendizagem de máquinas e modelagem de dados.\n",
    "\n",
    "A ideia básica da regressão linear é encontrar uma reta que represente o conjunto de dados observados (conjunto de treinamento). O modelo pode então ser usado para predizer valores futuros. Vamos assumir, por exemplo, que descobrimos nesses dados históricos que o preço (P) de uma case é linearmente dependente do seu tamanho (S) - na verdade, nós descobrimos que o preço das casas é exatamente 90 vezes o seu tamanho. A equação é definida a seguir:\n",
    "\n",
    "\\begin{equation}\n",
    "P = 90*S\n",
    "\\end{equation}\n",
    "\n",
    "Com esse modelo, nós podemos predizer o custo de qualquer casa. Se tivermos uma casa que com $1,500$ metros quadrados, podemos calcular seu preço como sendo:\n",
    "\n",
    "\\begin{equation}\n",
    "P = 90*1500 = \\$135,000\n",
    "\\end{equation}\n",
    "\n",
    "Nessa aula, vamos aprender:\n",
    "\n",
    "\n",
    "1. os conceitos básicos e matemáticos por trás do modelo\n",
    "2. como implementar regressão linear do princípio (solução analítica)\n",
    "3. como implementar regressão linear usando scikit-learn\n"
   ]
  },
  {
   "cell_type": "markdown",
   "metadata": {},
   "source": [
    "# Conceitos básicos e matemáticos\n",
    "\n",
    "Existem dois tipos de variáveis em um modelo de regressão linear:\n",
    "\n",
    "- valores de **entrada**, que ajudam a predizer a variável de saída. Comumente, é chamada de $X$.\n",
    "- a variável de **saída**, que é o valor que desejamos descobrir. Em geral, é chamada de $y$.\n",
    "\n",
    "Para estimar $y$ usando regressão linear, nós usamos a equação:\n",
    "\n",
    "\\begin{equation}\n",
    "y_e = \\alpha + \\beta X\n",
    "\\end{equation}\n",
    "onde $y_e$ é o valor estimado de $y$ baseado na equação linear. Note que a equação é identica à equação da reta, sendo que $\\beta$ define a inclinação da reta e $\\alpha$ representa a altura que essa linha corta o eixo $y$ quando o valor no eixo $x$ é igual a zero.\n",
    "\n",
    "Nosso objetivo é encontrar os valores dos parâmetros $\\alpha$ e $\\beta$ que minimizem a diferênça entre $y$ e $y_e$.\n",
    "\n",
    "Se pudermos determinar o valor ótimo desses dois parâmetros, então teremos a linha que melhor se ajusta aos dados para predizer o valor de $y$, dado o valor de $X$.\n",
    "\n",
    "Então, como podemos estimar $\\alpha$ e $\\beta$? Podemos usar o método dos mínimos quadrados (ordinary least squares).\n",
    "\n"
   ]
  },
  {
   "cell_type": "markdown",
   "metadata": {},
   "source": [
    "### Método dos mínimos quadrados\n",
    "\n",
    "![alt tag](assets/ols.png)\n",
    "\n",
    "O objetivo do método dos mínimos quadrados é encontrar valores de $\\alpha$ e $\\beta$ que minimizam a soma da diferença ao quadrado entre $y$ e $y_e$. Usando calculo, podemos encontrar esses valores da seguinte maneira:\n",
    "\n",
    "\\begin{equation}\n",
    "    \\beta = \\frac{\\sum_{i=1}^n(X_i-\\hat{X})(y_i-\\hat{y})}{\\sum_{i=1}^n(X_i-\\hat{X})^2}\n",
    "\\end{equation}\n",
    "\n",
    "\\begin{equation}\n",
    "    \\alpha = \\hat{y}-\\beta * \\hat{X}\n",
    "\\end{equation}\n",
    "onde $\\hat{X}$ e $\\hat{y}$ representam os valores médios das variáveis $X$ e $Y$, respectivamente, e $n$ representa o número de amostras."
   ]
  },
  {
   "cell_type": "markdown",
   "metadata": {},
   "source": [
    "### Implementação 'na mão' (solução analítica)\n",
    "\n",
    "Antes de mergulharmos nas implementações práticas usando bibliotecas como o scikit-learn, é interessante entender como implementar o modelo desde o início.\n",
    "\n",
    "Para começar, vamos simular alguns dados e verificar como os valores preditos ($y_e$) diferencial do valor real de saída ($y$)."
   ]
  },
  {
   "cell_type": "code",
   "execution_count": 1,
   "metadata": {},
   "outputs": [
    {
     "data": {
      "text/html": [
       "<div>\n",
       "<style scoped>\n",
       "    .dataframe tbody tr th:only-of-type {\n",
       "        vertical-align: middle;\n",
       "    }\n",
       "\n",
       "    .dataframe tbody tr th {\n",
       "        vertical-align: top;\n",
       "    }\n",
       "\n",
       "    .dataframe thead th {\n",
       "        text-align: right;\n",
       "    }\n",
       "</style>\n",
       "<table border=\"1\" class=\"dataframe\">\n",
       "  <thead>\n",
       "    <tr style=\"text-align: right;\">\n",
       "      <th></th>\n",
       "      <th>X</th>\n",
       "      <th>y</th>\n",
       "    </tr>\n",
       "  </thead>\n",
       "  <tbody>\n",
       "    <tr>\n",
       "      <th>0</th>\n",
       "      <td>5.910131</td>\n",
       "      <td>4.714615</td>\n",
       "    </tr>\n",
       "    <tr>\n",
       "      <th>1</th>\n",
       "      <td>2.500393</td>\n",
       "      <td>2.076238</td>\n",
       "    </tr>\n",
       "    <tr>\n",
       "      <th>2</th>\n",
       "      <td>3.946845</td>\n",
       "      <td>2.548811</td>\n",
       "    </tr>\n",
       "    <tr>\n",
       "      <th>3</th>\n",
       "      <td>7.102233</td>\n",
       "      <td>4.615368</td>\n",
       "    </tr>\n",
       "    <tr>\n",
       "      <th>4</th>\n",
       "      <td>6.168895</td>\n",
       "      <td>3.264107</td>\n",
       "    </tr>\n",
       "  </tbody>\n",
       "</table>\n",
       "</div>"
      ],
      "text/plain": [
       "          X         y\n",
       "0  5.910131  4.714615\n",
       "1  2.500393  2.076238\n",
       "2  3.946845  2.548811\n",
       "3  7.102233  4.615368\n",
       "4  6.168895  3.264107"
      ]
     },
     "execution_count": 1,
     "metadata": {},
     "output_type": "execute_result"
    }
   ],
   "source": [
    "import pandas as pd # biblioteca para importar e manusear dados.\n",
    "import numpy as np # biblioteca com funções para lidar com arrays, expressões matemáticas, dentre outros.\n",
    "from matplotlib import pyplot as plt # biblioteca para plotar dados.\n",
    "\n",
    "# Gerando dados aleatórios\n",
    "np.random.seed(0)\n",
    "X = 2.5 * np.random.randn(100) + 1.5   # Array unidimensional com 100 valores, com média 1.5 e desvio = 2.5\n",
    "res = 0.5 * np.random.randn(100)       # gerando 100 termos residuais\n",
    "y = 2 + 0.3 * X + res                  # valores reais de y\n",
    "\n",
    "# Criando uma dataframe Pandas para armazenar nossos valores de X e y.\n",
    "df = pd.DataFrame(\n",
    "    {'X': X,\n",
    "     'y': y}\n",
    ")\n",
    "\n",
    "# mostrando as primeiras 5 linhas do nosso dataframe.\n",
    "df.head()"
   ]
  },
  {
   "cell_type": "markdown",
   "metadata": {},
   "source": [
    "Antes de estimar os valores de $\\alpha$ e $\\beta$, precisamos computar os valores médio de $X$ e $y$, i.e., $xmean$ e $ymean$, a covariancia de $X$ e $y$ ($xycov$), e a variancia de $X$ ($xvar$)."
   ]
  },
  {
   "cell_type": "code",
   "execution_count": 2,
   "metadata": {},
   "outputs": [
    {
     "name": "stdout",
     "output_type": "stream",
     "text": [
      "alpha = 2.0031670124623426\n",
      "beta = 0.3229396867092763\n"
     ]
    }
   ],
   "source": [
    "# Calculando as médias de X e y.\n",
    "xmean = np.mean(X)\n",
    "ymean = np.mean(y)\n",
    "\n",
    "# Calcular os termos necessários para encontrar 𝛽, \n",
    "# i.e., o numerador (covariancia entre X e y) e o denominador (variância de X).\n",
    "df['xycov'] = (df['X'] - xmean) * (df['y'] - ymean)\n",
    "df['xvar'] = (df['X'] - xmean)**2\n",
    "\n",
    "# Computando 𝛽 e 𝛼.\n",
    "beta = df['xycov'].sum() / df['xvar'].sum()\n",
    "alpha = ymean - (beta * xmean)\n",
    "print(f'alpha = {alpha}')\n",
    "print(f'beta = {beta}')"
   ]
  },
  {
   "cell_type": "markdown",
   "metadata": {},
   "source": [
    "Agora que encontramos os valores de $\\alpha$ e $\\beta$, nosso modelo pode ser escrito da como $y_e = 2.003 + 0.323 * X$, e podemos fazer predições:"
   ]
  },
  {
   "cell_type": "code",
   "execution_count": 3,
   "metadata": {
    "scrolled": true
   },
   "outputs": [
    {
     "name": "stdout",
     "output_type": "stream",
     "text": [
      "[3.91178282 2.81064315 3.27775989 4.29675991 3.99534802 1.69857201\n",
      " 3.25462968 2.36537842 2.40424288 2.81907292 2.60387001 3.66168312\n",
      " 3.10199975 2.58581077 2.84592918 2.75696825 3.69382011 2.32194218\n",
      " 2.74033151 1.79802302 0.42642221 3.015275   3.18547843 1.88839019\n",
      " 4.32006116 1.31339555 2.52451965 2.33645381 3.72506464 3.67386219\n",
      " 2.61267323 2.79288576 1.77082341 0.88838207 2.20668994 2.61380476\n",
      " 3.48085076 3.45831697 2.17486854 2.24351265 1.64102813 1.34112617\n",
      " 1.11002064 4.06253353 2.07610925 2.1338976  1.47613319 3.11528277\n",
      " 1.18459738 2.31582084 1.76462232 2.79994197 2.07517841 1.53439407\n",
      " 2.46482364 2.83338994 2.54127917 2.73177699 1.9754571  2.19471775\n",
      " 1.94466613 2.19729158 1.83108353 1.09386364 2.6308214  2.16319902\n",
      " 1.17143718 2.86120343 1.75506992 2.52951462 3.07620724 2.59171079\n",
      " 3.40747079 1.49064088 2.81240675 1.93469565 1.78453915 2.02024272\n",
      " 2.23604485 2.53292159 1.54689373 3.2148581  2.86352875 1.24729141\n",
      " 3.68911579 4.01822118 3.43926331 2.34231437 1.62310525 3.33888732\n",
      " 2.16207195 3.47451661 2.65572718 3.2760653  2.77528867 3.05802784\n",
      " 2.49605373 3.92939769 2.59003892 2.81212234]\n"
     ]
    }
   ],
   "source": [
    "ypred = alpha + beta * X\n",
    "print(ypred)"
   ]
  },
  {
   "cell_type": "markdown",
   "metadata": {},
   "source": [
    "Vamos plotar a predição $ypred$ contra o valor real de $y$, providenciando uma compreensão visual de nosso modelo."
   ]
  },
  {
   "cell_type": "code",
   "execution_count": 4,
   "metadata": {},
   "outputs": [
    {
     "data": {
      "image/png": "[encoded data removed]",
      "text/plain": [
       "<Figure size 1200x600 with 1 Axes>"
      ]
     },
     "metadata": {},
     "output_type": "display_data"
    }
   ],
   "source": [
    "# Plotando a regressão contra os dados reais\n",
    "plt.figure(figsize=(12, 6))\n",
    "plt.plot(X, ypred)     # linha da regressão\n",
    "plt.plot(X, y, 'ro')   # scatter plot mostrando os dados reais\n",
    "plt.title('Real vs Predito')\n",
    "plt.xlabel('X')\n",
    "plt.ylabel('y')\n",
    "\n",
    "plt.show()"
   ]
  },
  {
   "cell_type": "markdown",
   "metadata": {},
   "source": [
    "A linha azul é o melhor ajuste à equação $y_e = 2.003 + 0.323 X$. Podemos observar no gráfico que existe uma relação linear positiva entre $X$ e $y$. Usando nosso modelo, podemos predizer $y$ a partir de qualquer valor de $X$.\n",
    "\n",
    "Ex: $y_e = 2.003 + 0.323 (10) = 5.233$.\n"
   ]
  },
  {
   "cell_type": "markdown",
   "metadata": {},
   "source": [
    "### Regressão Linear usando scikit-learn\n",
    "\n",
    "Agora que sabemos como implementar o regressor linear ''na mão'', vamos aprender a usar o scikit-learn para predizer um valor de saída utilizando variáveis de entrada com duas (ou mais) dimensões. Para isso, utilizaremos um famoso dataset chamado *advertising*, o qual é composto pelos custos incorridos em propagandas utilizando diversos meios e as vendas de um produto particular.\n",
    "\n",
    "Neste exemplo, observaremos como as variáveis TV e Rádio podem predizer o número de vendas de um determinado produto. Vamos começar importando o dataset no formato csv como um Pandas dataframe usando a função read_csv(): "
   ]
  },
  {
   "cell_type": "code",
   "execution_count": 5,
   "metadata": {},
   "outputs": [
    {
     "data": {
      "text/html": [
       "<div>\n",
       "<style scoped>\n",
       "    .dataframe tbody tr th:only-of-type {\n",
       "        vertical-align: middle;\n",
       "    }\n",
       "\n",
       "    .dataframe tbody tr th {\n",
       "        vertical-align: top;\n",
       "    }\n",
       "\n",
       "    .dataframe thead th {\n",
       "        text-align: right;\n",
       "    }\n",
       "</style>\n",
       "<table border=\"1\" class=\"dataframe\">\n",
       "  <thead>\n",
       "    <tr style=\"text-align: right;\">\n",
       "      <th></th>\n",
       "      <th>TV</th>\n",
       "      <th>Radio</th>\n",
       "      <th>Newspaper</th>\n",
       "      <th>Sales</th>\n",
       "    </tr>\n",
       "  </thead>\n",
       "  <tbody>\n",
       "    <tr>\n",
       "      <th>0</th>\n",
       "      <td>230.1</td>\n",
       "      <td>37.8</td>\n",
       "      <td>69.2</td>\n",
       "      <td>22.1</td>\n",
       "    </tr>\n",
       "    <tr>\n",
       "      <th>1</th>\n",
       "      <td>44.5</td>\n",
       "      <td>39.3</td>\n",
       "      <td>45.1</td>\n",
       "      <td>10.4</td>\n",
       "    </tr>\n",
       "    <tr>\n",
       "      <th>2</th>\n",
       "      <td>17.2</td>\n",
       "      <td>45.9</td>\n",
       "      <td>69.3</td>\n",
       "      <td>9.3</td>\n",
       "    </tr>\n",
       "    <tr>\n",
       "      <th>3</th>\n",
       "      <td>151.5</td>\n",
       "      <td>41.3</td>\n",
       "      <td>58.5</td>\n",
       "      <td>18.5</td>\n",
       "    </tr>\n",
       "    <tr>\n",
       "      <th>4</th>\n",
       "      <td>180.8</td>\n",
       "      <td>10.8</td>\n",
       "      <td>58.4</td>\n",
       "      <td>12.9</td>\n",
       "    </tr>\n",
       "  </tbody>\n",
       "</table>\n",
       "</div>"
      ],
      "text/plain": [
       "      TV  Radio  Newspaper  Sales\n",
       "0  230.1   37.8       69.2   22.1\n",
       "1   44.5   39.3       45.1   10.4\n",
       "2   17.2   45.9       69.3    9.3\n",
       "3  151.5   41.3       58.5   18.5\n",
       "4  180.8   10.8       58.4   12.9"
      ]
     },
     "execution_count": 5,
     "metadata": {},
     "output_type": "execute_result"
    }
   ],
   "source": [
    "# Importa e mostra as cinco primeiras linhas do dataset advertising.\n",
    "\n",
    "# pode ser baixado em: https://www.kaggle.com/purbar/advertising-data#Advertising.csv\n",
    "\n",
    "advert = pd.read_csv('data/Advertising.csv').drop(columns=['Unnamed: 0'])\n",
    "advert.head()"
   ]
  },
  {
   "cell_type": "markdown",
   "metadata": {},
   "source": [
    "Um regressor linear com mais de uma variável de predição é modelado da seguinte forma:\n",
    "\n",
    "\\begin{equation}\n",
    "    y_e = \\alpha + \\beta_1X_1 + \\beta_2X_2 + \\dots + \\beta_pX_p,\n",
    "\\end{equation}\n",
    "onde $p$ é o número de variáveis de predição.\n",
    "\n",
    "No nosso exemplo, iremos predizer o número de produtos vendidos (Sales) usando as variáveis TV e Rádio, i.e., nosso modelo pode ser escrito como:\n",
    "\n",
    "\\begin{equation}\n",
    "    Vendas = \\alpha + \\beta_1TV + \\beta_2Radio.\n",
    "\\end{equation}\n",
    "\n",
    "Primeiramente, vamos inicializar nosso modelo de regressão linear, e então ajustar o modelo às nossas variáveis de predição e valor de saída:"
   ]
  },
  {
   "cell_type": "code",
   "execution_count": 6,
   "metadata": {},
   "outputs": [],
   "source": [
    "from sklearn.linear_model import LinearRegression\n",
    "\n",
    "# Constroi o modelo de regressão linear usando as variáveis TV e Radio.\n",
    "# Separa os dados em variáveis de predição de entrada X e a saída y\n",
    "predictors = ['TV', 'Radio']\n",
    "X = advert[predictors]\n",
    "y = advert['Sales']\n",
    "\n",
    "# Inicializa e ajusta o modelo\n",
    "lm = LinearRegression()\n",
    "model = lm.fit(X, y)"
   ]
  },
  {
   "cell_type": "markdown",
   "metadata": {},
   "source": [
    "Dessa vez não é necessário calcular os valores de $\\alpha$ e os $\\beta$s, uma que nosso modelo retorna esses valores através das chamadas .intercept_ para o $\\alpha$ e .coef_ para retornar o array com os valores de $\\beta_1$ e $\\beta_2$:"
   ]
  },
  {
   "cell_type": "code",
   "execution_count": 7,
   "metadata": {},
   "outputs": [
    {
     "name": "stdout",
     "output_type": "stream",
     "text": [
      "alpha = 2.9210999124051362\n",
      "betas = [0.04575482 0.18799423]\n"
     ]
    }
   ],
   "source": [
    "alpha = model.intercept_\n",
    "betas = model.coef_\n",
    "\n",
    "print(f'alpha = {alpha}')\n",
    "print(f'betas = {betas}')"
   ]
  },
  {
   "cell_type": "markdown",
   "metadata": {},
   "source": [
    "Sendo assim, nosso modelo pode ser escrito como:\n",
    "\n",
    "\\begin{equation}\n",
    "    Vendas = 2.921 + 0.046 * TV + 0.188 * Radio.\n",
    "\\end{equation}"
   ]
  },
  {
   "cell_type": "code",
   "execution_count": 8,
   "metadata": {
    "scrolled": true
   },
   "outputs": [
    {
     "name": "stdout",
     "output_type": "stream",
     "text": [
      "vendas = [20.55546463 12.34536229 12.33701773 17.61711596 13.22390813 12.51208449\n",
      " 11.71821241 12.10551553  3.7093792  12.55169696  7.0358597  17.25652015\n",
      " 10.60866187  8.81095051 18.44466773 20.82891539 12.90386507 23.24107626\n",
      "  9.94121476 14.15384619 18.12139161 14.74206357  6.51417168 16.54402663\n",
      "  8.14035215 15.6080206  14.96769383 17.0463346  19.39954145  9.15929748\n",
      " 21.64292187 11.35791808  7.65045928 18.83346334  7.56302763 16.99280099\n",
      " 23.36720719 15.6258994   9.91257829 20.4405801  16.37872122 17.29870935\n",
      " 21.5621537  13.96692266  8.9009974  15.16263814  8.88644967 21.69944046\n",
      " 16.28690268  8.18162949 12.64569407  9.31962792 20.66180115 19.96126242\n",
      " 20.35512357 21.30864743  8.53774783 12.76239488 21.89072858 18.10746914\n",
      "  5.74497097 22.90418658 16.78413768 13.18474853 16.96570907  7.82652846\n",
      "  8.98703456 12.02066194 18.95313425 21.09369037 17.78350693 10.63329605\n",
      " 10.35113844  9.91334008 17.30983543 11.90970399  4.48014809 13.79239059\n",
      "  8.78920329  9.67621401 11.43621364 14.6638809  10.18272029 14.41647235\n",
      " 20.77350468 15.22002396 11.58203354 15.61872354 11.75510286 16.93110264\n",
      "  9.98714329  4.51167896 19.17972975 21.26277229 10.46708623 16.33347878\n",
      " 12.62023117 15.32904398 24.12842563 16.94651016 13.90534597 23.30701753\n",
      " 17.64034079 14.75193037 20.26809884 17.95362103  6.13290678  7.11373347\n",
      "  3.59568568 19.66392439 14.79408982 21.12381933 13.85533202 16.38399023\n",
      " 15.29725626 12.93708446 11.97848762  6.56716317 15.60946713  6.81665095\n",
      " 14.42450056  7.86076515 13.62136464 15.05811789 19.4940435   9.12925166\n",
      " 10.59096289  6.59063608 22.21260278  7.90401761 10.39769966 15.60046013\n",
      "  8.41888332 19.27581486 11.86602974 13.96678613 11.42419802 20.87722595\n",
      "  9.75760743 19.63411177  9.47540519 18.43880322 19.25144497  8.77862066\n",
      " 10.10502768  9.6976895  15.27918887 23.26038805 12.23595022  9.81659119\n",
      " 18.37759626 10.03658404 16.34251686 18.22227054 15.48053237  5.28942768\n",
      " 15.39522591 10.01956371 10.39341821 12.40610283 14.21650102 13.57248088\n",
      " 14.94400258 17.32019972 11.04707937 14.28978442 10.80869402 13.36076565\n",
      " 17.21335083 17.92193265  7.3895737  14.37684633  7.59657824 11.96096978\n",
      " 13.73615116 24.7835259  19.96402163 12.17492441 16.01384397 12.37803956\n",
      " 10.57508895 13.93369584  6.56408761 24.16393648 18.53794901 20.77937663\n",
      "  9.69868449 17.06027938 18.62009678  6.0514451  12.45497782  8.4059261\n",
      "  4.47885906 18.44876059 16.4631902   5.36451249  8.15237521 12.76804849\n",
      " 23.79292299 15.15754285]\n"
     ]
    }
   ],
   "source": [
    "beta1 = betas[0]\n",
    "beta2 = betas[1]\n",
    "TV = advert['TV']\n",
    "Radio = advert['Radio']\n",
    "\n",
    "vendas = alpha + beta1 * TV + beta2 * Radio\n",
    "print(f'vendas = {vendas.values}')"
   ]
  },
  {
   "cell_type": "markdown",
   "metadata": {},
   "source": [
    "Porém, uma opção melhor é simplesmente usar a função .predict():"
   ]
  },
  {
   "cell_type": "code",
   "execution_count": 9,
   "metadata": {
    "scrolled": true
   },
   "outputs": [
    {
     "name": "stdout",
     "output_type": "stream",
     "text": [
      "vendas = [20.55546463 12.34536229 12.33701773 17.61711596 13.22390813 12.51208449\n",
      " 11.71821241 12.10551553  3.7093792  12.55169696  7.0358597  17.25652015\n",
      " 10.60866187  8.81095051 18.44466773 20.82891539 12.90386507 23.24107626\n",
      "  9.94121476 14.15384619 18.12139161 14.74206357  6.51417168 16.54402663\n",
      "  8.14035215 15.6080206  14.96769383 17.0463346  19.39954145  9.15929748\n",
      " 21.64292187 11.35791808  7.65045928 18.83346334  7.56302763 16.99280099\n",
      " 23.36720719 15.6258994   9.91257829 20.4405801  16.37872122 17.29870935\n",
      " 21.5621537  13.96692266  8.9009974  15.16263814  8.88644967 21.69944046\n",
      " 16.28690268  8.18162949 12.64569407  9.31962792 20.66180115 19.96126242\n",
      " 20.35512357 21.30864743  8.53774783 12.76239488 21.89072858 18.10746914\n",
      "  5.74497097 22.90418658 16.78413768 13.18474853 16.96570907  7.82652846\n",
      "  8.98703456 12.02066194 18.95313425 21.09369037 17.78350693 10.63329605\n",
      " 10.35113844  9.91334008 17.30983543 11.90970399  4.48014809 13.79239059\n",
      "  8.78920329  9.67621401 11.43621364 14.6638809  10.18272029 14.41647235\n",
      " 20.77350468 15.22002396 11.58203354 15.61872354 11.75510286 16.93110264\n",
      "  9.98714329  4.51167896 19.17972975 21.26277229 10.46708623 16.33347878\n",
      " 12.62023117 15.32904398 24.12842563 16.94651016 13.90534597 23.30701753\n",
      " 17.64034079 14.75193037 20.26809884 17.95362103  6.13290678  7.11373347\n",
      "  3.59568568 19.66392439 14.79408982 21.12381933 13.85533202 16.38399023\n",
      " 15.29725626 12.93708446 11.97848762  6.56716317 15.60946713  6.81665095\n",
      " 14.42450056  7.86076515 13.62136464 15.05811789 19.4940435   9.12925166\n",
      " 10.59096289  6.59063608 22.21260278  7.90401761 10.39769966 15.60046013\n",
      "  8.41888332 19.27581486 11.86602974 13.96678613 11.42419802 20.87722595\n",
      "  9.75760743 19.63411177  9.47540519 18.43880322 19.25144497  8.77862066\n",
      " 10.10502768  9.6976895  15.27918887 23.26038805 12.23595022  9.81659119\n",
      " 18.37759626 10.03658404 16.34251686 18.22227054 15.48053237  5.28942768\n",
      " 15.39522591 10.01956371 10.39341821 12.40610283 14.21650102 13.57248088\n",
      " 14.94400258 17.32019972 11.04707937 14.28978442 10.80869402 13.36076565\n",
      " 17.21335083 17.92193265  7.3895737  14.37684633  7.59657824 11.96096978\n",
      " 13.73615116 24.7835259  19.96402163 12.17492441 16.01384397 12.37803956\n",
      " 10.57508895 13.93369584  6.56408761 24.16393648 18.53794901 20.77937663\n",
      "  9.69868449 17.06027938 18.62009678  6.0514451  12.45497782  8.4059261\n",
      "  4.47885906 18.44876059 16.4631902   5.36451249  8.15237521 12.76804849\n",
      " 23.79292299 15.15754285]\n"
     ]
    }
   ],
   "source": [
    "vendas = model.predict(X)\n",
    "print(f'vendas = {vendas}')"
   ]
  },
  {
   "cell_type": "markdown",
   "metadata": {},
   "source": [
    "Agora que ajustamos um regressor linear com multiplas variaveis de entradas, podemos predizer a quantidade de vendas para qualquer combinação de valor gasto com propagando em TV e Rádio! Por exemplo, se quisermos saber quantas vendas fariamos ao investir $\\$300$ em propaganda na TV e $\\$200$ em propaganda em rádios, a única coisa a fazer é passar esses novos valores para o modelo:"
   ]
  },
  {
   "cell_type": "code",
   "execution_count": 10,
   "metadata": {},
   "outputs": [
    {
     "name": "stdout",
     "output_type": "stream",
     "text": [
      "[73.04581243]\n"
     ]
    },
    {
     "name": "stderr",
     "output_type": "stream",
     "text": [
      "/home/hub/.local/lib/python3.10/site-packages/sklearn/base.py:450: UserWarning: X does not have valid feature names, but LinearRegression was fitted with feature names\n",
      "  warnings.warn(\n"
     ]
    }
   ],
   "source": [
    "new_X = [[300, 300]]\n",
    "print(model.predict(new_X))"
   ]
  },
  {
   "cell_type": "markdown",
   "metadata": {},
   "source": [
    "Isso significa que se gastarmos $\\$300$ em propaganda na TV e $\\$200$ em propaganda em rádios, poderiamos esperar, em média, vender 73 unidades de nosso produto."
   ]
  },
  {
   "cell_type": "markdown",
   "metadata": {},
   "source": [
    "Nessa aula, nós implementamos um modelo de regressão linear em python ''na mão'' e usando scikit-learn. Espero que tenham gostado."
   ]
  },
  {
   "cell_type": "markdown",
   "metadata": {},
   "source": [
    "# Exercícios\n",
    "\n",
    "1. Ajustar o modelo ''Na mão'' utilizando o dataset *Advertising* para, dado o valor gasto com propaganda na TV, predizer a quantidade de produtos vendidos.\n",
    "\n",
    "2. Ajustar o modelo utilizando scikit-learn para predizer a quantidade de produtos vendidos considerando os gastos em propaganda na TV, Rádio e Jornal (newspaper)."
   ]
  },
  {
   "cell_type": "code",
   "execution_count": null,
   "metadata": {},
   "outputs": [],
   "source": []
  },
  {
   "cell_type": "markdown",
   "metadata": {},
   "source": [
    "# Solução:\n",
    "\n",
    "1. Ajustar o modelo ''Na mão'' utilizando o dataset *Advertising* para, dado o valor gasto com propaganda na TV, predizer a quantidade de produtos vendidos."
   ]
  },
  {
   "cell_type": "code",
   "execution_count": 23,
   "metadata": {},
   "outputs": [],
   "source": [
    "import pandas as pd \n",
    "import numpy as np \n",
    "from matplotlib import pyplot as plt \n",
    "\n",
    "advert = pd.read_csv('data/Advertising.csv')\n",
    "\n",
    "X = advert['TV'].values\n",
    "y = advert['Sales'].values\n"
   ]
  },
  {
   "cell_type": "markdown",
   "metadata": {},
   "source": [
    "2. Ajustar o modelo utilizando scikit-learn para predizer a quantidade de produtos vendidos considerando os gastos em propaganda na TV, Rádio e Jornal (newspaper)."
   ]
  },
  {
   "cell_type": "code",
   "execution_count": 24,
   "metadata": {
    "scrolled": true
   },
   "outputs": [],
   "source": [
    "import pandas as pd \n",
    "import numpy as np \n",
    "from matplotlib import pyplot as plt \n",
    "\n",
    "advert = pd.read_csv('data/Advertising.csv')\n",
    "\n",
    "from sklearn.linear_model import LinearRegression\n",
    "\n",
    "predictors = ['TV', 'Radio', 'Newspaper']\n",
    "X = advert[predictors]\n",
    "y = advert['Sales']\n"
   ]
  }
 ],
 "metadata": {
  "kernelspec": {
   "display_name": "Python 3 (ipykernel)",
   "language": "python",
   "name": "python3"
  },
  "language_info": {
   "codemirror_mode": {
    "name": "ipython",
    "version": 3
   },
   "file_extension": ".py",
   "mimetype": "text/x-python",
   "name": "python",
   "nbconvert_exporter": "python",
   "pygments_lexer": "ipython3",
   "version": "3.10.6"
  },
  "vscode": {
   "interpreter": {
    "hash": "cef572abb14adcc93dfed4ca5344ef5925103d0447b6d959be5a4fba15975876"
   }
  }
 },
 "nbformat": 4,
 "nbformat_minor": 4
}

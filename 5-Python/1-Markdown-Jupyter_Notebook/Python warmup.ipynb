{
 "cells": [
  {
   "cell_type": "markdown",
   "metadata": {},
   "source": [
    "## Python warmup\n",
    "\n",
    "Para esse conjunto de exercícios vamos utilizar o dataset [MovieLens 100k](https://grouplens.org/datasets/movielens/100k/)\n",
    "\n",
    "\n",
    "Os conjuntos de dados do MovieLens foram coletados pelo GroupLens Research Project na Universidade de Minnesota.\n",
    " \n",
    "Este conjunto de dados consiste em:\n",
    "* 100.000 classificações (1-5) de 943 usuários em 1.682 filmes.\n",
    "* Cada usuário classificou pelo menos 20 filmes.\n",
    "* Informações demográficas simples para os usuários (idade, sexo, ocupação, CEP)\n",
    "\n",
    "Os dados foram coletados por meio do site MovieLens (movielens.umn.edu) durante o período de sete meses a partir de 19 de setembro, 1997 a 22 de abril de 1998. Estes dados foram limpos - usuários que tiveram menos de 20 avaliações ou não tiveram dados demográficos completos informações foram removidas deste conjunto de dados. Descrições detalhadas de o arquivo de dados pode ser encontrado no final deste arquivo.\n",
    "\n",
    "Utilizando esse Dataset responda as seguintes perguntas. Você deverá utilizar somente as bibliotecas padrões do python, i.e., nenhuma nova biblioteca deve ser adicionada para implementar suas soluções (**isso é um warmup de python!**)\n",
    "\n",
    "#### Encontrar:\n",
    "1. O(s) usuário(s) mais crítico(s) na avaliação de filmes.\n",
    "    * Encontrar aquele id cujas notas são, em média, as menores;\n",
    "1. O(s) filme(s) mais mal avaliado(s) pelos usuários.\n",
    "1. O(s) filme(s) mais bem avaliado(s) pelos usuários.\n",
    "1. Média de avaliação para cada gênero de filmes;\n",
    "1. Avaliação média de filmes por ano. \n",
    "    * Listar qual o ano com a melhor média de avaliação de filmes;\n",
    "1. Qual a ocupação mais propensa a dar más avaliações a filmes;\n",
    "    * Encontrar a média de avaliação para cada ocupação de usuário e mostrar os menores e maiores valores\n"
   ]
  },
  {
   "cell_type": "code",
   "execution_count": null,
   "metadata": {},
   "outputs": [],
   "source": []
  }
 ],
 "metadata": {
  "kernelspec": {
   "display_name": "Python 3",
   "language": "python",
   "name": "python3"
  },
  "language_info": {
   "codemirror_mode": {
    "name": "ipython",
    "version": 3
   },
   "file_extension": ".py",
   "mimetype": "text/x-python",
   "name": "python",
   "nbconvert_exporter": "python",
   "pygments_lexer": "ipython3",
   "version": "3.7.6"
  }
 },
 "nbformat": 4,
 "nbformat_minor": 4
}

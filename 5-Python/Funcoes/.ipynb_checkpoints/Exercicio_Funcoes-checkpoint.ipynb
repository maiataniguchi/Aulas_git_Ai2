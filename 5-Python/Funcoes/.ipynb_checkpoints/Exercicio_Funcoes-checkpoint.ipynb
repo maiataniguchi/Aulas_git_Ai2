{
 "cells": [
  {
   "cell_type": "markdown",
   "metadata": {},
   "source": [
    "# Exercícios funções\n",
    "\n",
    "1. Crie uma função que receba um número e retorne TRUE se for negativo, caso contrário retorne FALSE;\n",
    "2. Crie uma função utilizando list comprehension que receba um array de números e retorne a soma acumulativa dos valores;\n",
    "3. Crie uma função que receba uma string e retorne a quantidade de vogais;\n",
    "4. Crie uma função que retorne o último caractere de uma função recebida;\n",
    "5. Crie uma função que retorne o inverso de um valor, Exemplo: 163 -> 361\n",
    "6. Crie uma função que receba uma lista de elementos em seguida, retorne um booleano dizendo se o valor foi encontrado ou não e sua posição no vetor;\n",
    "7. Crie uma função que receba um númeto arbitrário de parâmetros e apresente o tipo de cada um;\n",
    "8. Crie uma função que receba uma string e, utilizando decorator, retorne essa string entre aspas e em maiúscula;\n",
    "9. Crie uma função recursiva que itere os elementos de 0 a 20 e apresente o resultado de sua divisão inteira pelo número três;\n",
    "10. Sem usar comandos \"ifs\", crie uma função que receba dois números e retorne a soma dos mesmos porém, o valor retornado não pode passar de 10000 e deve ser sempre > 0;\n",
    "12. Crie uma função que receba argumentos de tamanho arbitrário sendo que, todos esses argumentos serão números. Em seguida, retorne o menor número entre os valores recebidos.\n",
    "13. Crie uma função que receba uma string e, para cada letra minúscula, transforme em letra maiúscula e vice-versa."
   ]
  },
  {
   "cell_type": "markdown",
   "metadata": {},
   "source": [
    "### 1. Crie uma função que receba um número e retorne TRUE se for negativo, caso contrário retorne FALSE"
   ]
  },
  {
   "cell_type": "code",
   "execution_count": 27,
   "metadata": {},
   "outputs": [],
   "source": [
    "def quest1(numero):\n",
    "    x = numero < 0\n",
    "    return x "
   ]
  },
  {
   "cell_type": "code",
   "execution_count": 29,
   "metadata": {},
   "outputs": [
    {
     "data": {
      "text/plain": [
       "False"
      ]
     },
     "execution_count": 29,
     "metadata": {},
     "output_type": "execute_result"
    }
   ],
   "source": [
    "quest1(5)"
   ]
  },
  {
   "cell_type": "code",
   "execution_count": 30,
   "metadata": {},
   "outputs": [
    {
     "data": {
      "text/plain": [
       "True"
      ]
     },
     "execution_count": 30,
     "metadata": {},
     "output_type": "execute_result"
    }
   ],
   "source": [
    "quest1(-5)"
   ]
  },
  {
   "cell_type": "markdown",
   "metadata": {},
   "source": [
    "### 2. Crie uma função utilizando list comprehension que receba um array de números e retorne a soma acumulativa dos valores"
   ]
  },
  {
   "cell_type": "code",
   "execution_count": 2,
   "metadata": {},
   "outputs": [
    {
     "name": "stdout",
     "output_type": "stream",
     "text": [
      "9\n"
     ]
    }
   ],
   "source": [
    "def func2(lista_num):\n",
    "    soma = sum(lista_num)\n",
    "    return soma\n",
    "\n",
    "numeros = [1, 3, 5]\n",
    "soma_cumul = func2(numeros)\n",
    "print(soma_cumul)   "
   ]
  },
  {
   "cell_type": "code",
   "execution_count": 5,
   "metadata": {},
   "outputs": [
    {
     "name": "stdout",
     "output_type": "stream",
     "text": [
      "9\n"
     ]
    }
   ],
   "source": [
    "def func2(lista_num):\n",
    "    var_aux = 0\n",
    "    for i in lista_num:\n",
    "        var_aux = var_aux + i    \n",
    "    return var_aux\n",
    "\n",
    "numeros = [1, 3, 5]\n",
    "soma = func2(numeros)\n",
    "print(soma)   "
   ]
  },
  {
   "cell_type": "code",
   "execution_count": 49,
   "metadata": {},
   "outputs": [
    {
     "name": "stdout",
     "output_type": "stream",
     "text": [
      "[0, 1, 2, 3]\n"
     ]
    }
   ],
   "source": [
    "lista = [0, 1, 2 , 3]\n",
    "\n",
    "\n",
    "soma = [y+x for x,y in zip(lista, soma)]\n",
    "print(soma)"
   ]
  },
  {
   "cell_type": "markdown",
   "metadata": {},
   "source": [
    "### 3. Crie uma função que receba uma string e retorne a quantidade de vogais."
   ]
  },
  {
   "cell_type": "code",
   "execution_count": 14,
   "metadata": {},
   "outputs": [
    {
     "name": "stdout",
     "output_type": "stream",
     "text": [
      "{'a': 3, 'e': 2}\n"
     ]
    }
   ],
   "source": [
    "def func3(string):\n",
    "    string = string.lower()\n",
    "    result = {}\n",
    "    vogais = \"aeiou\"\n",
    "    for i in vogais:\n",
    "        if i in string:\n",
    "            result[i] = string.count(i)\n",
    "    return result\n",
    "\n",
    "print(func3(\"maansehea\"))"
   ]
  },
  {
   "cell_type": "code",
   "execution_count": 15,
   "metadata": {},
   "outputs": [
    {
     "name": "stdout",
     "output_type": "stream",
     "text": [
      "{'a': 3, 'e': 2}\n"
     ]
    }
   ],
   "source": [
    "# Com dict comprehension\n",
    "\n",
    "def func3_1(string):\n",
    "    string = string.lower()\n",
    "    vogais = \"aeiou\"\n",
    "    return {i: string.count(i) for i in vogais if i in string}\n",
    "\n",
    "print(func3(\"maansehea\"))"
   ]
  },
  {
   "cell_type": "markdown",
   "metadata": {},
   "source": [
    "### 4. Crie uma função que retorne o último caractere de uma função recebida."
   ]
  },
  {
   "cell_type": "code",
   "execution_count": 34,
   "metadata": {},
   "outputs": [
    {
     "name": "stdout",
     "output_type": "stream",
     "text": [
      "20\n"
     ]
    }
   ],
   "source": [
    "def mult2(x):\n",
    "    y = 2*x\n",
    "    return y\n",
    "\n",
    "\n",
    "\n",
    "print(mult2(10))"
   ]
  },
  {
   "cell_type": "code",
   "execution_count": 37,
   "metadata": {},
   "outputs": [],
   "source": [
    "def last_char(entrada):\n",
    "    texto = str(entrada[-1])\n",
    "    return texto"
   ]
  },
  {
   "cell_type": "code",
   "execution_count": 40,
   "metadata": {},
   "outputs": [
    {
     "name": "stdout",
     "output_type": "stream",
     "text": [
      "Last character :  e\n"
     ]
    }
   ],
   "source": [
    "dado = last_char(\"maiarae\")\n",
    "print('Last character : ', dado)"
   ]
  },
  {
   "cell_type": "markdown",
   "metadata": {},
   "source": [
    "### 5. Crie uma função que retorne o inverso de um valor, Exemplo: 163 -> 361."
   ]
  },
  {
   "cell_type": "code",
   "execution_count": 153,
   "metadata": {},
   "outputs": [
    {
     "name": "stdout",
     "output_type": "stream",
     "text": [
      "[5, 1, 9, 3, 7, 5, 2]\n"
     ]
    }
   ],
   "source": [
    "def func5b(lst):\n",
    "    lst.reverse()\n",
    "    return lst\n",
    "\n",
    "\n",
    "lista = [2,5,7,3,9,1,5]\n",
    "lista2 = func5b(lista)\n",
    "print(lista2)"
   ]
  },
  {
   "cell_type": "code",
   "execution_count": 154,
   "metadata": {},
   "outputs": [],
   "source": [
    "#def func5(lista):\n",
    "#    lista_rev = lista\n",
    "#    lista_rev.reverse()\n",
    "#    return lista_rev\n",
    "\n",
    "#lista = [2,5,7,3,9,1,5]\n",
    "#lista2 = func5(lista)"
   ]
  },
  {
   "cell_type": "code",
   "execution_count": 155,
   "metadata": {
    "scrolled": true
   },
   "outputs": [],
   "source": [
    "#print(lista2)"
   ]
  },
  {
   "cell_type": "markdown",
   "metadata": {},
   "source": [
    "### 6. Crie uma função que receba uma lista de elementos em seguida, retorne um booleano dizendo se o valor foi encontrado ou não e sua posição no vetor."
   ]
  },
  {
   "cell_type": "code",
   "execution_count": 142,
   "metadata": {},
   "outputs": [
    {
     "name": "stdout",
     "output_type": "stream",
     "text": [
      "[1, 2, 3, 4, 'a', False]\n",
      "False\n",
      "Não encontrei\n"
     ]
    }
   ],
   "source": [
    "def func6(lst,x):\n",
    "    flag = x in lst\n",
    "    if flag == True:\n",
    "        idx = lst.index(x)\n",
    "    else:\n",
    "        idx = \"Não encontrei\"\n",
    "    return flag, idx\n",
    "    \n",
    "    \n",
    "    \n",
    "lista = [1, 2 ,3 ,4 , \"a\", 3>4]\n",
    "print(lista)\n",
    "\n",
    "\n",
    "a,b = func6(lista,'x')\n",
    "\n",
    "print(a)\n",
    "print(b)"
   ]
  },
  {
   "cell_type": "markdown",
   "metadata": {},
   "source": [
    "### 7. Crie uma função que receba um númeto arbitrário de parâmetros e apresente o tipo de cada um."
   ]
  },
  {
   "cell_type": "code",
   "execution_count": 20,
   "metadata": {},
   "outputs": [],
   "source": [
    "def func_arg(*args):\n",
    "    print('Argumentos: ', args)\n",
    "    print(type(args))"
   ]
  },
  {
   "cell_type": "code",
   "execution_count": 21,
   "metadata": {
    "scrolled": true
   },
   "outputs": [
    {
     "name": "stdout",
     "output_type": "stream",
     "text": [
      "Argumentos:  ('hubia',)\n",
      "<class 'tuple'>\n"
     ]
    }
   ],
   "source": [
    "func_arg(\"hubia\")"
   ]
  },
  {
   "cell_type": "code",
   "execution_count": 22,
   "metadata": {
    "scrolled": true
   },
   "outputs": [
    {
     "name": "stdout",
     "output_type": "stream",
     "text": [
      "Argumentos:  (1, 2, 3)\n",
      "<class 'tuple'>\n",
      "None\n"
     ]
    }
   ],
   "source": [
    "print(func_arg(1, 2, 3))"
   ]
  },
  {
   "cell_type": "markdown",
   "metadata": {},
   "source": [
    "### 8. Crie uma função que receba uma string e, utilizando decorator, retorne essa string entre aspas e em maiúscula."
   ]
  },
  {
   "cell_type": "code",
   "execution_count": 23,
   "metadata": {},
   "outputs": [],
   "source": [
    "# Retorna com decorator o texto entre parênteses\n",
    "\n",
    "def maiusculo(func):\n",
    "    def aninhada(texto):\n",
    "        return func(texto).upper()\n",
    "    return aninhada"
   ]
  },
  {
   "cell_type": "code",
   "execution_count": 24,
   "metadata": {},
   "outputs": [],
   "source": [
    "def parenteses(func):\n",
    "    def aninhada(texto):\n",
    "        return \"(\" + func(texto) + \")\"\n",
    "    return aninhada"
   ]
  },
  {
   "cell_type": "code",
   "execution_count": 25,
   "metadata": {},
   "outputs": [],
   "source": [
    "@maiusculo\n",
    "@parenteses\n",
    "\n",
    "def formatando(texto):\n",
    "    return texto"
   ]
  },
  {
   "cell_type": "code",
   "execution_count": 27,
   "metadata": {},
   "outputs": [
    {
     "name": "stdout",
     "output_type": "stream",
     "text": [
      "(MINHA FRASE TODA EM MAIÚSCULO)\n"
     ]
    }
   ],
   "source": [
    "print(formatando(\"Minha frase toda em maiúsculo\"))"
   ]
  },
  {
   "cell_type": "markdown",
   "metadata": {},
   "source": [
    "### 9. Crie uma função recursiva que itere os elementos de 0 a 20 e apresente o resultado de sua divisão inteira pelo número três."
   ]
  },
  {
   "cell_type": "code",
   "execution_count": 189,
   "metadata": {},
   "outputs": [
    {
     "name": "stdout",
     "output_type": "stream",
     "text": [
      "0\n",
      "0\n",
      "0\n",
      "1\n",
      "1\n",
      "1\n",
      "2\n",
      "2\n",
      "2\n",
      "3\n",
      "3\n",
      "3\n",
      "4\n",
      "4\n",
      "4\n",
      "5\n",
      "5\n",
      "5\n",
      "6\n",
      "6\n",
      "6\n",
      "Fim da iteração\n"
     ]
    }
   ],
   "source": [
    "from math import floor, ceil\n",
    "\n",
    "def func9(num):\n",
    "    if num <= 20:\n",
    "        div = floor(num/3)\n",
    "        print(div)\n",
    "        imprime_num(num + 1)\n",
    "    else:\n",
    "        print('Fim da iteração')\n",
    "        \n",
    "func9(0)"
   ]
  },
  {
   "cell_type": "code",
   "execution_count": 148,
   "metadata": {},
   "outputs": [],
   "source": [
    "# resto da divisao divmod(imprime_num(0), 3)"
   ]
  },
  {
   "cell_type": "markdown",
   "metadata": {},
   "source": [
    "###  10. Sem usar comandos \"ifs\", crie uma função que receba dois números e retorne a soma dos mesmos porém, o valor retornado não pode passar de 10000 e deve ser sempre > 0."
   ]
  },
  {
   "cell_type": "code",
   "execution_count": 188,
   "metadata": {},
   "outputs": [
    {
     "data": {
      "text/plain": [
       "9001"
      ]
     },
     "execution_count": 188,
     "metadata": {},
     "output_type": "execute_result"
    }
   ],
   "source": [
    "# Para fazer a fção sem ifs foram criadas 2 condicoes com retorno booleano (0 false, 1 true).\n",
    "# Se as duas condições forem satisfeitas, a variável soma_limitada = 1*1*soma. Caso contrário, retornará 0.\n",
    "\n",
    "def func10(num1, num2):\n",
    "    soma = num1 + num2\n",
    "    cond1 = soma < 10000\n",
    "    cond2 = soma > 0\n",
    "    soma_limitada = int(cond1)*int(cond2)*soma\n",
    "    return soma_limitada\n",
    "\n",
    "func10(9000,1)"
   ]
  },
  {
   "cell_type": "markdown",
   "metadata": {},
   "source": [
    "### 11. Crie uma função que receba argumentos de tamanho arbitrário sendo que, todos esses argumentos serão números. Em seguida, retorne o menor número entre os valores recebidos."
   ]
  },
  {
   "cell_type": "code",
   "execution_count": 165,
   "metadata": {
    "scrolled": true
   },
   "outputs": [
    {
     "name": "stdout",
     "output_type": "stream",
     "text": [
      "Argumentos:  (223, 335655, 73, 3, 78999)\n",
      "3\n",
      "None\n"
     ]
    }
   ],
   "source": [
    "def func11(*args):\n",
    "    print('Argumentos: ', args)\n",
    "    print(min(args))\n",
    "\n",
    "\n",
    "print(func11(223,335655,73,3,78999))"
   ]
  },
  {
   "cell_type": "markdown",
   "metadata": {},
   "source": [
    "### 12. Crie uma função que receba uma string e, para cada letra minúscula, transforme em letra maiúscula e vice-versa."
   ]
  },
  {
   "cell_type": "code",
   "execution_count": 1,
   "metadata": {},
   "outputs": [
    {
     "data": {
      "text/plain": [
       "'mEU NOME É mAIARA'"
      ]
     },
     "execution_count": 1,
     "metadata": {},
     "output_type": "execute_result"
    }
   ],
   "source": [
    "def func12(string):\n",
    "    string = string.swapcase()\n",
    "    return string\n",
    "\n",
    "frase = \"Meu nome é Maiara\"\n",
    "func12(frase)"
   ]
  }
 ],
 "metadata": {
  "kernelspec": {
   "display_name": "Python 3",
   "language": "python",
   "name": "python3"
  },
  "language_info": {
   "codemirror_mode": {
    "name": "ipython",
    "version": 3
   },
   "file_extension": ".py",
   "mimetype": "text/x-python",
   "name": "python",
   "nbconvert_exporter": "python",
   "pygments_lexer": "ipython3",
   "version": "3.7.6"
  }
 },
 "nbformat": 4,
 "nbformat_minor": 5
}

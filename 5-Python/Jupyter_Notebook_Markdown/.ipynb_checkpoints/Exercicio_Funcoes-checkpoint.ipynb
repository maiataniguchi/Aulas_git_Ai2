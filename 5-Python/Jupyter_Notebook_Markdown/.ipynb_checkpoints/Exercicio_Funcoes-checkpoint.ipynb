{
 "cells": [
  {
   "cell_type": "markdown",
   "id": "7e741c20",
   "metadata": {},
   "source": [
    "# Exercícios funções\n",
    "\n",
    "1. Crie uma função que receba um número e retorne TRUE se for negativo, caso contrário retorne FALSE;\n",
    "2. Crie uma função utilizando list comprehension que receba um array de números e retorne a soma acumulativa dos valores;\n",
    "3. Crie uma função que receba uma string e retorne a quantidade de vogais;\n",
    "4. Crie uma função que retorne o último caractere de uma função recebida;\n",
    "5. Crie uma função que retorne o inverso de um valor, Exemplo: 163 -> 361\n",
    "6. Crie uma função que receba uma lista de elementos em seguida, retorne um booleano dizendo se o valor foi encontrado ou não e sua posição no vetor;\n",
    "7. Crie uma função que receba um númeto arbitrário de parâmetros e apresente o tipo de cada um;\n",
    "8. Crie uma função que receba uma string e, utilizando decorator, retorne essa string entre aspas e em maiúscula;\n",
    "9. Crie uma função recursiva que itere os elementos de 0 a 20 e apresente o resultado de sua divisão inteira pelo número três;\n",
    "10. Sem usar comandos \"ifs\", crie uma função que receba dois números e retorne a soma dos mesmos porém, o valor retornado não pode passar de 10000 e deve ser sempre > 0;\n",
    "12. Crie uma função que receba argumentos de tamanho arbitrário sendo que, todos esses argumentos serão números. Em seguida, retorne o menor número entre os valores recebidos.\n",
    "13. Crie uma função que receba uma string e, para cada letra minúscula, transforme em letra maiúscula e vice-versa."
   ]
  },
  {
   "cell_type": "markdown",
   "id": "e31d0188",
   "metadata": {},
   "source": [
    "### 1. Crie uma função que receba um número e retorne TRUE se for negativo, caso contrário retorne FALSE"
   ]
  },
  {
   "cell_type": "code",
   "execution_count": 27,
   "id": "99816d5b",
   "metadata": {},
   "outputs": [],
   "source": [
    "def quest1(numero):\n",
    "    x = numero < 0\n",
    "    return x "
   ]
  },
  {
   "cell_type": "code",
   "execution_count": 29,
   "id": "e7adc944",
   "metadata": {},
   "outputs": [
    {
     "data": {
      "text/plain": [
       "False"
      ]
     },
     "execution_count": 29,
     "metadata": {},
     "output_type": "execute_result"
    }
   ],
   "source": [
    "quest1(5)"
   ]
  },
  {
   "cell_type": "code",
   "execution_count": 30,
   "id": "1ac8fb76",
   "metadata": {},
   "outputs": [
    {
     "data": {
      "text/plain": [
       "True"
      ]
     },
     "execution_count": 30,
     "metadata": {},
     "output_type": "execute_result"
    }
   ],
   "source": [
    "quest1(-5)"
   ]
  },
  {
   "cell_type": "markdown",
   "id": "e69cfb9f",
   "metadata": {},
   "source": [
    "### 2. Crie uma função utilizando list comprehension que receba um array de números e retorne a soma acumulativa dos valores"
   ]
  },
  {
   "cell_type": "code",
   "execution_count": 18,
   "id": "83dfd449",
   "metadata": {},
   "outputs": [
    {
     "name": "stdout",
     "output_type": "stream",
     "text": [
      "9\n"
     ]
    }
   ],
   "source": [
    "numeros = [1, 3, 5]\n",
    "soma_cumul = sum(numeros)\n",
    "\n",
    "print(soma_cumul)   "
   ]
  },
  {
   "cell_type": "markdown",
   "id": "51151485",
   "metadata": {},
   "source": [
    "### 3. Crie uma função que receba uma string e retorne a quantidade de vogais."
   ]
  },
  {
   "cell_type": "code",
   "execution_count": 14,
   "id": "20e570cf",
   "metadata": {},
   "outputs": [
    {
     "name": "stdout",
     "output_type": "stream",
     "text": [
      "{'a': 3, 'e': 2}\n"
     ]
    }
   ],
   "source": [
    "def func3(string):\n",
    "    string = string.lower()\n",
    "    result = {}\n",
    "    vogais = \"aeiou\"\n",
    "    for i in vogais:\n",
    "        if i in string:\n",
    "            result[i] = string.count(i)\n",
    "    return result\n",
    "\n",
    "print(func3(\"maansehea\"))"
   ]
  },
  {
   "cell_type": "code",
   "execution_count": 15,
   "id": "cd0105d0",
   "metadata": {},
   "outputs": [
    {
     "name": "stdout",
     "output_type": "stream",
     "text": [
      "{'a': 3, 'e': 2}\n"
     ]
    }
   ],
   "source": [
    "# Com dict comprehension\n",
    "\n",
    "def func3_1(string):\n",
    "    string = string.lower()\n",
    "    vogais = \"aeiou\"\n",
    "    return {i: string.count(i) for i in vogais if i in string}\n",
    "\n",
    "print(func3(\"maansehea\"))"
   ]
  },
  {
   "cell_type": "markdown",
   "id": "47c23ce2",
   "metadata": {},
   "source": [
    "### 4. Crie uma função que retorne o último caractere de uma função recebida."
   ]
  },
  {
   "cell_type": "code",
   "execution_count": null,
   "id": "29bb3c27",
   "metadata": {},
   "outputs": [],
   "source": [
    "# Termina ou começa com caracter?\n",
    "\n",
    "print(texto.startswith(\"d\"))\n",
    "print(texto.endswith(\"a\"))"
   ]
  },
  {
   "cell_type": "markdown",
   "id": "018c0563",
   "metadata": {},
   "source": [
    "### 5. Crie uma função que retorne o inverso de um valor, Exemplo: 163 -> 361."
   ]
  },
  {
   "cell_type": "code",
   "execution_count": 16,
   "id": "26f35f40",
   "metadata": {},
   "outputs": [
    {
     "name": "stdout",
     "output_type": "stream",
     "text": [
      "[5, 1, 9, 3, 7, 5, 2]\n"
     ]
    }
   ],
   "source": [
    "# Ordenando listas: reverse\n",
    "\n",
    "lista_rev = [2,5,7,3,9,1,5]\n",
    "lista_rev.reverse()\n",
    "print(lista_rev)"
   ]
  },
  {
   "cell_type": "markdown",
   "id": "85edbb4c",
   "metadata": {},
   "source": [
    "### 6. Crie uma função que receba uma lista de elementos em seguida, retorne um booleano dizendo se o valor foi encontrado ou não e sua posição no vetor."
   ]
  },
  {
   "cell_type": "code",
   "execution_count": null,
   "id": "8f9ee1d3",
   "metadata": {},
   "outputs": [],
   "source": [
    "lista = []\n",
    "bool = "
   ]
  },
  {
   "cell_type": "code",
   "execution_count": null,
   "id": "0b8ffa83",
   "metadata": {},
   "outputs": [],
   "source": []
  },
  {
   "cell_type": "markdown",
   "id": "2c1dbba3",
   "metadata": {},
   "source": [
    "### 7. Crie uma função que receba um númeto arbitrário de parâmetros e apresente o tipo de cada um."
   ]
  },
  {
   "cell_type": "code",
   "execution_count": 20,
   "id": "2089aaf9",
   "metadata": {},
   "outputs": [],
   "source": [
    "def func_arg(*args):\n",
    "    print('Argumentos: ', args)\n",
    "    print(type(args))"
   ]
  },
  {
   "cell_type": "code",
   "execution_count": 21,
   "id": "d1e2e00b",
   "metadata": {
    "scrolled": true
   },
   "outputs": [
    {
     "name": "stdout",
     "output_type": "stream",
     "text": [
      "Argumentos:  ('hubia',)\n",
      "<class 'tuple'>\n"
     ]
    }
   ],
   "source": [
    "func_arg(\"hubia\")"
   ]
  },
  {
   "cell_type": "code",
   "execution_count": 22,
   "id": "d883956e",
   "metadata": {
    "scrolled": true
   },
   "outputs": [
    {
     "name": "stdout",
     "output_type": "stream",
     "text": [
      "Argumentos:  (1, 2, 3)\n",
      "<class 'tuple'>\n",
      "None\n"
     ]
    }
   ],
   "source": [
    "print(func_arg(1, 2, 3))"
   ]
  },
  {
   "cell_type": "markdown",
   "id": "8dfcd85f",
   "metadata": {},
   "source": [
    "### 8. Crie uma função que receba uma string e, utilizando decorator, retorne essa string entre aspas e em maiúscula."
   ]
  },
  {
   "cell_type": "code",
   "execution_count": 23,
   "id": "d5ac970a",
   "metadata": {},
   "outputs": [],
   "source": [
    "# Retorna com decorator o texto entre parênteses\n",
    "\n",
    "def maiusculo(func):\n",
    "    def aninhada(texto):\n",
    "        return func(texto).upper()\n",
    "    return aninhada"
   ]
  },
  {
   "cell_type": "code",
   "execution_count": 24,
   "id": "02449e9b",
   "metadata": {},
   "outputs": [],
   "source": [
    "def parenteses(func):\n",
    "    def aninhada(texto):\n",
    "        return \"(\" + func(texto) + \")\"\n",
    "    return aninhada"
   ]
  },
  {
   "cell_type": "code",
   "execution_count": 25,
   "id": "194c2c87",
   "metadata": {},
   "outputs": [],
   "source": [
    "@maiusculo\n",
    "@parenteses\n",
    "\n",
    "def formatando(texto):\n",
    "    return texto"
   ]
  },
  {
   "cell_type": "code",
   "execution_count": 27,
   "id": "7cbf3319",
   "metadata": {},
   "outputs": [
    {
     "name": "stdout",
     "output_type": "stream",
     "text": [
      "(MINHA FRASE TODA EM MAIÚSCULO)\n"
     ]
    }
   ],
   "source": [
    "print(formatando(\"Minha frase toda em maiúsculo\"))"
   ]
  },
  {
   "cell_type": "markdown",
   "id": "65c366d5",
   "metadata": {},
   "source": [
    "### 9. Crie uma função recursiva que itere os elementos de 0 a 20 e apresente o resultado de sua divisão inteira pelo número três."
   ]
  },
  {
   "cell_type": "code",
   "execution_count": 37,
   "id": "57f7f353",
   "metadata": {},
   "outputs": [],
   "source": [
    "# Contar até 20\n",
    "\n",
    "def imprime_num(num):\n",
    "    print(num)\n",
    "    if num >= 20:\n",
    "        return\n",
    "    imprime_num(num + 1)"
   ]
  },
  {
   "cell_type": "code",
   "execution_count": 38,
   "id": "296d42e9",
   "metadata": {
    "scrolled": true
   },
   "outputs": [
    {
     "name": "stdout",
     "output_type": "stream",
     "text": [
      "0\n",
      "1\n",
      "2\n",
      "3\n",
      "4\n",
      "5\n",
      "6\n",
      "7\n",
      "8\n",
      "9\n",
      "10\n",
      "11\n",
      "12\n",
      "13\n",
      "14\n",
      "15\n",
      "16\n",
      "17\n",
      "18\n",
      "19\n",
      "20\n"
     ]
    },
    {
     "ename": "TypeError",
     "evalue": "imprime_num() missing 1 required positional argument: 'num'",
     "output_type": "error",
     "traceback": [
      "\u001b[0;31m---------------------------------------------------------------------------\u001b[0m",
      "\u001b[0;31mTypeError\u001b[0m                                 Traceback (most recent call last)",
      "Input \u001b[0;32mIn [38]\u001b[0m, in \u001b[0;36m<cell line: 1>\u001b[0;34m()\u001b[0m\n\u001b[0;32m----> 1\u001b[0m \u001b[43mimprime_num\u001b[49m\u001b[43m(\u001b[49m\u001b[38;5;241;43m0\u001b[39;49m\u001b[43m)\u001b[49m\n",
      "Input \u001b[0;32mIn [37]\u001b[0m, in \u001b[0;36mimprime_num\u001b[0;34m(num)\u001b[0m\n\u001b[1;32m      5\u001b[0m \u001b[38;5;28;01mif\u001b[39;00m num \u001b[38;5;241m>\u001b[39m\u001b[38;5;241m=\u001b[39m \u001b[38;5;241m20\u001b[39m:\n\u001b[1;32m      6\u001b[0m     \u001b[38;5;28;01mreturn\u001b[39;00m \u001b[38;5;28mdivmod\u001b[39m(imprime_num(), \u001b[38;5;241m3\u001b[39m)\n\u001b[0;32m----> 7\u001b[0m \u001b[43mimprime_num\u001b[49m\u001b[43m(\u001b[49m\u001b[43mnum\u001b[49m\u001b[43m \u001b[49m\u001b[38;5;241;43m+\u001b[39;49m\u001b[43m \u001b[49m\u001b[38;5;241;43m1\u001b[39;49m\u001b[43m)\u001b[49m\n",
      "Input \u001b[0;32mIn [37]\u001b[0m, in \u001b[0;36mimprime_num\u001b[0;34m(num)\u001b[0m\n\u001b[1;32m      5\u001b[0m \u001b[38;5;28;01mif\u001b[39;00m num \u001b[38;5;241m>\u001b[39m\u001b[38;5;241m=\u001b[39m \u001b[38;5;241m20\u001b[39m:\n\u001b[1;32m      6\u001b[0m     \u001b[38;5;28;01mreturn\u001b[39;00m \u001b[38;5;28mdivmod\u001b[39m(imprime_num(), \u001b[38;5;241m3\u001b[39m)\n\u001b[0;32m----> 7\u001b[0m \u001b[43mimprime_num\u001b[49m\u001b[43m(\u001b[49m\u001b[43mnum\u001b[49m\u001b[43m \u001b[49m\u001b[38;5;241;43m+\u001b[39;49m\u001b[43m \u001b[49m\u001b[38;5;241;43m1\u001b[39;49m\u001b[43m)\u001b[49m\n",
      "    \u001b[0;31m[... skipping similar frames: imprime_num at line 7 (17 times)]\u001b[0m\n",
      "Input \u001b[0;32mIn [37]\u001b[0m, in \u001b[0;36mimprime_num\u001b[0;34m(num)\u001b[0m\n\u001b[1;32m      5\u001b[0m \u001b[38;5;28;01mif\u001b[39;00m num \u001b[38;5;241m>\u001b[39m\u001b[38;5;241m=\u001b[39m \u001b[38;5;241m20\u001b[39m:\n\u001b[1;32m      6\u001b[0m     \u001b[38;5;28;01mreturn\u001b[39;00m \u001b[38;5;28mdivmod\u001b[39m(imprime_num(), \u001b[38;5;241m3\u001b[39m)\n\u001b[0;32m----> 7\u001b[0m \u001b[43mimprime_num\u001b[49m\u001b[43m(\u001b[49m\u001b[43mnum\u001b[49m\u001b[43m \u001b[49m\u001b[38;5;241;43m+\u001b[39;49m\u001b[43m \u001b[49m\u001b[38;5;241;43m1\u001b[39;49m\u001b[43m)\u001b[49m\n",
      "Input \u001b[0;32mIn [37]\u001b[0m, in \u001b[0;36mimprime_num\u001b[0;34m(num)\u001b[0m\n\u001b[1;32m      4\u001b[0m \u001b[38;5;28mprint\u001b[39m(num)\n\u001b[1;32m      5\u001b[0m \u001b[38;5;28;01mif\u001b[39;00m num \u001b[38;5;241m>\u001b[39m\u001b[38;5;241m=\u001b[39m \u001b[38;5;241m20\u001b[39m:\n\u001b[0;32m----> 6\u001b[0m     \u001b[38;5;28;01mreturn\u001b[39;00m \u001b[38;5;28mdivmod\u001b[39m(\u001b[43mimprime_num\u001b[49m\u001b[43m(\u001b[49m\u001b[43m)\u001b[49m, \u001b[38;5;241m3\u001b[39m)\n\u001b[1;32m      7\u001b[0m imprime_num(num \u001b[38;5;241m+\u001b[39m \u001b[38;5;241m1\u001b[39m)\n",
      "\u001b[0;31mTypeError\u001b[0m: imprime_num() missing 1 required positional argument: 'num'"
     ]
    }
   ],
   "source": [
    "imprime_num(0)"
   ]
  },
  {
   "cell_type": "code",
   "execution_count": 39,
   "id": "91d38410",
   "metadata": {},
   "outputs": [
    {
     "name": "stdout",
     "output_type": "stream",
     "text": [
      "0\n",
      "1\n",
      "2\n",
      "3\n",
      "4\n",
      "5\n",
      "6\n",
      "7\n",
      "8\n",
      "9\n",
      "10\n",
      "11\n",
      "12\n",
      "13\n",
      "14\n",
      "15\n",
      "16\n",
      "17\n",
      "18\n",
      "19\n",
      "20\n"
     ]
    },
    {
     "ename": "TypeError",
     "evalue": "imprime_num() missing 1 required positional argument: 'num'",
     "output_type": "error",
     "traceback": [
      "\u001b[0;31m---------------------------------------------------------------------------\u001b[0m",
      "\u001b[0;31mTypeError\u001b[0m                                 Traceback (most recent call last)",
      "Input \u001b[0;32mIn [39]\u001b[0m, in \u001b[0;36m<cell line: 1>\u001b[0;34m()\u001b[0m\n\u001b[0;32m----> 1\u001b[0m \u001b[38;5;28mdivmod\u001b[39m(\u001b[43mimprime_num\u001b[49m\u001b[43m(\u001b[49m\u001b[38;5;241;43m0\u001b[39;49m\u001b[43m)\u001b[49m, \u001b[38;5;241m3\u001b[39m)\n",
      "Input \u001b[0;32mIn [37]\u001b[0m, in \u001b[0;36mimprime_num\u001b[0;34m(num)\u001b[0m\n\u001b[1;32m      5\u001b[0m \u001b[38;5;28;01mif\u001b[39;00m num \u001b[38;5;241m>\u001b[39m\u001b[38;5;241m=\u001b[39m \u001b[38;5;241m20\u001b[39m:\n\u001b[1;32m      6\u001b[0m     \u001b[38;5;28;01mreturn\u001b[39;00m \u001b[38;5;28mdivmod\u001b[39m(imprime_num(), \u001b[38;5;241m3\u001b[39m)\n\u001b[0;32m----> 7\u001b[0m \u001b[43mimprime_num\u001b[49m\u001b[43m(\u001b[49m\u001b[43mnum\u001b[49m\u001b[43m \u001b[49m\u001b[38;5;241;43m+\u001b[39;49m\u001b[43m \u001b[49m\u001b[38;5;241;43m1\u001b[39;49m\u001b[43m)\u001b[49m\n",
      "Input \u001b[0;32mIn [37]\u001b[0m, in \u001b[0;36mimprime_num\u001b[0;34m(num)\u001b[0m\n\u001b[1;32m      5\u001b[0m \u001b[38;5;28;01mif\u001b[39;00m num \u001b[38;5;241m>\u001b[39m\u001b[38;5;241m=\u001b[39m \u001b[38;5;241m20\u001b[39m:\n\u001b[1;32m      6\u001b[0m     \u001b[38;5;28;01mreturn\u001b[39;00m \u001b[38;5;28mdivmod\u001b[39m(imprime_num(), \u001b[38;5;241m3\u001b[39m)\n\u001b[0;32m----> 7\u001b[0m \u001b[43mimprime_num\u001b[49m\u001b[43m(\u001b[49m\u001b[43mnum\u001b[49m\u001b[43m \u001b[49m\u001b[38;5;241;43m+\u001b[39;49m\u001b[43m \u001b[49m\u001b[38;5;241;43m1\u001b[39;49m\u001b[43m)\u001b[49m\n",
      "    \u001b[0;31m[... skipping similar frames: imprime_num at line 7 (17 times)]\u001b[0m\n",
      "Input \u001b[0;32mIn [37]\u001b[0m, in \u001b[0;36mimprime_num\u001b[0;34m(num)\u001b[0m\n\u001b[1;32m      5\u001b[0m \u001b[38;5;28;01mif\u001b[39;00m num \u001b[38;5;241m>\u001b[39m\u001b[38;5;241m=\u001b[39m \u001b[38;5;241m20\u001b[39m:\n\u001b[1;32m      6\u001b[0m     \u001b[38;5;28;01mreturn\u001b[39;00m \u001b[38;5;28mdivmod\u001b[39m(imprime_num(), \u001b[38;5;241m3\u001b[39m)\n\u001b[0;32m----> 7\u001b[0m \u001b[43mimprime_num\u001b[49m\u001b[43m(\u001b[49m\u001b[43mnum\u001b[49m\u001b[43m \u001b[49m\u001b[38;5;241;43m+\u001b[39;49m\u001b[43m \u001b[49m\u001b[38;5;241;43m1\u001b[39;49m\u001b[43m)\u001b[49m\n",
      "Input \u001b[0;32mIn [37]\u001b[0m, in \u001b[0;36mimprime_num\u001b[0;34m(num)\u001b[0m\n\u001b[1;32m      4\u001b[0m \u001b[38;5;28mprint\u001b[39m(num)\n\u001b[1;32m      5\u001b[0m \u001b[38;5;28;01mif\u001b[39;00m num \u001b[38;5;241m>\u001b[39m\u001b[38;5;241m=\u001b[39m \u001b[38;5;241m20\u001b[39m:\n\u001b[0;32m----> 6\u001b[0m     \u001b[38;5;28;01mreturn\u001b[39;00m \u001b[38;5;28mdivmod\u001b[39m(\u001b[43mimprime_num\u001b[49m\u001b[43m(\u001b[49m\u001b[43m)\u001b[49m, \u001b[38;5;241m3\u001b[39m)\n\u001b[1;32m      7\u001b[0m imprime_num(num \u001b[38;5;241m+\u001b[39m \u001b[38;5;241m1\u001b[39m)\n",
      "\u001b[0;31mTypeError\u001b[0m: imprime_num() missing 1 required positional argument: 'num'"
     ]
    }
   ],
   "source": [
    "divmod(imprime_num(0), 3)"
   ]
  },
  {
   "cell_type": "markdown",
   "id": "f3b38890",
   "metadata": {},
   "source": [
    "###  10. Sem usar comandos \"ifs\", crie uma função que receba dois números e retorne a soma dos mesmos porém, o valor retornado não pode passar de 10000 e deve ser sempre > 0."
   ]
  },
  {
   "cell_type": "code",
   "execution_count": null,
   "id": "8c3d5445",
   "metadata": {},
   "outputs": [],
   "source": []
  }
 ],
 "metadata": {
  "kernelspec": {
   "display_name": "Python 3 (ipykernel)",
   "language": "python",
   "name": "python3"
  },
  "language_info": {
   "codemirror_mode": {
    "name": "ipython",
    "version": 3
   },
   "file_extension": ".py",
   "mimetype": "text/x-python",
   "name": "python",
   "nbconvert_exporter": "python",
   "pygments_lexer": "ipython3",
   "version": "3.10.6"
  }
 },
 "nbformat": 4,
 "nbformat_minor": 5
}

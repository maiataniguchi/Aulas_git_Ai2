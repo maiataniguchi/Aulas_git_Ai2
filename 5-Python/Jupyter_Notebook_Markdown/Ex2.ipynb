{
 "cells": [
  {
   "cell_type": "markdown",
   "metadata": {},
   "source": [
    "# Exercício 2:\n",
    "\n",
    "O `markdown` não possibilita que redimensionemos a imagem usando a sintaxe\n",
    "`![image_alt](image_path)`.  Pesquise uma maneira de inserir a seguinte imagem\n",
    "e redimensioná-la no jupyter notebook. "
   ]
  },
  {
   "cell_type": "markdown",
   "metadata": {},
   "source": [
    "É possível redimensionar uma imagem no Jupyter notebook com simples comandos de altura e largura em HTML como:\n",
    "`img src=\"XXX\" width= XXX height= XXX/`"
   ]
  },
  {
   "cell_type": "markdown",
   "metadata": {},
   "source": [
    "<img src=\"https://preview.redd.it/90wtchmn0zg51.jpg?auto=webp&s=51a440adaedb2a1fac3dac40ca6d9cd7cba0e449\" align=left width=450 />"
   ]
  },
  {
   "cell_type": "markdown",
   "metadata": {},
   "source": [
    "<img src=\"https://preview.redd.it/90wtchmn0zg51.jpg?auto=webp&s=51a440adaedb2a1fac3dac40ca6d9cd7cba0e449\" width=\"200\" align=left />"
   ]
  },
  {
   "cell_type": "markdown",
   "metadata": {},
   "source": [
    "<img src=\"https://preview.redd.it/90wtchmn0zg51.jpg?auto=webp&s=51a440adaedb2a1fac3dac40ca6d9cd7cba0e449\" width=\"100\" align=left />"
   ]
  }
 ],
 "metadata": {
  "kernelspec": {
   "display_name": "Python 3",
   "language": "python",
   "name": "python3"
  },
  "language_info": {
   "codemirror_mode": {
    "name": "ipython",
    "version": 3
   },
   "file_extension": ".py",
   "mimetype": "text/x-python",
   "name": "python",
   "nbconvert_exporter": "python",
   "pygments_lexer": "ipython3",
   "version": "3.7.6"
  }
 },
 "nbformat": 4,
 "nbformat_minor": 4
}

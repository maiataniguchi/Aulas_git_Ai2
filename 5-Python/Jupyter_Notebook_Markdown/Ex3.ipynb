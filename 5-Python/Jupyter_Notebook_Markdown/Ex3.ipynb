{
 "cells": [
  {
   "cell_type": "markdown",
   "metadata": {},
   "source": [
    "# Exercício 3:\n",
    "\n",
    "#### Como escrever (utilizando uma célula `markdown`) em texto simples os símbolos utilizados pela sintaxe ( `*, #, _ **`)?"
   ]
  },
  {
   "cell_type": "markdown",
   "metadata": {},
   "source": [
    "Imagem exemplo:"
   ]
  },
  {
   "cell_type": "markdown",
   "metadata": {},
   "source": [
    "<img src = \"https://raw.githubusercontent.com/ai2-education-fiep-turma-5/02-programacao-python/main/exercicios/aula1/assets/lorem.png\" />"
   ]
  },
  {
   "cell_type": "markdown",
   "metadata": {},
   "source": [
    "**Solução: Basta adicionar uma barra invertida \\ antes de cada caractere.**"
   ]
  },
  {
   "cell_type": "markdown",
   "metadata": {},
   "source": [
    "`Lorem ipsum \\*\\*dolor sit amet, consectetur adipiscing elit. \\_Proin lacinia malesuada lobortis. \\#\\# Ut aliquam dictum arcu, vel eleifend dolor pellentesque molestie. \\~Nam eget augue purus. Ut ac risus libero.`"
   ]
  },
  {
   "cell_type": "markdown",
   "metadata": {},
   "source": [
    "**Retorna:**"
   ]
  },
  {
   "cell_type": "markdown",
   "metadata": {},
   "source": [
    "Lorem ipsum \\*\\*dolor sit amet, consectetur adipiscing elit. \\_Proin lacinia malesuada lobortis. \\#\\# Ut aliquam dictum arcu, vel eleifend dolor pellentesque molestie. \\~Nam eget augue purus. Ut ac risus libero."
   ]
  }
 ],
 "metadata": {
  "kernelspec": {
   "display_name": "Python 3 (ipykernel)",
   "language": "python",
   "name": "python3"
  },
  "language_info": {
   "codemirror_mode": {
    "name": "ipython",
    "version": 3
   },
   "file_extension": ".py",
   "mimetype": "text/x-python",
   "name": "python",
   "nbconvert_exporter": "python",
   "pygments_lexer": "ipython3",
   "version": "3.10.6"
  }
 },
 "nbformat": 4,
 "nbformat_minor": 4
}

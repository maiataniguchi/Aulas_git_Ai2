{
 "cells": [
  {
   "cell_type": "markdown",
   "metadata": {},
   "source": [
    "# Funções"
   ]
  },
  {
   "cell_type": "markdown",
   "metadata": {},
   "source": [
    " ### Função sem parâmetros"
   ]
  },
  {
   "cell_type": "code",
   "execution_count": 28,
   "metadata": {},
   "outputs": [],
   "source": [
    "def func():\n",
    "    num = 6\n",
    "    print(\"Função retorna %d\" %num)"
   ]
  },
  {
   "cell_type": "code",
   "execution_count": 29,
   "metadata": {},
   "outputs": [
    {
     "name": "stdout",
     "output_type": "stream",
     "text": [
      "Função retorna 6\n"
     ]
    }
   ],
   "source": [
    " func()"
   ]
  },
  {
   "cell_type": "code",
   "execution_count": 31,
   "metadata": {},
   "outputs": [],
   "source": [
    "# Funções vazias podem ser úteis para fazer buscas ou incrementos\n",
    "def nada():\n",
    "    pass"
   ]
  },
  {
   "cell_type": "code",
   "execution_count": 32,
   "metadata": {},
   "outputs": [],
   "source": [
    "nada()"
   ]
  },
  {
   "cell_type": "markdown",
   "metadata": {},
   "source": [
    "### Funções com parâmetros"
   ]
  },
  {
   "cell_type": "code",
   "execution_count": 33,
   "metadata": {},
   "outputs": [],
   "source": [
    "def print_var(value):\n",
    "    print(\"Valor digitado foi:\", value)"
   ]
  },
  {
   "cell_type": "code",
   "execution_count": 34,
   "metadata": {},
   "outputs": [
    {
     "name": "stdout",
     "output_type": "stream",
     "text": [
      "Valor digitado foi: 6\n"
     ]
    }
   ],
   "source": [
    "print_var(6)"
   ]
  },
  {
   "cell_type": "markdown",
   "metadata": {},
   "source": [
    "### Funções com parâmetros fixos"
   ]
  },
  {
   "cell_type": "code",
   "execution_count": 35,
   "metadata": {},
   "outputs": [],
   "source": [
    "def two(a,b):\n",
    "    print(a+b)"
   ]
  },
  {
   "cell_type": "code",
   "execution_count": 36,
   "metadata": {},
   "outputs": [
    {
     "name": "stdout",
     "output_type": "stream",
     "text": [
      "7\n"
     ]
    }
   ],
   "source": [
    "two(2,5)"
   ]
  },
  {
   "cell_type": "code",
   "execution_count": 37,
   "metadata": {
    "scrolled": true
   },
   "outputs": [
    {
     "name": "stdout",
     "output_type": "stream",
     "text": [
      "3.4000000000000004\n"
     ]
    }
   ],
   "source": [
    "two(1.6, 1.8)"
   ]
  },
  {
   "cell_type": "code",
   "execution_count": 39,
   "metadata": {},
   "outputs": [
    {
     "name": "stdout",
     "output_type": "stream",
     "text": [
      "Minha casa\n"
     ]
    }
   ],
   "source": [
    "two(\"Minha\", \" casa\") # ele identifica se é string e concatena em vez de somar no caso de float e int"
   ]
  },
  {
   "cell_type": "code",
   "execution_count": 45,
   "metadata": {},
   "outputs": [],
   "source": [
    "# Alterar ordem de parâmetros\n",
    "\n",
    "def two(a,b):\n",
    "    print(a-b)"
   ]
  },
  {
   "cell_type": "code",
   "execution_count": 47,
   "metadata": {},
   "outputs": [
    {
     "name": "stdout",
     "output_type": "stream",
     "text": [
      "2\n"
     ]
    }
   ],
   "source": [
    "two(3,1)"
   ]
  },
  {
   "cell_type": "code",
   "execution_count": 48,
   "metadata": {},
   "outputs": [
    {
     "name": "stdout",
     "output_type": "stream",
     "text": [
      "2\n"
     ]
    }
   ],
   "source": [
    "# Pode-se inverter a ordem de declarar os parâmetro desde que eles sejam nomeados:\n",
    "\n",
    "two(b=1, a=3)"
   ]
  },
  {
   "cell_type": "markdown",
   "metadata": {},
   "source": [
    "### Função com parâmetros arbitrários"
   ]
  },
  {
   "cell_type": "code",
   "execution_count": 40,
   "metadata": {},
   "outputs": [],
   "source": [
    "def func_arg(*args):\n",
    "    print('Argumentos: ', args)\n",
    "    print(type(args))"
   ]
  },
  {
   "cell_type": "code",
   "execution_count": 42,
   "metadata": {},
   "outputs": [
    {
     "name": "stdout",
     "output_type": "stream",
     "text": [
      "Argumentos:  (1, 2, 3)\n",
      "<class 'tuple'>\n",
      "None\n"
     ]
    }
   ],
   "source": [
    "print(func_arg(1, 2, 3))"
   ]
  },
  {
   "cell_type": "code",
   "execution_count": 43,
   "metadata": {},
   "outputs": [
    {
     "name": "stdout",
     "output_type": "stream",
     "text": [
      "Argumentos:  ('hubia',)\n",
      "<class 'tuple'>\n"
     ]
    }
   ],
   "source": [
    "func_arg(\"hubia\") # imprime o argumento sem necessidade de declarar"
   ]
  },
  {
   "cell_type": "code",
   "execution_count": 44,
   "metadata": {},
   "outputs": [
    {
     "name": "stdout",
     "output_type": "stream",
     "text": [
      "Argumentos:  ('hubia', 24, True, ['casa', 7, 1.4])\n",
      "<class 'tuple'>\n"
     ]
    }
   ],
   "source": [
    "func_arg(\"hubia\", 24, 4<7, [\"casa\", 7, 1.4])"
   ]
  },
  {
   "cell_type": "code",
   "execution_count": 50,
   "metadata": {},
   "outputs": [],
   "source": [
    "def func_arg(*args, next):\n",
    "    print('Argumentos: ', args)\n",
    "    print(next)"
   ]
  },
  {
   "cell_type": "code",
   "execution_count": 51,
   "metadata": {},
   "outputs": [
    {
     "name": "stdout",
     "output_type": "stream",
     "text": [
      "Argumentos:  (3.2, 'String')\n",
      "30\n"
     ]
    }
   ],
   "source": [
    "func_arg(3.2, \"String\", next=30)"
   ]
  },
  {
   "cell_type": "code",
   "execution_count": 52,
   "metadata": {},
   "outputs": [
    {
     "name": "stdout",
     "output_type": "stream",
     "text": [
      "Argumentos:  ()\n",
      "Nova_declaracao\n"
     ]
    }
   ],
   "source": [
    "func_arg(next=\"Nova_declaracao\") "
   ]
  },
  {
   "cell_type": "code",
   "execution_count": 54,
   "metadata": {},
   "outputs": [],
   "source": [
    "# É possível assumir valores dentro da função independente do next\n",
    "def func(valor, nome=\"Aula func\"):\n",
    "    print(nome, valor)"
   ]
  },
  {
   "cell_type": "code",
   "execution_count": 56,
   "metadata": {},
   "outputs": [
    {
     "name": "stdout",
     "output_type": "stream",
     "text": [
      "Nova 3\n"
     ]
    }
   ],
   "source": [
    "func(3, \"Nova\")"
   ]
  },
  {
   "cell_type": "code",
   "execution_count": 57,
   "metadata": {},
   "outputs": [],
   "source": [
    "def func(**args): #entende que é um dicionário\n",
    "    print(type(args))\n",
    "    print(args)\n",
    "    print(args[\"Valor\"])"
   ]
  },
  {
   "cell_type": "code",
   "execution_count": 58,
   "metadata": {},
   "outputs": [
    {
     "name": "stdout",
     "output_type": "stream",
     "text": [
      "<class 'dict'>\n",
      "{'Valor': '200', 'operacao': 'Soma', 'resultado': '20'}\n",
      "200\n"
     ]
    }
   ],
   "source": [
    "func(Valor=\"200\", operacao=\"Soma\", resultado=\"20\")"
   ]
  },
  {
   "cell_type": "markdown",
   "metadata": {},
   "source": [
    "### Função como parâmetro para outra função"
   ]
  },
  {
   "cell_type": "code",
   "execution_count": 59,
   "metadata": {},
   "outputs": [],
   "source": [
    "def imprime(a):\n",
    "    print(a)\n",
    "    \n",
    "def executa(func, b):\n",
    "    func(b+15)"
   ]
  },
  {
   "cell_type": "code",
   "execution_count": 61,
   "metadata": {},
   "outputs": [
    {
     "name": "stdout",
     "output_type": "stream",
     "text": [
      "<class 'function'>\n",
      "37\n"
     ]
    }
   ],
   "source": [
    "recebe = imprime\n",
    "print(type(recebe))\n",
    "executa(recebe,22)"
   ]
  },
  {
   "cell_type": "markdown",
   "metadata": {},
   "source": [
    "### Funções que retornam valores \"return\""
   ]
  },
  {
   "cell_type": "code",
   "execution_count": 63,
   "metadata": {},
   "outputs": [],
   "source": [
    "def sub(a,b):\n",
    "    return a - b"
   ]
  },
  {
   "cell_type": "code",
   "execution_count": 65,
   "metadata": {},
   "outputs": [
    {
     "name": "stdout",
     "output_type": "stream",
     "text": [
      "O resultado da subtração é  2\n"
     ]
    }
   ],
   "source": [
    "subtracao = sub(4,2)\n",
    "print(\"O resultado da subtração é \", subtracao)"
   ]
  },
  {
   "cell_type": "code",
   "execution_count": 71,
   "metadata": {},
   "outputs": [],
   "source": [
    "# Comprimento de uma palavra ou número\n",
    "\n",
    "def len_num(numero):\n",
    "    num_texto = str(numero)\n",
    "    return len(num_texto)"
   ]
  },
  {
   "cell_type": "code",
   "execution_count": 72,
   "metadata": {},
   "outputs": [],
   "source": [
    "num1 = 20\n",
    "num2 = 2022\n",
    "\n",
    "tam1 = len_num(num1)\n",
    "tam2 = len_num(num2)"
   ]
  },
  {
   "cell_type": "code",
   "execution_count": 73,
   "metadata": {},
   "outputs": [
    {
     "name": "stdout",
     "output_type": "stream",
     "text": [
      "O número 20 possui 4 números\n",
      "O número 2022 possui 4 números\n"
     ]
    }
   ],
   "source": [
    "print(\"O número %d possui %d números\" %(num1, tam2))\n",
    "print(\"O número %d possui %d números\" %(num2, tam2))"
   ]
  },
  {
   "cell_type": "code",
   "execution_count": 74,
   "metadata": {},
   "outputs": [
    {
     "name": "stdout",
     "output_type": "stream",
     "text": [
      "A palavra patagonia possui 9 letras\n"
     ]
    }
   ],
   "source": [
    "pal = \"patagonia\"\n",
    "\n",
    "pal1 = len_num(pal)\n",
    "print(\"A palavra %s possui %d letras\" %(pal, pal1))"
   ]
  },
  {
   "cell_type": "code",
   "execution_count": 75,
   "metadata": {},
   "outputs": [],
   "source": [
    "# Retornando múltiplos valores\n",
    "\n",
    "def ret_valores():\n",
    "    return 1,2,3"
   ]
  },
  {
   "cell_type": "code",
   "execution_count": 76,
   "metadata": {},
   "outputs": [
    {
     "name": "stdout",
     "output_type": "stream",
     "text": [
      "(1, 2, 3)\n",
      "<class 'tuple'>\n"
     ]
    }
   ],
   "source": [
    "val = ret_valores()\n",
    "print(val)\n",
    "print(type(val))"
   ]
  },
  {
   "cell_type": "code",
   "execution_count": 79,
   "metadata": {},
   "outputs": [],
   "source": [
    "# Valores individuais\n",
    "\n",
    "def ret_valores(x, y, z):\n",
    "    x += x\n",
    "    y += y\n",
    "    z += z\n",
    "    return x, y, z"
   ]
  },
  {
   "cell_type": "code",
   "execution_count": 82,
   "metadata": {},
   "outputs": [
    {
     "name": "stdout",
     "output_type": "stream",
     "text": [
      "6 12 18\n"
     ]
    }
   ],
   "source": [
    "x, y, z = ret_valores(3, 6, 9)\n",
    "print(x, y, z)"
   ]
  },
  {
   "cell_type": "code",
   "execution_count": 83,
   "metadata": {},
   "outputs": [
    {
     "data": {
      "text/plain": [
       "(6, 12, 18)"
      ]
     },
     "execution_count": 83,
     "metadata": {},
     "output_type": "execute_result"
    }
   ],
   "source": [
    "a = ret_valores(3, 6, 9)\n",
    "a"
   ]
  },
  {
   "cell_type": "markdown",
   "metadata": {},
   "source": [
    "## Mais sobre funções lambda"
   ]
  },
  {
   "cell_type": "code",
   "execution_count": 90,
   "metadata": {},
   "outputs": [
    {
     "name": "stdout",
     "output_type": "stream",
     "text": [
      "15\n"
     ]
    }
   ],
   "source": [
    "soma = lambda x: x + 10 # soma +10 na função que o lambda recebe como parâmetro\n",
    "val = soma(5)\n",
    "print(val)"
   ]
  },
  {
   "cell_type": "code",
   "execution_count": 91,
   "metadata": {},
   "outputs": [
    {
     "name": "stdout",
     "output_type": "stream",
     "text": [
      "9\n"
     ]
    }
   ],
   "source": [
    "# Lambda com argumentos\n",
    "\n",
    "mult = lambda x,y: x*y\n",
    "val2 = mult(3,3)\n",
    "print(val2)"
   ]
  },
  {
   "cell_type": "code",
   "execution_count": 92,
   "metadata": {},
   "outputs": [
    {
     "name": "stdout",
     "output_type": "stream",
     "text": [
      "15\n"
     ]
    }
   ],
   "source": [
    "soma = lambda x: x + 10 \n",
    "new = soma(5)\n",
    "print(new)"
   ]
  },
  {
   "cell_type": "code",
   "execution_count": 93,
   "metadata": {},
   "outputs": [
    {
     "ename": "TypeError",
     "evalue": "<lambda>() missing 2 required positional arguments: 'x' and 'y'",
     "output_type": "error",
     "traceback": [
      "\u001b[0;31m---------------------------------------------------------------------------\u001b[0m",
      "\u001b[0;31mTypeError\u001b[0m                                 Traceback (most recent call last)",
      "\u001b[0;32m<ipython-input-93-df12891bc919>\u001b[0m in \u001b[0;36m<module>\u001b[0;34m\u001b[0m\n\u001b[0;32m----> 1\u001b[0;31m \u001b[0mval2\u001b[0m \u001b[0;34m=\u001b[0m \u001b[0mmult\u001b[0m\u001b[0;34m(\u001b[0m\u001b[0;34m)\u001b[0m\u001b[0;34m\u001b[0m\u001b[0;34m\u001b[0m\u001b[0m\n\u001b[0m\u001b[1;32m      2\u001b[0m \u001b[0;34m\u001b[0m\u001b[0m\n\u001b[1;32m      3\u001b[0m \u001b[0mresult\u001b[0m \u001b[0;34m=\u001b[0m \u001b[0mval2\u001b[0m\u001b[0;34m(\u001b[0m\u001b[0;36m10\u001b[0m\u001b[0;34m)\u001b[0m\u001b[0;34m\u001b[0m\u001b[0;34m\u001b[0m\u001b[0m\n",
      "\u001b[0;31mTypeError\u001b[0m: <lambda>() missing 2 required positional arguments: 'x' and 'y'"
     ]
    }
   ],
   "source": [
    "val2 = mult()\n",
    "\n",
    "result = val2(10)"
   ]
  },
  {
   "cell_type": "markdown",
   "metadata": {},
   "source": [
    "### Funções recursivas"
   ]
  },
  {
   "cell_type": "code",
   "execution_count": 94,
   "metadata": {},
   "outputs": [],
   "source": [
    "# Contar até 10\n",
    "\n",
    "def imprime_num(num):\n",
    "    print(num)\n",
    "    if num >= 10:\n",
    "        return\n",
    "    imprime_num(num + 1)"
   ]
  },
  {
   "cell_type": "code",
   "execution_count": 95,
   "metadata": {},
   "outputs": [
    {
     "name": "stdout",
     "output_type": "stream",
     "text": [
      "0\n",
      "1\n",
      "2\n",
      "3\n",
      "4\n",
      "5\n",
      "6\n",
      "7\n",
      "8\n",
      "9\n",
      "10\n"
     ]
    }
   ],
   "source": [
    "imprime_num(0)"
   ]
  },
  {
   "cell_type": "code",
   "execution_count": 96,
   "metadata": {},
   "outputs": [],
   "source": [
    "def imprime_str(texto, indice):\n",
    "    if indice == len(texto):\n",
    "        return\n",
    "    print(texto[indice])\n",
    "    imprime_str(texto, indice+1) # soma +1 até que o numero do texto seja igual ao indice"
   ]
  },
  {
   "cell_type": "code",
   "execution_count": 99,
   "metadata": {},
   "outputs": [
    {
     "name": "stdout",
     "output_type": "stream",
     "text": [
      "y\n",
      "t\n",
      "o\n",
      "n\n"
     ]
    }
   ],
   "source": [
    "imprime_str(\"Clayton\", 3)"
   ]
  },
  {
   "cell_type": "code",
   "execution_count": 100,
   "metadata": {},
   "outputs": [],
   "source": [
    "# Função recursiva para calcular fatorial\n",
    "def fat(num):\n",
    "    if (num ==1):\n",
    "        return 1\n",
    "    return num * fat(num -1)"
   ]
  },
  {
   "cell_type": "code",
   "execution_count": 102,
   "metadata": {},
   "outputs": [
    {
     "data": {
      "text/plain": [
       "120"
      ]
     },
     "execution_count": 102,
     "metadata": {},
     "output_type": "execute_result"
    }
   ],
   "source": [
    "fat(5)"
   ]
  },
  {
   "cell_type": "markdown",
   "metadata": {},
   "source": [
    "### Função aninhadas (nested functions)"
   ]
  },
  {
   "cell_type": "code",
   "execution_count": 105,
   "metadata": {},
   "outputs": [],
   "source": [
    "def pai():\n",
    "    def filho():\n",
    "        print(\"Sou o filho\")\n",
    "    filho()"
   ]
  },
  {
   "cell_type": "code",
   "execution_count": 106,
   "metadata": {},
   "outputs": [
    {
     "name": "stdout",
     "output_type": "stream",
     "text": [
      "Sou o filho\n"
     ]
    }
   ],
   "source": [
    "pai()"
   ]
  },
  {
   "cell_type": "code",
   "execution_count": 111,
   "metadata": {},
   "outputs": [],
   "source": [
    "# Exemplo pai e filho com calculadora\n",
    "\n",
    "def calc(num1, num2, op):\n",
    "    # retorno das funções de cáculo (filho)\n",
    "    def soma(a,b):\n",
    "        return a + b\n",
    "    def sub(a,b):\n",
    "        return a - b\n",
    "    def mult(a,b):\n",
    "        return a * b\n",
    "    def div(a,b):\n",
    "        return a / b\n",
    "    # retorno das funções de escolha\n",
    "    if (op == \"+\"):\n",
    "        return soma(num1, num2)\n",
    "    if (op == \"-\"):\n",
    "        return sub(num1, num2)\n",
    "    if (op == \"*\"):\n",
    "        return mult(num1, num2)\n",
    "    if (op == \"/\"):\n",
    "        return div(num1, num2)"
   ]
  },
  {
   "cell_type": "code",
   "execution_count": 109,
   "metadata": {},
   "outputs": [
    {
     "data": {
      "text/plain": [
       "10"
      ]
     },
     "execution_count": 109,
     "metadata": {},
     "output_type": "execute_result"
    }
   ],
   "source": [
    "calc(4,6,\"+\")"
   ]
  },
  {
   "cell_type": "code",
   "execution_count": 110,
   "metadata": {},
   "outputs": [
    {
     "ename": "TypeError",
     "evalue": "<lambda>() takes 1 positional argument but 2 were given",
     "output_type": "error",
     "traceback": [
      "\u001b[0;31m---------------------------------------------------------------------------\u001b[0m",
      "\u001b[0;31mTypeError\u001b[0m                                 Traceback (most recent call last)",
      "\u001b[0;32m<ipython-input-110-78ae333e4d5b>\u001b[0m in \u001b[0;36m<module>\u001b[0;34m\u001b[0m\n\u001b[0;32m----> 1\u001b[0;31m \u001b[0msoma\u001b[0m\u001b[0;34m(\u001b[0m\u001b[0;36m3\u001b[0m\u001b[0;34m,\u001b[0m\u001b[0;36m4\u001b[0m\u001b[0;34m)\u001b[0m\u001b[0;34m\u001b[0m\u001b[0;34m\u001b[0m\u001b[0m\n\u001b[0m",
      "\u001b[0;31mTypeError\u001b[0m: <lambda>() takes 1 positional argument but 2 were given"
     ]
    }
   ],
   "source": [
    "soma(3,4) # não é executada porque essa função existe somente dentro da função pai, ou seja, é uma função local"
   ]
  },
  {
   "cell_type": "markdown",
   "metadata": {},
   "source": [
    "### Decorators"
   ]
  },
  {
   "cell_type": "markdown",
   "metadata": {},
   "source": [
    "#### Substituimos uma função x por outra função Y que engloba a função x"
   ]
  },
  {
   "cell_type": "code",
   "execution_count": 116,
   "metadata": {},
   "outputs": [],
   "source": [
    "# Transformar em maiusculo\n",
    "\n",
    "def maiusculo(func):\n",
    "    def aninhada():\n",
    "        return func().upper()\n",
    "    return aninhada"
   ]
  },
  {
   "cell_type": "code",
   "execution_count": 117,
   "metadata": {},
   "outputs": [],
   "source": [
    "# Criando o decorator\n",
    "\n",
    "@maiusculo\n",
    "def mostra_string():\n",
    "    return \"Estou trabalhando com decorator\""
   ]
  },
  {
   "cell_type": "code",
   "execution_count": 118,
   "metadata": {},
   "outputs": [
    {
     "name": "stdout",
     "output_type": "stream",
     "text": [
      "ESTOU TRABALHANDO COM DECORATOR\n"
     ]
    }
   ],
   "source": [
    "# Chamando a função de retorno da string\n",
    "\n",
    "string = mostra_string()\n",
    "print(string)"
   ]
  },
  {
   "cell_type": "code",
   "execution_count": 119,
   "metadata": {},
   "outputs": [],
   "source": [
    "# Utilizando parâmetros\n",
    "\n",
    "def maiusculo(func):\n",
    "    def aninhada(str1, str2):\n",
    "        return func(str1, str2).upper()\n",
    "    return aninhada"
   ]
  },
  {
   "cell_type": "code",
   "execution_count": 120,
   "metadata": {},
   "outputs": [],
   "source": [
    "@maiusculo\n",
    "def concatena(str1, str2):\n",
    "    return str1 + str2"
   ]
  },
  {
   "cell_type": "code",
   "execution_count": null,
   "metadata": {},
   "outputs": [],
   "source": []
  },
  {
   "cell_type": "code",
   "execution_count": null,
   "metadata": {},
   "outputs": [],
   "source": []
  },
  {
   "cell_type": "code",
   "execution_count": 1,
   "metadata": {},
   "outputs": [
    {
     "name": "stdout",
     "output_type": "stream",
     "text": [
      "32\n"
     ]
    }
   ],
   "source": [
    "# Trasnformando em uma variável global\n",
    "var = 10\n",
    "def func():\n",
    "        global var\n",
    "        var = 32\n",
    "         \n",
    "func()\n",
    "print(var)"
   ]
  },
  {
   "cell_type": "code",
   "execution_count": null,
   "metadata": {},
   "outputs": [],
   "source": [
    "# Exemplo 1\n",
    "\n",
    "def pai():\n",
    "    val_pai = 30\n",
    "    def filho():\n",
    "        print(val_pai)\n",
    "    filho()\n",
    "    \n",
    "pai()"
   ]
  },
  {
   "cell_type": "code",
   "execution_count": 12,
   "metadata": {},
   "outputs": [
    {
     "name": "stdout",
     "output_type": "stream",
     "text": [
      "22\n",
      "30\n"
     ]
    }
   ],
   "source": [
    "# Exemplo 2\n",
    "\n",
    "def pai():\n",
    "    val_pai = 30\n",
    "    def filho():\n",
    "        val_pai = 22\n",
    "        print(val_pai)\n",
    "    filho()\n",
    "    print(val_pai)\n",
    "    \n",
    "pai()"
   ]
  },
  {
   "cell_type": "code",
   "execution_count": 13,
   "metadata": {},
   "outputs": [
    {
     "name": "stdout",
     "output_type": "stream",
     "text": [
      "22\n",
      "22\n"
     ]
    }
   ],
   "source": [
    "# Exemplo 2\n",
    "\n",
    "def pai():\n",
    "    val_pai = 30\n",
    "    def filho():\n",
    "        nonlocal val_pai # diz que a variavel é local e não global\n",
    "        val_pai = 22\n",
    "        print(val_pai)\n",
    "    filho()\n",
    "    print(val_pai)\n",
    "    \n",
    "pai()"
   ]
  },
  {
   "cell_type": "code",
   "execution_count": 14,
   "metadata": {},
   "outputs": [
    {
     "name": "stdout",
     "output_type": "stream",
     "text": [
      "10\n"
     ]
    }
   ],
   "source": [
    "var = 10\n",
    "print(var)\n",
    "del var"
   ]
  },
  {
   "cell_type": "code",
   "execution_count": 15,
   "metadata": {},
   "outputs": [
    {
     "name": "stdout",
     "output_type": "stream",
     "text": [
      "[10, 20, 30]\n"
     ]
    }
   ],
   "source": [
    "array = [10, 20, 30]\n",
    "print(array)"
   ]
  },
  {
   "cell_type": "code",
   "execution_count": 16,
   "metadata": {},
   "outputs": [
    {
     "data": {
      "text/plain": [
       "[20, 30]"
      ]
     },
     "execution_count": 16,
     "metadata": {},
     "output_type": "execute_result"
    }
   ],
   "source": [
    "del array[0]\n",
    "array"
   ]
  },
  {
   "cell_type": "code",
   "execution_count": null,
   "metadata": {},
   "outputs": [],
   "source": []
  },
  {
   "cell_type": "code",
   "execution_count": 3,
   "metadata": {},
   "outputs": [],
   "source": [
    "import time"
   ]
  },
  {
   "cell_type": "code",
   "execution_count": 4,
   "metadata": {},
   "outputs": [],
   "source": [
    "# Calcular o tempo de execução de uma determinada função\n",
    "\n",
    "def duracao(func):\n",
    "    def timer():\n",
    "        time_ini = time.time()\n",
    "        func()\n",
    "        time_end = time.time()\n",
    "        \n",
    "        print(\"[{func}] Tempo total de execução: {tempo_total}\". format(\n",
    "        func = func.__name__,\n",
    "        tempo_total = str(time_end - time_ini))\n",
    "             )\n",
    "        return timer"
   ]
  },
  {
   "cell_type": "code",
   "execution_count": 21,
   "metadata": {},
   "outputs": [],
   "source": [
    "# Criando um decorador para apresentar o tempo\n",
    "\n",
    "@duracao\n",
    "def main():\n",
    "    for n in range(0, 10000000):\n",
    "        pass\n",
    "\n",
    "main()"
   ]
  },
  {
   "cell_type": "code",
   "execution_count": null,
   "metadata": {
    "scrolled": true
   },
   "outputs": [],
   "source": []
  },
  {
   "cell_type": "markdown",
   "metadata": {},
   "source": [
    "## Funções built-in python"
   ]
  },
  {
   "cell_type": "code",
   "execution_count": 23,
   "metadata": {},
   "outputs": [
    {
     "name": "stdout",
     "output_type": "stream",
     "text": [
      "-10\n",
      "10\n",
      "Soma normal: 0\n",
      "Soma absoluta: 20\n"
     ]
    }
   ],
   "source": [
    "num1 = -10\n",
    "num2 = 10\n",
    "\n",
    "print(num1)\n",
    "print(num2)\n",
    "print(\"Soma normal:\", num1 + num2)\n",
    "print(\"Soma absoluta:\", (abs(num1) + abs(num2)))"
   ]
  },
  {
   "cell_type": "code",
   "execution_count": 24,
   "metadata": {},
   "outputs": [
    {
     "name": "stdout",
     "output_type": "stream",
     "text": [
      "Potencia de 2 elevado a 3 = 8\n"
     ]
    }
   ],
   "source": [
    "# Exponencial\n",
    "\n",
    "x= 2\n",
    "y = 3\n",
    "\n",
    "print(\"Potencia de %d elevado a %d = %d\" %(x, y, x**y)) #%d valor inteiro, #s string #float"
   ]
  },
  {
   "cell_type": "code",
   "execution_count": 25,
   "metadata": {},
   "outputs": [
    {
     "name": "stdout",
     "output_type": "stream",
     "text": [
      "Potencia de 2 elevado a 3 = 8\n"
     ]
    }
   ],
   "source": [
    "# Exponencial\n",
    "\n",
    "x= 2\n",
    "y = 3\n",
    "\n",
    "print(\"Potencia de %d elevado a %d = %d\" %(x, y, pow(x,y))) #%d valor inteiro, #s string #float"
   ]
  },
  {
   "cell_type": "code",
   "execution_count": 26,
   "metadata": {},
   "outputs": [],
   "source": [
    "# Raiz quadrada\n",
    "\n",
    "import math"
   ]
  },
  {
   "cell_type": "code",
   "execution_count": null,
   "metadata": {},
   "outputs": [],
   "source": []
  }
 ],
 "metadata": {
  "kernelspec": {
   "display_name": "Python 3",
   "language": "python",
   "name": "python3"
  },
  "language_info": {
   "codemirror_mode": {
    "name": "ipython",
    "version": 3
   },
   "file_extension": ".py",
   "mimetype": "text/x-python",
   "name": "python",
   "nbconvert_exporter": "python",
   "pygments_lexer": "ipython3",
   "version": "3.7.6"
  }
 },
 "nbformat": 4,
 "nbformat_minor": 4
}

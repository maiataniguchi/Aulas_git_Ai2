{
 "cells": [
  {
   "cell_type": "markdown",
   "metadata": {},
   "source": [
    "# Funções"
   ]
  },
  {
   "cell_type": "markdown",
   "metadata": {},
   "source": [
    " ### Função sem parâmetros"
   ]
  },
  {
   "cell_type": "code",
   "execution_count": 28,
   "metadata": {},
   "outputs": [],
   "source": [
    "def func():\n",
    "    num = 6\n",
    "    print(\"Função retorna %d\" %num)"
   ]
  },
  {
   "cell_type": "code",
   "execution_count": 29,
   "metadata": {},
   "outputs": [
    {
     "name": "stdout",
     "output_type": "stream",
     "text": [
      "Função retorna 6\n"
     ]
    }
   ],
   "source": [
    " func()"
   ]
  },
  {
   "cell_type": "code",
   "execution_count": 31,
   "metadata": {},
   "outputs": [],
   "source": [
    "# Funções vazias podem ser úteis para fazer buscas ou incrementos\n",
    "def nada():\n",
    "    pass"
   ]
  },
  {
   "cell_type": "code",
   "execution_count": 32,
   "metadata": {},
   "outputs": [],
   "source": [
    "nada()"
   ]
  },
  {
   "cell_type": "markdown",
   "metadata": {},
   "source": [
    "### Funções com parâmetros"
   ]
  },
  {
   "cell_type": "code",
   "execution_count": 33,
   "metadata": {},
   "outputs": [],
   "source": [
    "def print_var(value):\n",
    "    print(\"Valor digitado foi:\", value)"
   ]
  },
  {
   "cell_type": "code",
   "execution_count": 34,
   "metadata": {},
   "outputs": [
    {
     "name": "stdout",
     "output_type": "stream",
     "text": [
      "Valor digitado foi: 6\n"
     ]
    }
   ],
   "source": [
    "print_var(6)"
   ]
  },
  {
   "cell_type": "markdown",
   "metadata": {},
   "source": [
    "### Funções com parâmetros fixos"
   ]
  },
  {
   "cell_type": "code",
   "execution_count": 35,
   "metadata": {},
   "outputs": [],
   "source": [
    "def two(a,b):\n",
    "    print(a+b)"
   ]
  },
  {
   "cell_type": "code",
   "execution_count": 36,
   "metadata": {},
   "outputs": [
    {
     "name": "stdout",
     "output_type": "stream",
     "text": [
      "7\n"
     ]
    }
   ],
   "source": [
    "two(2,5)"
   ]
  },
  {
   "cell_type": "code",
   "execution_count": 37,
   "metadata": {
    "scrolled": true
   },
   "outputs": [
    {
     "name": "stdout",
     "output_type": "stream",
     "text": [
      "3.4000000000000004\n"
     ]
    }
   ],
   "source": [
    "two(1.6, 1.8)"
   ]
  },
  {
   "cell_type": "code",
   "execution_count": 39,
   "metadata": {},
   "outputs": [
    {
     "name": "stdout",
     "output_type": "stream",
     "text": [
      "Minha casa\n"
     ]
    }
   ],
   "source": [
    "two(\"Minha\", \" casa\") # ele identifica se é string e concatena em vez de somar no caso de float e int"
   ]
  },
  {
   "cell_type": "code",
   "execution_count": 45,
   "metadata": {},
   "outputs": [],
   "source": [
    "# Alterar ordem de parâmetros\n",
    "\n",
    "def two(a,b):\n",
    "    print(a-b)"
   ]
  },
  {
   "cell_type": "code",
   "execution_count": 47,
   "metadata": {},
   "outputs": [
    {
     "name": "stdout",
     "output_type": "stream",
     "text": [
      "2\n"
     ]
    }
   ],
   "source": [
    "two(3,1)"
   ]
  },
  {
   "cell_type": "code",
   "execution_count": 48,
   "metadata": {},
   "outputs": [
    {
     "name": "stdout",
     "output_type": "stream",
     "text": [
      "2\n"
     ]
    }
   ],
   "source": [
    "# Pode-se inverter a ordem de declarar os parâmetro desde que eles sejam nomeados:\n",
    "\n",
    "two(b=1, a=3)"
   ]
  },
  {
   "cell_type": "markdown",
   "metadata": {},
   "source": [
    "### Função com parâmetros arbitrários"
   ]
  },
  {
   "cell_type": "code",
   "execution_count": 40,
   "metadata": {},
   "outputs": [],
   "source": [
    "def func_arg(*args):\n",
    "    print('Argumentos: ', args)\n",
    "    print(type(args))"
   ]
  },
  {
   "cell_type": "code",
   "execution_count": 42,
   "metadata": {},
   "outputs": [
    {
     "name": "stdout",
     "output_type": "stream",
     "text": [
      "Argumentos:  (1, 2, 3)\n",
      "<class 'tuple'>\n",
      "None\n"
     ]
    }
   ],
   "source": [
    "print(func_arg(1, 2, 3))"
   ]
  },
  {
   "cell_type": "code",
   "execution_count": 43,
   "metadata": {},
   "outputs": [
    {
     "name": "stdout",
     "output_type": "stream",
     "text": [
      "Argumentos:  ('hubia',)\n",
      "<class 'tuple'>\n"
     ]
    }
   ],
   "source": [
    "func_arg(\"hubia\") # imprime o argumento sem necessidade de declarar"
   ]
  },
  {
   "cell_type": "code",
   "execution_count": 44,
   "metadata": {},
   "outputs": [
    {
     "name": "stdout",
     "output_type": "stream",
     "text": [
      "Argumentos:  ('hubia', 24, True, ['casa', 7, 1.4])\n",
      "<class 'tuple'>\n"
     ]
    }
   ],
   "source": [
    "func_arg(\"hubia\", 24, 4<7, [\"casa\", 7, 1.4])"
   ]
  },
  {
   "cell_type": "code",
   "execution_count": 50,
   "metadata": {},
   "outputs": [],
   "source": [
    "def func_arg(*args, next):\n",
    "    print('Argumentos: ', args)\n",
    "    print(next)"
   ]
  },
  {
   "cell_type": "code",
   "execution_count": 51,
   "metadata": {},
   "outputs": [
    {
     "name": "stdout",
     "output_type": "stream",
     "text": [
      "Argumentos:  (3.2, 'String')\n",
      "30\n"
     ]
    }
   ],
   "source": [
    "func_arg(3.2, \"String\", next=30)"
   ]
  },
  {
   "cell_type": "code",
   "execution_count": 52,
   "metadata": {},
   "outputs": [
    {
     "name": "stdout",
     "output_type": "stream",
     "text": [
      "Argumentos:  ()\n",
      "Nova_declaracao\n"
     ]
    }
   ],
   "source": [
    "func_arg(next=\"Nova_declaracao\") "
   ]
  },
  {
   "cell_type": "code",
   "execution_count": 54,
   "metadata": {},
   "outputs": [],
   "source": [
    "# É possível assumir valores dentro da função independente do next\n",
    "def func(valor, nome=\"Aula func\"):\n",
    "    print(nome, valor)"
   ]
  },
  {
   "cell_type": "code",
   "execution_count": 56,
   "metadata": {},
   "outputs": [
    {
     "name": "stdout",
     "output_type": "stream",
     "text": [
      "Nova 3\n"
     ]
    }
   ],
   "source": [
    "func(3, \"Nova\")"
   ]
  },
  {
   "cell_type": "code",
   "execution_count": 57,
   "metadata": {},
   "outputs": [],
   "source": [
    "def func(**args): #entende que é um dicionário\n",
    "    print(type(args))\n",
    "    print(args)\n",
    "    print(args[\"Valor\"])"
   ]
  },
  {
   "cell_type": "code",
   "execution_count": 58,
   "metadata": {},
   "outputs": [
    {
     "name": "stdout",
     "output_type": "stream",
     "text": [
      "<class 'dict'>\n",
      "{'Valor': '200', 'operacao': 'Soma', 'resultado': '20'}\n",
      "200\n"
     ]
    }
   ],
   "source": [
    "func(Valor=\"200\", operacao=\"Soma\", resultado=\"20\")"
   ]
  },
  {
   "cell_type": "markdown",
   "metadata": {},
   "source": [
    "### Função como parâmetro para outra função"
   ]
  },
  {
   "cell_type": "code",
   "execution_count": 59,
   "metadata": {},
   "outputs": [],
   "source": [
    "def imprime(a):\n",
    "    print(a)\n",
    "    \n",
    "def executa(func, b):\n",
    "    func(b+15)"
   ]
  },
  {
   "cell_type": "code",
   "execution_count": 61,
   "metadata": {},
   "outputs": [
    {
     "name": "stdout",
     "output_type": "stream",
     "text": [
      "<class 'function'>\n",
      "37\n"
     ]
    }
   ],
   "source": [
    "recebe = imprime\n",
    "print(type(recebe))\n",
    "executa(recebe,22)"
   ]
  },
  {
   "cell_type": "markdown",
   "metadata": {},
   "source": [
    "### Funções que retornam valores \"return\""
   ]
  },
  {
   "cell_type": "code",
   "execution_count": 63,
   "metadata": {},
   "outputs": [],
   "source": [
    "def sub(a,b):\n",
    "    return a - b"
   ]
  },
  {
   "cell_type": "code",
   "execution_count": 65,
   "metadata": {},
   "outputs": [
    {
     "name": "stdout",
     "output_type": "stream",
     "text": [
      "O resultado da subtração é  2\n"
     ]
    }
   ],
   "source": [
    "subtracao = sub(4,2)\n",
    "print(\"O resultado da subtração é \", subtracao)"
   ]
  },
  {
   "cell_type": "code",
   "execution_count": 71,
   "metadata": {},
   "outputs": [],
   "source": [
    "# Comprimento de uma palavra ou número\n",
    "\n",
    "def len_num(numero):\n",
    "    num_texto = str(numero)\n",
    "    return len(num_texto)"
   ]
  },
  {
   "cell_type": "code",
   "execution_count": 72,
   "metadata": {},
   "outputs": [],
   "source": [
    "num1 = 20\n",
    "num2 = 2022\n",
    "\n",
    "tam1 = len_num(num1)\n",
    "tam2 = len_num(num2)"
   ]
  },
  {
   "cell_type": "code",
   "execution_count": 73,
   "metadata": {},
   "outputs": [
    {
     "name": "stdout",
     "output_type": "stream",
     "text": [
      "O número 20 possui 4 números\n",
      "O número 2022 possui 4 números\n"
     ]
    }
   ],
   "source": [
    "print(\"O número %d possui %d números\" %(num1, tam2))\n",
    "print(\"O número %d possui %d números\" %(num2, tam2))"
   ]
  },
  {
   "cell_type": "code",
   "execution_count": 74,
   "metadata": {},
   "outputs": [
    {
     "name": "stdout",
     "output_type": "stream",
     "text": [
      "A palavra patagonia possui 9 letras\n"
     ]
    }
   ],
   "source": [
    "pal = \"patagonia\"\n",
    "\n",
    "pal1 = len_num(pal)\n",
    "print(\"A palavra %s possui %d letras\" %(pal, pal1))"
   ]
  },
  {
   "cell_type": "code",
   "execution_count": 75,
   "metadata": {},
   "outputs": [],
   "source": [
    "# Retornando múltiplos valores\n",
    "\n",
    "def ret_valores():\n",
    "    return 1,2,3"
   ]
  },
  {
   "cell_type": "code",
   "execution_count": 76,
   "metadata": {},
   "outputs": [
    {
     "name": "stdout",
     "output_type": "stream",
     "text": [
      "(1, 2, 3)\n",
      "<class 'tuple'>\n"
     ]
    }
   ],
   "source": [
    "val = ret_valores()\n",
    "print(val)\n",
    "print(type(val))"
   ]
  },
  {
   "cell_type": "code",
   "execution_count": 79,
   "metadata": {},
   "outputs": [],
   "source": [
    "# Valores individuais\n",
    "\n",
    "def ret_valores(x, y, z):\n",
    "    x += x\n",
    "    y += y\n",
    "    z += z\n",
    "    return x, y, z"
   ]
  },
  {
   "cell_type": "code",
   "execution_count": 82,
   "metadata": {},
   "outputs": [
    {
     "name": "stdout",
     "output_type": "stream",
     "text": [
      "6 12 18\n"
     ]
    }
   ],
   "source": [
    "x, y, z = ret_valores(3, 6, 9)\n",
    "print(x, y, z)"
   ]
  },
  {
   "cell_type": "code",
   "execution_count": 83,
   "metadata": {},
   "outputs": [
    {
     "data": {
      "text/plain": [
       "(6, 12, 18)"
      ]
     },
     "execution_count": 83,
     "metadata": {},
     "output_type": "execute_result"
    }
   ],
   "source": [
    "a = ret_valores(3, 6, 9)\n",
    "a"
   ]
  },
  {
   "cell_type": "markdown",
   "metadata": {},
   "source": [
    "## Mais sobre funções lambda"
   ]
  },
  {
   "cell_type": "code",
   "execution_count": 90,
   "metadata": {},
   "outputs": [
    {
     "name": "stdout",
     "output_type": "stream",
     "text": [
      "15\n"
     ]
    }
   ],
   "source": [
    "soma = lambda x: x + 10 # soma +10 na função que o lambda recebe como parâmetro\n",
    "val = soma(5)\n",
    "print(val)"
   ]
  },
  {
   "cell_type": "code",
   "execution_count": 91,
   "metadata": {},
   "outputs": [
    {
     "name": "stdout",
     "output_type": "stream",
     "text": [
      "9\n"
     ]
    }
   ],
   "source": [
    "# Lambda com argumentos\n",
    "\n",
    "mult = lambda x,y: x*y\n",
    "val2 = mult(3,3)\n",
    "print(val2)"
   ]
  },
  {
   "cell_type": "code",
   "execution_count": 92,
   "metadata": {},
   "outputs": [
    {
     "name": "stdout",
     "output_type": "stream",
     "text": [
      "15\n"
     ]
    }
   ],
   "source": [
    "soma = lambda x: x + 10 \n",
    "new = soma(5)\n",
    "print(new)"
   ]
  },
  {
   "cell_type": "code",
   "execution_count": 93,
   "metadata": {},
   "outputs": [
    {
     "ename": "TypeError",
     "evalue": "<lambda>() missing 2 required positional arguments: 'x' and 'y'",
     "output_type": "error",
     "traceback": [
      "\u001b[0;31m---------------------------------------------------------------------------\u001b[0m",
      "\u001b[0;31mTypeError\u001b[0m                                 Traceback (most recent call last)",
      "\u001b[0;32m<ipython-input-93-df12891bc919>\u001b[0m in \u001b[0;36m<module>\u001b[0;34m\u001b[0m\n\u001b[0;32m----> 1\u001b[0;31m \u001b[0mval2\u001b[0m \u001b[0;34m=\u001b[0m \u001b[0mmult\u001b[0m\u001b[0;34m(\u001b[0m\u001b[0;34m)\u001b[0m\u001b[0;34m\u001b[0m\u001b[0;34m\u001b[0m\u001b[0m\n\u001b[0m\u001b[1;32m      2\u001b[0m \u001b[0;34m\u001b[0m\u001b[0m\n\u001b[1;32m      3\u001b[0m \u001b[0mresult\u001b[0m \u001b[0;34m=\u001b[0m \u001b[0mval2\u001b[0m\u001b[0;34m(\u001b[0m\u001b[0;36m10\u001b[0m\u001b[0;34m)\u001b[0m\u001b[0;34m\u001b[0m\u001b[0;34m\u001b[0m\u001b[0m\n",
      "\u001b[0;31mTypeError\u001b[0m: <lambda>() missing 2 required positional arguments: 'x' and 'y'"
     ]
    }
   ],
   "source": [
    "val2 = mult()\n",
    "\n",
    "result = val2(10)"
   ]
  },
  {
   "cell_type": "markdown",
   "metadata": {},
   "source": [
    "### Funções recursivas"
   ]
  },
  {
   "cell_type": "code",
   "execution_count": 94,
   "metadata": {},
   "outputs": [],
   "source": [
    "# Contar até 10\n",
    "\n",
    "def imprime_num(num):\n",
    "    print(num)\n",
    "    if num >= 10:\n",
    "        return\n",
    "    imprime_num(num + 1)"
   ]
  },
  {
   "cell_type": "code",
   "execution_count": 95,
   "metadata": {},
   "outputs": [
    {
     "name": "stdout",
     "output_type": "stream",
     "text": [
      "0\n",
      "1\n",
      "2\n",
      "3\n",
      "4\n",
      "5\n",
      "6\n",
      "7\n",
      "8\n",
      "9\n",
      "10\n"
     ]
    }
   ],
   "source": [
    "imprime_num(0)"
   ]
  },
  {
   "cell_type": "code",
   "execution_count": 96,
   "metadata": {},
   "outputs": [],
   "source": [
    "def imprime_str(texto, indice):\n",
    "    if indice == len(texto):\n",
    "        return\n",
    "    print(texto[indice])\n",
    "    imprime_str(texto, indice+1) # soma +1 até que o numero do texto seja igual ao indice"
   ]
  },
  {
   "cell_type": "code",
   "execution_count": 99,
   "metadata": {},
   "outputs": [
    {
     "name": "stdout",
     "output_type": "stream",
     "text": [
      "y\n",
      "t\n",
      "o\n",
      "n\n"
     ]
    }
   ],
   "source": [
    "imprime_str(\"Clayton\", 3)"
   ]
  },
  {
   "cell_type": "code",
   "execution_count": 100,
   "metadata": {},
   "outputs": [],
   "source": [
    "# Função recursiva para calcular fatorial\n",
    "def fat(num):\n",
    "    if (num ==1):\n",
    "        return 1\n",
    "    return num * fat(num -1)"
   ]
  },
  {
   "cell_type": "code",
   "execution_count": 102,
   "metadata": {},
   "outputs": [
    {
     "data": {
      "text/plain": [
       "120"
      ]
     },
     "execution_count": 102,
     "metadata": {},
     "output_type": "execute_result"
    }
   ],
   "source": [
    "fat(5)"
   ]
  },
  {
   "cell_type": "markdown",
   "metadata": {},
   "source": [
    "### Função aninhadas (nested functions)"
   ]
  },
  {
   "cell_type": "code",
   "execution_count": 105,
   "metadata": {},
   "outputs": [],
   "source": [
    "def pai():\n",
    "    def filho():\n",
    "        print(\"Sou o filho\")\n",
    "    filho()"
   ]
  },
  {
   "cell_type": "code",
   "execution_count": 106,
   "metadata": {},
   "outputs": [
    {
     "name": "stdout",
     "output_type": "stream",
     "text": [
      "Sou o filho\n"
     ]
    }
   ],
   "source": [
    "pai()"
   ]
  },
  {
   "cell_type": "code",
   "execution_count": 111,
   "metadata": {},
   "outputs": [],
   "source": [
    "# Exemplo pai e filho com calculadora\n",
    "\n",
    "def calc(num1, num2, op):\n",
    "    # retorno das funções de cáculo (filho)\n",
    "    def soma(a,b):\n",
    "        return a + b\n",
    "    def sub(a,b):\n",
    "        return a - b\n",
    "    def mult(a,b):\n",
    "        return a * b\n",
    "    def div(a,b):\n",
    "        return a / b\n",
    "    # retorno das funções de escolha\n",
    "    if (op == \"+\"):\n",
    "        return soma(num1, num2)\n",
    "    if (op == \"-\"):\n",
    "        return sub(num1, num2)\n",
    "    if (op == \"*\"):\n",
    "        return mult(num1, num2)\n",
    "    if (op == \"/\"):\n",
    "        return div(num1, num2)"
   ]
  },
  {
   "cell_type": "code",
   "execution_count": 109,
   "metadata": {},
   "outputs": [
    {
     "data": {
      "text/plain": [
       "10"
      ]
     },
     "execution_count": 109,
     "metadata": {},
     "output_type": "execute_result"
    }
   ],
   "source": [
    "calc(4,6,\"+\")"
   ]
  },
  {
   "cell_type": "code",
   "execution_count": 110,
   "metadata": {},
   "outputs": [
    {
     "ename": "TypeError",
     "evalue": "<lambda>() takes 1 positional argument but 2 were given",
     "output_type": "error",
     "traceback": [
      "\u001b[0;31m---------------------------------------------------------------------------\u001b[0m",
      "\u001b[0;31mTypeError\u001b[0m                                 Traceback (most recent call last)",
      "\u001b[0;32m<ipython-input-110-78ae333e4d5b>\u001b[0m in \u001b[0;36m<module>\u001b[0;34m\u001b[0m\n\u001b[0;32m----> 1\u001b[0;31m \u001b[0msoma\u001b[0m\u001b[0;34m(\u001b[0m\u001b[0;36m3\u001b[0m\u001b[0;34m,\u001b[0m\u001b[0;36m4\u001b[0m\u001b[0;34m)\u001b[0m\u001b[0;34m\u001b[0m\u001b[0;34m\u001b[0m\u001b[0m\n\u001b[0m",
      "\u001b[0;31mTypeError\u001b[0m: <lambda>() takes 1 positional argument but 2 were given"
     ]
    }
   ],
   "source": [
    "soma(3,4) # não é executada porque essa função existe somente dentro da função pai, ou seja, é uma função local"
   ]
  },
  {
   "cell_type": "markdown",
   "metadata": {},
   "source": [
    "### Decorators"
   ]
  },
  {
   "cell_type": "markdown",
   "metadata": {},
   "source": [
    "#### Substituimos uma função x por outra função Y que engloba a função x"
   ]
  },
  {
   "cell_type": "code",
   "execution_count": 116,
   "metadata": {},
   "outputs": [],
   "source": [
    "# Transformar em maiusculo\n",
    "\n",
    "def maiusculo(func):\n",
    "    def aninhada():\n",
    "        return func().upper()\n",
    "    return aninhada"
   ]
  },
  {
   "cell_type": "code",
   "execution_count": 117,
   "metadata": {},
   "outputs": [],
   "source": [
    "# Criando o decorator\n",
    "\n",
    "@maiusculo\n",
    "def mostra_string():\n",
    "    return \"Estou trabalhando com decorator\""
   ]
  },
  {
   "cell_type": "code",
   "execution_count": 118,
   "metadata": {},
   "outputs": [
    {
     "name": "stdout",
     "output_type": "stream",
     "text": [
      "ESTOU TRABALHANDO COM DECORATOR\n"
     ]
    }
   ],
   "source": [
    "# Chamando a função de retorno da string\n",
    "\n",
    "string = mostra_string()\n",
    "print(string)"
   ]
  },
  {
   "cell_type": "code",
   "execution_count": 121,
   "metadata": {},
   "outputs": [],
   "source": [
    "# Utilizando parâmetros\n",
    "\n",
    "def maiusculo(func):\n",
    "    def aninhada(str1, str2):\n",
    "        return func(str1, str2).upper()\n",
    "    return aninhada"
   ]
  },
  {
   "cell_type": "code",
   "execution_count": 122,
   "metadata": {},
   "outputs": [],
   "source": [
    "@maiusculo\n",
    "def concatena(str1, str2):\n",
    "    return str1 + str2"
   ]
  },
  {
   "cell_type": "code",
   "execution_count": 124,
   "metadata": {},
   "outputs": [
    {
     "name": "stdout",
     "output_type": "stream",
     "text": [
      "AULA FUNÇÕES 2022\n"
     ]
    }
   ],
   "source": [
    "string = concatena(\"Aula funções\", \" 2022\")\n",
    "print(string)"
   ]
  },
  {
   "cell_type": "code",
   "execution_count": 125,
   "metadata": {},
   "outputs": [],
   "source": [
    "# Retorna com decorator o texto entre parênteses\n",
    "\n",
    "def maiusculo(func):\n",
    "    def aninhada(texto):\n",
    "        return func(texto).upper()\n",
    "    return aninhada"
   ]
  },
  {
   "cell_type": "code",
   "execution_count": 126,
   "metadata": {},
   "outputs": [],
   "source": [
    "def parenteses(func):\n",
    "    def aninhada(texto):\n",
    "        return \"(\" + func(texto) + \")\"\n",
    "    return aninhada"
   ]
  },
  {
   "cell_type": "code",
   "execution_count": 127,
   "metadata": {},
   "outputs": [],
   "source": [
    "@maiusculo\n",
    "@parenteses\n",
    "\n",
    "def formatando(texto):\n",
    "    return texto"
   ]
  },
  {
   "cell_type": "code",
   "execution_count": 128,
   "metadata": {
    "scrolled": true
   },
   "outputs": [
    {
     "name": "stdout",
     "output_type": "stream",
     "text": [
      "(OLHA SÓ O QUE FIZEMOS)\n"
     ]
    }
   ],
   "source": [
    "print(formatando(\"Olha só o que fizemos\"))"
   ]
  },
  {
   "cell_type": "markdown",
   "metadata": {},
   "source": [
    "# Extras"
   ]
  },
  {
   "cell_type": "code",
   "execution_count": null,
   "metadata": {},
   "outputs": [],
   "source": [
    "## Anotações: \n",
    "# A nova função declarada no @decorator vai ser usada como parâmetro da função global para executar a função local aninhada,\n",
    "\n",
    "\n",
    "## Def. \n",
    "## O método atual para transformar funções e métodos (por exemplo, declarando-os como classes ou métodos estáticos)\n",
    "# é complicado e pode levar a código que é difícil de entender. Idealmente, essas transformações devem ser feitas\n",
    "# no mesmo ponto do código onde a própria declaração é feita.\n",
    "# Esta PEP introduz uma nova sintaxe para transformações de uma função ou declaração de métodos.\n",
    "\n",
    "#Daí nasceu o decorator, que nada mais é que um método para envolver uma função, modificando seu comportamento."
   ]
  },
  {
   "cell_type": "code",
   "execution_count": 129,
   "metadata": {},
   "outputs": [
    {
     "name": "stdout",
     "output_type": "stream",
     "text": [
      "Estou antes da execução da função passada como argumento\n",
      "Sou um belo argumento!\n",
      "Estou depois da execução da função passada como argumento\n"
     ]
    }
   ],
   "source": [
    "def decorator(funcao):\n",
    "    def wrapper():\n",
    "        print (\"Estou antes da execução da função passada como argumento\")\n",
    "        funcao()\n",
    "        print (\"Estou depois da execução da função passada como argumento\")\n",
    "\n",
    "    return wrapper\n",
    "\n",
    "def outra_funcao():\n",
    "    print (\"Sou um belo argumento!\")\n",
    "\n",
    "funcao_decorada = decorator(outra_funcao)\n",
    "funcao_decorada()"
   ]
  },
  {
   "cell_type": "markdown",
   "metadata": {},
   "source": [
    "### Com a função decorator pode-se adicionar qualquer comportamento antes e depois da execução de uma função qualquer."
   ]
  },
  {
   "cell_type": "markdown",
   "metadata": {},
   "source": [
    "## Calculando o tempo de execução de determinada função com decotaror"
   ]
  },
  {
   "cell_type": "code",
   "execution_count": 131,
   "metadata": {},
   "outputs": [
    {
     "name": "stdout",
     "output_type": "stream",
     "text": [
      "[main] Tempo total de execução: 0.17592310905456543\n"
     ]
    }
   ],
   "source": [
    "import time\n",
    "\n",
    "# Define nosso decorator\n",
    "def calcula_duracao(funcao):\n",
    "    def wrapper():\n",
    "        # Calcula o tempo de execução\n",
    "        tempo_inicial = time.time()\n",
    "        funcao()\n",
    "        tempo_final = time.time()\n",
    "\n",
    "        # Formata a mensagem que será mostrada na tela\n",
    "        print(\"[{funcao}] Tempo total de execução: {tempo_total}\".format(\n",
    "            funcao=funcao.__name__,\n",
    "            tempo_total=str(tempo_final - tempo_inicial))\n",
    "        )\n",
    "\n",
    "    return wrapper\n",
    "\n",
    "# Decora a função com o decorator\n",
    "@calcula_duracao\n",
    "def main():\n",
    "    for n in range(0, 10000000):\n",
    "        pass\n",
    "\n",
    "# Executa a função main\n",
    "main()\n",
    "\n",
    "# A função principal tem apenas um loop que não faz nada, apenas itera n de 0 à 10000000, o que dura um certo tempo.\n",
    "# Marcamos o tempo de início e de término da execução com o módulo time e então subtraímos o final pelo inicial,\n",
    "# dando o tempo total de execuções."
   ]
  },
  {
   "cell_type": "markdown",
   "metadata": {},
   "source": [
    "## Escopo de variáveis"
   ]
  },
  {
   "cell_type": "code",
   "execution_count": 1,
   "metadata": {},
   "outputs": [
    {
     "name": "stdout",
     "output_type": "stream",
     "text": [
      "32\n"
     ]
    }
   ],
   "source": [
    "# Trasnformando em uma variável global\n",
    "var = 10\n",
    "def func():\n",
    "        global var\n",
    "        var = 32\n",
    "         \n",
    "func()\n",
    "print(var)"
   ]
  },
  {
   "cell_type": "code",
   "execution_count": null,
   "metadata": {},
   "outputs": [],
   "source": [
    "# Exemplo 1\n",
    "\n",
    "def pai():\n",
    "    val_pai = 30\n",
    "    def filho():\n",
    "        print(val_pai)\n",
    "    filho()\n",
    "    \n",
    "pai()"
   ]
  },
  {
   "cell_type": "code",
   "execution_count": 12,
   "metadata": {},
   "outputs": [
    {
     "name": "stdout",
     "output_type": "stream",
     "text": [
      "22\n",
      "30\n"
     ]
    }
   ],
   "source": [
    "# Exemplo 2\n",
    "\n",
    "def pai():\n",
    "    val_pai = 30\n",
    "    def filho():\n",
    "        val_pai = 22\n",
    "        print(val_pai)\n",
    "    filho()\n",
    "    print(val_pai)\n",
    "    \n",
    "pai()"
   ]
  },
  {
   "cell_type": "code",
   "execution_count": 146,
   "metadata": {},
   "outputs": [
    {
     "name": "stdout",
     "output_type": "stream",
     "text": [
      "Print do filho:  22\n",
      "Print do pai:  22\n"
     ]
    }
   ],
   "source": [
    "# Exemplo 2\n",
    "\n",
    "def pai():\n",
    "    val_pai = 30\n",
    "    def filho():\n",
    "        nonlocal val_pai # diz que a variavel é local e não global\n",
    "        val_pai = 22\n",
    "        print(\"Print do filho: \", val_pai)\n",
    "    filho()\n",
    "    print(\"Print do pai: \", val_pai)\n",
    "    \n",
    "pai()\n",
    "\n",
    "# Declarou como 30, mas a partir do momento que foi declarada como 22 no filho o valor global virou 22 tbm."
   ]
  },
  {
   "cell_type": "code",
   "execution_count": 148,
   "metadata": {},
   "outputs": [
    {
     "name": "stdout",
     "output_type": "stream",
     "text": [
      "10\n"
     ]
    }
   ],
   "source": [
    "var = 10\n",
    "print(var)\n",
    "del var\n",
    "# print(var)"
   ]
  },
  {
   "cell_type": "code",
   "execution_count": 15,
   "metadata": {},
   "outputs": [
    {
     "name": "stdout",
     "output_type": "stream",
     "text": [
      "[10, 20, 30]\n"
     ]
    }
   ],
   "source": [
    "array = [10, 20, 30]\n",
    "print(array)"
   ]
  },
  {
   "cell_type": "code",
   "execution_count": 16,
   "metadata": {},
   "outputs": [
    {
     "data": {
      "text/plain": [
       "[20, 30]"
      ]
     },
     "execution_count": 16,
     "metadata": {},
     "output_type": "execute_result"
    }
   ],
   "source": [
    "del array[0]\n",
    "array"
   ]
  },
  {
   "cell_type": "markdown",
   "metadata": {},
   "source": [
    "#### Calcular o tempo de execução de uma determinada função"
   ]
  },
  {
   "cell_type": "code",
   "execution_count": 150,
   "metadata": {},
   "outputs": [],
   "source": [
    "import time\n",
    "\n",
    "def duracao(func):\n",
    "    def timer():\n",
    "        time_ini = time.time()\n",
    "        func()\n",
    "        time_end = time.time()\n",
    "        \n",
    "        print(\"[{func}] Tempo total de execução: {tempo_total}\". format(\n",
    "        func = func.__name__,\n",
    "        tempo_total = str(time_end - time_ini))\n",
    "             )\n",
    "        \n",
    "    return timer"
   ]
  },
  {
   "cell_type": "code",
   "execution_count": 144,
   "metadata": {},
   "outputs": [
    {
     "name": "stdout",
     "output_type": "stream",
     "text": [
      "[main] Tempo total de execução: 0.1514604091644287\n"
     ]
    }
   ],
   "source": [
    "# Criando um decorador para apresentar o tempo\n",
    "\n",
    "@duracao\n",
    "def main():\n",
    "    for n in range(0, 10000000):\n",
    "        pass\n",
    "    \n",
    "main()"
   ]
  },
  {
   "cell_type": "markdown",
   "metadata": {},
   "source": [
    "## Funções built-in python"
   ]
  },
  {
   "cell_type": "code",
   "execution_count": 151,
   "metadata": {},
   "outputs": [
    {
     "name": "stdout",
     "output_type": "stream",
     "text": [
      "-10\n",
      "10\n",
      "Soma normal: 0\n",
      "Soma absoluta: 20\n"
     ]
    }
   ],
   "source": [
    "num1 = -10\n",
    "num2 = 10\n",
    "\n",
    "print(num1)\n",
    "print(num2)\n",
    "print(\"Soma normal:\", num1 + num2)\n",
    "print(\"Soma absoluta:\", (abs(num1) + abs(num2)))"
   ]
  },
  {
   "cell_type": "code",
   "execution_count": 152,
   "metadata": {},
   "outputs": [
    {
     "name": "stdout",
     "output_type": "stream",
     "text": [
      "Potencia de 2 elevado a 3 = 8\n"
     ]
    }
   ],
   "source": [
    "# Exponencial\n",
    "\n",
    "x= 2\n",
    "y = 3\n",
    "\n",
    "print(\"Potencia de %d elevado a %d = %d\" %(x, y, x**y)) #%d valor inteiro, #s string #float"
   ]
  },
  {
   "cell_type": "code",
   "execution_count": 25,
   "metadata": {},
   "outputs": [
    {
     "name": "stdout",
     "output_type": "stream",
     "text": [
      "Potencia de 2 elevado a 3 = 8\n"
     ]
    }
   ],
   "source": [
    "# Exponencial\n",
    "\n",
    "x= 2\n",
    "y = 3\n",
    "\n",
    "print(\"Potencia de %d elevado a %d = %d\" %(x, y, pow(x,y))) #%d valor inteiro, #s string #float"
   ]
  },
  {
   "cell_type": "code",
   "execution_count": 153,
   "metadata": {},
   "outputs": [
    {
     "name": "stdout",
     "output_type": "stream",
     "text": [
      "5.0\n"
     ]
    }
   ],
   "source": [
    "# Raiz quadrada\n",
    "\n",
    "import math\n",
    "\n",
    "print(math.sqrt(25))"
   ]
  },
  {
   "cell_type": "code",
   "execution_count": 154,
   "metadata": {},
   "outputs": [
    {
     "name": "stdout",
     "output_type": "stream",
     "text": [
      "2.345\n"
     ]
    }
   ],
   "source": [
    "# Arredondamento\n",
    "\n",
    "print(round(2.345423, 3))"
   ]
  },
  {
   "cell_type": "code",
   "execution_count": 156,
   "metadata": {},
   "outputs": [
    {
     "name": "stdout",
     "output_type": "stream",
     "text": [
      "Arredondando para baixo:  2\n",
      "3\n"
     ]
    }
   ],
   "source": [
    "from math import floor, ceil\n",
    "\n",
    "print(\"Arredondando para baixo: \", floor(2.8348)) # arredonda pra baixo\n",
    "print(ceil(2.12344)) # arredonda pra cima"
   ]
  },
  {
   "cell_type": "code",
   "execution_count": 157,
   "metadata": {},
   "outputs": [
    {
     "name": "stdout",
     "output_type": "stream",
     "text": [
      "(2, 2)\n"
     ]
    }
   ],
   "source": [
    "# Resto de divisão\n",
    "\n",
    "print(divmod(10, 4))"
   ]
  },
  {
   "cell_type": "markdown",
   "metadata": {},
   "source": [
    "## Trabalhando com caracteres"
   ]
  },
  {
   "cell_type": "code",
   "execution_count": 159,
   "metadata": {},
   "outputs": [
    {
     "name": "stdout",
     "output_type": "stream",
     "text": [
      "O número 70 se tornou agora o valor F\n"
     ]
    }
   ],
   "source": [
    "num = 70\n",
    "carac = chr(num)\n",
    "\n",
    "\n",
    "print(\"O número %d se tornou agora o valor %s\" %(num, carac))"
   ]
  },
  {
   "cell_type": "code",
   "execution_count": 160,
   "metadata": {},
   "outputs": [
    {
     "name": "stdout",
     "output_type": "stream",
     "text": [
      "1 - \u0001\n",
      "2 - \u0002\n",
      "3 - \u0003\n",
      "4 - \u0004\n",
      "5 - \u0005\n",
      "6 - \u0006\n",
      "7 - \u0007\n",
      "8 - \b\n",
      "9 - \t\n",
      "10 - \n",
      "\n",
      "11 - \u000b",
      "\n",
      "12 - \f",
      "\n",
      "13 - \r\n",
      "14 - \u000e\n",
      "15 - \u000f\n",
      "16 - \u0010\n",
      "17 - \u0011\n",
      "18 - \u0012\n",
      "19 - \u0013\n",
      "20 - \u0014\n",
      "21 - \u0015\n",
      "22 - \u0016\n",
      "23 - \u0017\n",
      "24 - \u0018\n",
      "25 - \u0019\n",
      "26 - \u001a\n",
      "27 - \u001b\n",
      "28 - \u001c",
      "\n",
      "29 - \u001d",
      "\n",
      "30 - \u001e",
      "\n",
      "31 - \u001f\n",
      "32 -  \n",
      "33 - !\n",
      "34 - \"\n",
      "35 - #\n",
      "36 - $\n",
      "37 - %\n",
      "38 - &\n",
      "39 - '\n",
      "40 - (\n",
      "41 - )\n",
      "42 - *\n",
      "43 - +\n",
      "44 - ,\n",
      "45 - -\n",
      "46 - .\n",
      "47 - /\n",
      "48 - 0\n",
      "49 - 1\n",
      "50 - 2\n",
      "51 - 3\n",
      "52 - 4\n",
      "53 - 5\n",
      "54 - 6\n",
      "55 - 7\n",
      "56 - 8\n",
      "57 - 9\n",
      "58 - :\n",
      "59 - ;\n",
      "60 - <\n",
      "61 - =\n",
      "62 - >\n",
      "63 - ?\n",
      "64 - @\n",
      "65 - A\n",
      "66 - B\n",
      "67 - C\n",
      "68 - D\n",
      "69 - E\n",
      "70 - F\n",
      "71 - G\n",
      "72 - H\n",
      "73 - I\n",
      "74 - J\n",
      "75 - K\n",
      "76 - L\n",
      "77 - M\n",
      "78 - N\n",
      "79 - O\n",
      "80 - P\n",
      "81 - Q\n",
      "82 - R\n",
      "83 - S\n",
      "84 - T\n",
      "85 - U\n",
      "86 - V\n",
      "87 - W\n",
      "88 - X\n",
      "89 - Y\n",
      "90 - Z\n",
      "91 - [\n",
      "92 - \\\n",
      "93 - ]\n",
      "94 - ^\n",
      "95 - _\n",
      "96 - `\n",
      "97 - a\n",
      "98 - b\n",
      "99 - c\n"
     ]
    }
   ],
   "source": [
    "# Equivalente de caracteres\n",
    "\n",
    "for i in range(1,100):\n",
    "    carac = chr(i)\n",
    "    print(\"%d - %s\" %(i, carac), end=\"\\n\")"
   ]
  },
  {
   "cell_type": "markdown",
   "metadata": {},
   "source": [
    "## Funções para manipulações de texto"
   ]
  },
  {
   "cell_type": "code",
   "execution_count": 164,
   "metadata": {},
   "outputs": [
    {
     "name": "stdout",
     "output_type": "stream",
     "text": [
      "Olá Turma\n"
     ]
    }
   ],
   "source": [
    "# Primeira letra maiúscula\n",
    "texto = \"olá turma\"\n",
    "#print(texto.capitalize())\n",
    "\n",
    "print(texto.title())"
   ]
  },
  {
   "cell_type": "code",
   "execution_count": 163,
   "metadata": {},
   "outputs": [
    {
     "name": "stdout",
     "output_type": "stream",
     "text": [
      "ajwwwhjjashjayss heuaahakdgwgyws\n"
     ]
    }
   ],
   "source": [
    "texto = \"ajwWWHJjashJAYSS heuaahakdgWGYWS\"\n",
    "\n",
    "# print(texto.upper())\n",
    "\n",
    "#print(texto.lower())\n",
    "\n",
    "# Inverte maiusculo por minusculo\n",
    "print(texto.swapcase())"
   ]
  },
  {
   "cell_type": "code",
   "execution_count": 168,
   "metadata": {},
   "outputs": [
    {
     "name": "stdout",
     "output_type": "stream",
     "text": [
      "        342374        \n",
      "    342374    \n",
      "--------342374--------\n"
     ]
    }
   ],
   "source": [
    "### Centralizando\n",
    "\n",
    "texto = \"342374\"\n",
    "print(texto.center(22))\n",
    "print(texto.center(14))\n",
    "print(texto.center(22, \"-\"))"
   ]
  },
  {
   "cell_type": "code",
   "execution_count": 170,
   "metadata": {},
   "outputs": [
    {
     "name": "stdout",
     "output_type": "stream",
     "text": [
      "   342374\n",
      "342374   \n"
     ]
    }
   ],
   "source": [
    "# Ajustando à direita ou à esquerda\n",
    "\n",
    "print(texto.rjust(9))\n",
    "print(texto.ljust(9))"
   ]
  },
  {
   "cell_type": "code",
   "execution_count": 173,
   "metadata": {},
   "outputs": [
    {
     "name": "stdout",
     "output_type": "stream",
     "text": [
      "4\n"
     ]
    }
   ],
   "source": [
    "# Frequência\n",
    "\n",
    "texto = \"20938947202020\"\n",
    "print(texto.count(\"20\"))"
   ]
  },
  {
   "cell_type": "code",
   "execution_count": 181,
   "metadata": {},
   "outputs": [
    {
     "name": "stdout",
     "output_type": "stream",
     "text": [
      "3\n"
     ]
    }
   ],
   "source": [
    "texto = \"maiara\"\n",
    "print(texto.count(\"a\"))"
   ]
  },
  {
   "cell_type": "code",
   "execution_count": 182,
   "metadata": {},
   "outputs": [
    {
     "name": "stdout",
     "output_type": "stream",
     "text": [
      "False\n",
      "True\n"
     ]
    }
   ],
   "source": [
    "# Termina ou começa com caracter?\n",
    "\n",
    "print(texto.startswith(\"d\"))\n",
    "print(texto.endswith(\"a\"))"
   ]
  },
  {
   "cell_type": "code",
   "execution_count": 186,
   "metadata": {},
   "outputs": [
    {
     "name": "stdout",
     "output_type": "stream",
     "text": [
      "-1\n"
     ]
    }
   ],
   "source": [
    "pos2 = texto.find(\"x\")\n",
    "print(pos2)"
   ]
  },
  {
   "cell_type": "code",
   "execution_count": 185,
   "metadata": {
    "scrolled": true
   },
   "outputs": [
    {
     "name": "stdout",
     "output_type": "stream",
     "text": [
      "0\n"
     ]
    }
   ],
   "source": [
    "pos = texto.index(\"m\")\n",
    "print(pos)"
   ]
  },
  {
   "cell_type": "code",
   "execution_count": 187,
   "metadata": {},
   "outputs": [
    {
     "name": "stdout",
     "output_type": "stream",
     "text": [
      "Ola meu nome é Maiara\n"
     ]
    }
   ],
   "source": [
    "texto = \"Ol@ meu nome é M@i@r@\"\n",
    "new = texto.replace(\"@\", \"a\")\n",
    "print(new)"
   ]
  },
  {
   "cell_type": "code",
   "execution_count": 188,
   "metadata": {},
   "outputs": [
    {
     "name": "stdout",
     "output_type": "stream",
     "text": [
      "['Penso', ' logo existo', ' disse René Descartes']\n"
     ]
    }
   ],
   "source": [
    "# Dividir atraves do split\n",
    "\n",
    "texto = \"Penso, logo existo, disse René Descartes\"\n",
    "print(texto.split(\",\"))"
   ]
  },
  {
   "cell_type": "code",
   "execution_count": 189,
   "metadata": {},
   "outputs": [
    {
     "name": "stdout",
     "output_type": "stream",
     "text": [
      "False\n",
      "True\n",
      "True\n",
      "True\n",
      "True\n"
     ]
    }
   ],
   "source": [
    "print(\"abcde123\".isalpha()) # Contém apenas letras?\n",
    "print(\"abcde\".isalpha())\n",
    "print(\"abcde\".isalnum()) # Letras e numeros?\n",
    "print(\"123456\".isdecimal()) # Apenas números?\n",
    "print(\" \".isspace()) # Existe espaço em branco?"
   ]
  },
  {
   "cell_type": "markdown",
   "metadata": {},
   "source": [
    "## Mais um pouco de listas"
   ]
  },
  {
   "cell_type": "code",
   "execution_count": 198,
   "metadata": {},
   "outputs": [
    {
     "name": "stdout",
     "output_type": "stream",
     "text": [
      "[9, 7, 5, 5, 3, 2, 1]\n"
     ]
    }
   ],
   "source": [
    "# Ordenando listas\n",
    "\n",
    "lista = [2,5,7,3,9,1,5]\n",
    "#lista.sort()\n",
    "lista.sort(reverse=True) # ordem decrescente\n",
    "print(lista)"
   ]
  },
  {
   "cell_type": "code",
   "execution_count": 200,
   "metadata": {},
   "outputs": [
    {
     "name": "stdout",
     "output_type": "stream",
     "text": [
      "[5, 1, 9, 3, 7, 5, 2]\n"
     ]
    }
   ],
   "source": [
    "# Ordenando listas: reverse\n",
    "\n",
    "lista_rev = [2,5,7,3,9,1,5]\n",
    "lista_rev.reverse()\n",
    "print(lista_rev)"
   ]
  },
  {
   "cell_type": "code",
   "execution_count": 191,
   "metadata": {},
   "outputs": [
    {
     "name": "stdout",
     "output_type": "stream",
     "text": [
      "['a', 'd', 'x']\n"
     ]
    }
   ],
   "source": [
    "# Ordenando textos\n",
    "\n",
    "lista2 = [\"a\", \"x\", \"d\"]\n",
    "lista2.sort()\n",
    "print(lista2)"
   ]
  },
  {
   "cell_type": "code",
   "execution_count": 195,
   "metadata": {},
   "outputs": [
    {
     "name": "stdout",
     "output_type": "stream",
     "text": [
      "['kk', 'aaer', 'poiiuygufu']\n"
     ]
    }
   ],
   "source": [
    "# Ordenando do meu jeito\n",
    "\n",
    "def meu_jeito(valor):\n",
    "    return len(valor) # Vai ordenar pela quantidade de caracteres da palavra\n",
    "\n",
    "lista = [\"kk\", \"aaer\", \"poiiuygufu\"]\n",
    "lista.sort(key=meu_jeito)\n",
    "print(lista)"
   ]
  },
  {
   "cell_type": "code",
   "execution_count": 201,
   "metadata": {},
   "outputs": [],
   "source": [
    "# Lista com outras listas\n",
    "\n",
    "produto = [[\"Apto\", \"30\"],\n",
    "          [\"Carro\", \"10\"],\n",
    "          [\"Geladeira\", \"5\"]]"
   ]
  },
  {
   "cell_type": "code",
   "execution_count": 202,
   "metadata": {},
   "outputs": [
    {
     "name": "stdout",
     "output_type": "stream",
     "text": [
      "Apto 30\n",
      "Carro 10\n",
      "Geladeira 5\n"
     ]
    }
   ],
   "source": [
    "for produto, valor in produto:\n",
    "    print(produto, valor)"
   ]
  },
  {
   "cell_type": "code",
   "execution_count": 206,
   "metadata": {},
   "outputs": [
    {
     "name": "stdout",
     "output_type": "stream",
     "text": [
      "{'Maiara': 10, 'Taniguchi': 10}\n"
     ]
    }
   ],
   "source": [
    "# Dicionario com listas\n",
    "\n",
    "nome = (\"Maiara\", \"Taniguchi\")\n",
    "dic = dict.fromkeys(nome, 10)\n",
    "print(dic)"
   ]
  },
  {
   "cell_type": "markdown",
   "metadata": {},
   "source": [
    "## Funções com data e hora"
   ]
  },
  {
   "cell_type": "code",
   "execution_count": 208,
   "metadata": {},
   "outputs": [
    {
     "name": "stdout",
     "output_type": "stream",
     "text": [
      "Data e hora:  2022-11-03 23:15:07.976480\n",
      "Data:  2022-11-03\n",
      "Hora:  23:15:07.976480\n"
     ]
    }
   ],
   "source": [
    "import datetime\n",
    "\n",
    "full_data = datetime.datetime.now()\n",
    "\n",
    "data = full_data.date()\n",
    "hora = full_data.time()\n",
    "\n",
    "print(\"Data e hora: \", full_data)\n",
    "print(\"Data: \", data)\n",
    "print(\"Hora: \", hora)"
   ]
  },
  {
   "cell_type": "code",
   "execution_count": 210,
   "metadata": {},
   "outputs": [
    {
     "name": "stdout",
     "output_type": "stream",
     "text": [
      "Dia:  3\n",
      "M:  11\n",
      "Y:  2022\n",
      "Hour:  23\n",
      "Min:  15\n",
      "Sec:  7\n"
     ]
    }
   ],
   "source": [
    "print('Dia: ', full_data.day)\n",
    "print('M: ', full_data.month)\n",
    "print('Y: ', full_data.year)\n",
    "print('Hour: ', full_data.hour)\n",
    "print('Min: ', full_data.minute)\n",
    "print('Sec: ', full_data.second)\n"
   ]
  },
  {
   "cell_type": "code",
   "execution_count": 212,
   "metadata": {},
   "outputs": [
    {
     "name": "stdout",
     "output_type": "stream",
     "text": [
      "2022-09-27\n"
     ]
    }
   ],
   "source": [
    "# Data desejada\n",
    "\n",
    "data = datetime.date(day=27, month=9, year=2022)\n",
    "print(data)"
   ]
  },
  {
   "cell_type": "code",
   "execution_count": 213,
   "metadata": {},
   "outputs": [
    {
     "name": "stdout",
     "output_type": "stream",
     "text": [
      "15:19:22\n"
     ]
    }
   ],
   "source": [
    "hora = datetime.time(15,19,22)\n",
    "print(hora)"
   ]
  },
  {
   "cell_type": "code",
   "execution_count": 214,
   "metadata": {},
   "outputs": [
    {
     "name": "stdout",
     "output_type": "stream",
     "text": [
      "03/11/22 23:26:02\n"
     ]
    }
   ],
   "source": [
    "# Formatando hora\n",
    "\n",
    "now = datetime.datetime.now()\n",
    "now_time = now.strftime(\"%d/%m/%y %H:%M:%S\")\n",
    "print(now_time)"
   ]
  },
  {
   "cell_type": "code",
   "execution_count": 218,
   "metadata": {},
   "outputs": [
    {
     "name": "stdout",
     "output_type": "stream",
     "text": [
      "Tuesday -Tue\n",
      "September -Sep\n",
      "23 -11\n",
      "11 -PM\n"
     ]
    }
   ],
   "source": [
    "# Tratando valores da semana\n",
    "\n",
    "data = datetime.datetime(2022, 9, 27, 23, 10, 17)\n",
    "print(data.strftime(\"%A -%a\"))\n",
    "print(data.strftime(\"%B -%b\"))\n",
    "print(data.strftime(\"%H -%I\"))\n",
    "print(data.strftime(\"%I -%p\"))"
   ]
  },
  {
   "cell_type": "code",
   "execution_count": 219,
   "metadata": {},
   "outputs": [
    {
     "name": "stdout",
     "output_type": "stream",
     "text": [
      "17569 days, 0:00:00\n",
      "<class 'datetime.timedelta'>\n"
     ]
    }
   ],
   "source": [
    "# Substração de datas\n",
    "\n",
    "data1 = datetime.datetime(1974, 9, 27)\n",
    "data2 = datetime.datetime(2022, 11, 3)\n",
    "dif = data2 - data1\n",
    "print(dif)\n",
    "print(type(dif))"
   ]
  },
  {
   "cell_type": "code",
   "execution_count": 222,
   "metadata": {},
   "outputs": [
    {
     "name": "stdout",
     "output_type": "stream",
     "text": [
      "Digite a data no formato dd/mm/aa: 03/05/90\n",
      "1990-05-03 00:00:00\n"
     ]
    }
   ],
   "source": [
    "data_txt = input(\"Digite a data no formato dd/mm/aa: \")\n",
    "datetime = datetime.datetime.strptime(data_txt, \"%d/%m/%y\")\n",
    "print(datetime)"
   ]
  },
  {
   "cell_type": "code",
   "execution_count": null,
   "metadata": {},
   "outputs": [],
   "source": [
    "## Acaba em 1h39. Depois começa POO"
   ]
  }
 ],
 "metadata": {
  "kernelspec": {
   "display_name": "Python 3",
   "language": "python",
   "name": "python3"
  },
  "language_info": {
   "codemirror_mode": {
    "name": "ipython",
    "version": 3
   },
   "file_extension": ".py",
   "mimetype": "text/x-python",
   "name": "python",
   "nbconvert_exporter": "python",
   "pygments_lexer": "ipython3",
   "version": "3.7.6"
  }
 },
 "nbformat": 4,
 "nbformat_minor": 4
}

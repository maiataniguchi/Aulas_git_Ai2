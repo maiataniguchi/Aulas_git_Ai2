{
 "cells": [
  {
   "cell_type": "markdown",
   "metadata": {},
   "source": [
    "# Python warmup\n",
    "\n",
    "Para esse conjunto de exercícios vamos utilizar o dataset [MovieLens 100k](https://grouplens.org/datasets/movielens/100k/)\n",
    "\n",
    "\n",
    "Os conjuntos de dados do MovieLens foram coletados pelo GroupLens Research Project na Universidade de Minnesota.\n",
    " \n",
    "Este conjunto de dados consiste em:\n",
    "* 100.000 classificações (1-5) de 943 usuários em 1.682 filmes.\n",
    "* Cada usuário classificou pelo menos 20 filmes.\n",
    "* Informações demográficas simples para os usuários (idade, sexo, ocupação, CEP)\n",
    "\n",
    "Os dados foram coletados por meio do site MovieLens (movielens.umn.edu) durante o período de sete meses a partir de 19 de setembro, 1997 a 22 de abril de 1998. Estes dados foram limpos - usuários que tiveram menos de 20 avaliações ou não tiveram dados demográficos completos informações foram removidas deste conjunto de dados. Descrições detalhadas de o arquivo de dados pode ser encontrado no final deste arquivo.\n",
    "\n",
    "Utilizando esse Dataset responda as seguintes perguntas. Você deverá utilizar somente as bibliotecas padrões do python, i.e., nenhuma nova biblioteca deve ser adicionada para implementar suas soluções (**isso é um warmup de python!**)\n",
    "\n",
    "#### Encontrar:\n",
    "1. O(s) usuário(s) mais crítico(s) na avaliação de filmes.\n",
    "    * Encontrar aquele id cujas notas são, em média, as menores;\n",
    "1. O(s) filme(s) mais mal avaliado(s) pelos usuários.\n",
    "1. O(s) filme(s) mais bem avaliado(s) pelos usuários.\n",
    "1. Média de avaliação para cada gênero de filmes;\n",
    "1. Avaliação média de filmes por ano. \n",
    "    * Listar qual o ano com a melhor média de avaliação de filmes;\n",
    "1. Qual a ocupação mais propensa a dar más avaliações a filmes;\n",
    "    * Encontrar a média de avaliação para cada ocupação de usuário e mostrar os menores e maiores valores\n"
   ]
  },
  {
   "cell_type": "code",
   "execution_count": 1,
   "metadata": {},
   "outputs": [],
   "source": [
    "# Conforme orientação do professor, esse exercício será resolvido apenas com o pacote numpy e funções built-in python.\n",
    "import numpy as np"
   ]
  },
  {
   "cell_type": "code",
   "execution_count": 4,
   "metadata": {
    "scrolled": true
   },
   "outputs": [],
   "source": [
    "# Importando os dados:\n",
    "data = open('/home/hub/git-pessoal/Aulas_git_Ai2/5-Python/Jupyter_Notebook_Markdown/ml-100k/u.data')\n",
    "dados = data.read().splitlines()\n"
   ]
  },
  {
   "cell_type": "markdown",
   "metadata": {},
   "source": [
    "## Explorando o conjunto de dados:"
   ]
  },
  {
   "cell_type": "code",
   "execution_count": 4,
   "metadata": {},
   "outputs": [
    {
     "data": {
      "text/plain": [
       "(100000, 4)"
      ]
     },
     "execution_count": 4,
     "metadata": {},
     "output_type": "execute_result"
    }
   ],
   "source": [
    "# Verificando o formato dos dados\n",
    "np.shape(data)"
   ]
  },
  {
   "cell_type": "code",
   "execution_count": 5,
   "metadata": {},
   "outputs": [
    {
     "name": "stdout",
     "output_type": "stream",
     "text": [
      "float64\n"
     ]
    }
   ],
   "source": [
    "# Verificando o tipo dos dados\n",
    "print(data.dtype)"
   ]
  },
  {
   "cell_type": "code",
   "execution_count": 6,
   "metadata": {},
   "outputs": [
    {
     "data": {
      "text/plain": [
       "numpy.ndarray"
      ]
     },
     "execution_count": 6,
     "metadata": {},
     "output_type": "execute_result"
    }
   ],
   "source": [
    "type(data)"
   ]
  },
  {
   "cell_type": "markdown",
   "metadata": {},
   "source": [
    "## Q1. Usuários mais críticos (id cujas notas são, em média, as menores)"
   ]
  },
  {
   "cell_type": "code",
   "execution_count": 7,
   "metadata": {
    "scrolled": true
   },
   "outputs": [],
   "source": [
    "# Iremos declarar uma variável (id) que por meio da função np.unique irá encontrar os valores únicos da array.\n",
    "ids = np.unique(data[:,0])\n",
    "#print(ids)"
   ]
  },
  {
   "cell_type": "code",
   "execution_count": 8,
   "metadata": {},
   "outputs": [],
   "source": [
    "# Testando receber os ratings apenas para um user-id\n",
    "\n",
    "# A variável indices receberá a fção filter(function, iterable) que\n",
    "# retorna um iterador onde os itens são filtrados por meio de uma função para testar se o item é aceito ou não.\n",
    "\n",
    "# Neste caso, a fção filter recebe a fção lambda que XXX quando a coluna 0 for igual a 100.\n",
    "# O iterador buscará linha por linha em todo o comprimento (len) do dataset (data)\n",
    "\n",
    "#indices = filter(lambda i: data[i,0]==100, [i for i in range(0,len(data))])\n",
    "#print(list(indices))"
   ]
  },
  {
   "cell_type": "code",
   "execution_count": 9,
   "metadata": {},
   "outputs": [],
   "source": [
    "# Obtendo as médias de ratings para cada user_id:\n",
    "lst = list(map(lambda x: np.mean(data[x,2]) ,[np.array(list(filter(lambda i: data[i,0]==x, [i for i in range(0,len(data))]))) for x in ids]))\n",
    "#print(lst)"
   ]
  },
  {
   "cell_type": "code",
   "execution_count": 10,
   "metadata": {},
   "outputs": [
    {
     "name": "stdout",
     "output_type": "stream",
     "text": [
      "Os 10 usuários mais críticos e suas respectivas notas são:\n",
      "[[181.           1.49195402]\n",
      " [405.           1.83446404]\n",
      " [445.           1.98518519]\n",
      " [685.           2.05      ]\n",
      " [774.           2.05803571]\n",
      " [724.           2.16470588]\n",
      " [206.           2.171875  ]\n",
      " [865.           2.28787879]\n",
      " [626.           2.34375   ]\n",
      " [609.           2.39285714]\n",
      " [302.           2.42857143]\n",
      " [702.           2.4516129 ]]\n"
     ]
    }
   ],
   "source": [
    "# Ordenando a média de rating e relacionando aos user_ids:\n",
    "ratings = np.array(lst)\n",
    "\n",
    "sorted_ratings = np.sort(ratings)\n",
    "ind_sorted = np.argsort(ratings)\n",
    "\n",
    "result1 = np.transpose(np.stack((ids[ind_sorted],sorted_ratings)))\n",
    "\n",
    "print('Os 10 usuários mais críticos e suas respectivas notas são:')\n",
    "print(result1[0:12,:])"
   ]
  },
  {
   "cell_type": "markdown",
   "metadata": {},
   "source": [
    "## Q2. O(s) filme(s) mais mal avaliado(s) pelos usuários."
   ]
  },
  {
   "cell_type": "code",
   "execution_count": 16,
   "metadata": {},
   "outputs": [
    {
     "name": "stdout",
     "output_type": "stream",
     "text": [
      "[1.000e+00 2.000e+00 3.000e+00 ... 1.680e+03 1.681e+03 1.682e+03]\n"
     ]
    }
   ],
   "source": [
    "# Número de títulos (filmes)\n",
    "item = np.unique(data[:,1])\n",
    "print(item)"
   ]
  },
  {
   "cell_type": "code",
   "execution_count": 17,
   "metadata": {},
   "outputs": [],
   "source": [
    "media_items = list(map(lambda a: np.mean(data[a,2]) ,[np.array(list(filter(lambda b: data[b,1]==a, [b for b in range(0,len(data))]))) for a in item]))\n",
    "#print(media_items)"
   ]
  },
  {
   "cell_type": "code",
   "execution_count": 18,
   "metadata": {},
   "outputs": [
    {
     "name": "stdout",
     "output_type": "stream",
     "text": [
      "Os filmes mais mal avaliados pelos usuários são:\n",
      "[[1.364e+03 1.000e+00]\n",
      " [1.561e+03 1.000e+00]\n",
      " [1.559e+03 1.000e+00]\n",
      " [1.557e+03 1.000e+00]\n",
      " [1.601e+03 1.000e+00]\n",
      " [4.370e+02 1.000e+00]\n",
      " [1.373e+03 1.000e+00]\n",
      " [1.548e+03 1.000e+00]\n",
      " [1.374e+03 1.000e+00]\n",
      " [1.546e+03 1.000e+00]]\n"
     ]
    }
   ],
   "source": [
    "# Ordenando a média de rating e relacionando aos user_ids:\n",
    "piores = np.array(media_items)\n",
    "\n",
    "sorted_piores = np.sort(piores)\n",
    "item_sorted = np.argsort(piores)\n",
    "\n",
    "result2 = np.transpose(np.stack((item[item_sorted], sorted_piores)))\n",
    "\n",
    "print('Os filmes mais mal avaliados pelos usuários são:')\n",
    "print(result2[:10,]) # Existem 70 títulos avaliados com nota 1.0"
   ]
  },
  {
   "cell_type": "code",
   "execution_count": 19,
   "metadata": {},
   "outputs": [],
   "source": [
    "# Corrigir número de casa decimais\n",
    "\n",
    "# data2 = np.round(data, 2)\n",
    "# data2 = np.round(\"%.2f\" % data)\n",
    "# print(data2)"
   ]
  },
  {
   "cell_type": "code",
   "execution_count": 6,
   "metadata": {},
   "outputs": [],
   "source": [
    "# Relacionar com o título do filme\n",
    "\n",
    "# Importando os dados:\n",
    "# titulo = open('/home/hub/git-pessoal/Aulas_git_Ai2/5-Python/Jupyter_Notebook_Markdown/ml-100k/u.item', \"r\", encondig = \"lantin-1\")\n",
    "# print(titulo.read())\n",
    "\n",
    "titulo = open('/home/hub/git-pessoal/Aulas_git_Ai2/5-Python/Jupyter_Notebook_Markdown/ml-100k/u.item', encoding=\"latin-1\")\n",
    "#print(titulo.read())"
   ]
  },
  {
   "cell_type": "code",
   "execution_count": 22,
   "metadata": {},
   "outputs": [],
   "source": [
    "\n",
    "numero = np.loadtxt('/home/hub/git-pessoal/Aulas_git_Ai2/5-Python/Jupyter_Notebook_Markdown/ml-100k/u.item',\n",
    "                    encoding = 'latin-1',\n",
    "                    usecols = (0),\n",
    "                    dtype = 'int',\n",
    "                    delimiter = \"|\")\n",
    "\n",
    "nomes = np.loadtxt('/home/hub/git-pessoal/Aulas_git_Ai2/5-Python/Jupyter_Notebook_Markdown/ml-100k/u.item',\n",
    "                    encoding = 'latin-1',\n",
    "                    usecols = (1),\n",
    "                    dtype = 'str',\n",
    "                    delimiter = \"|\")\n",
    "\n",
    "genero_bool = np.loadtxt('/home/hub/git-pessoal/Aulas_git_Ai2/5-Python/Jupyter_Notebook_Markdown/ml-100k/u.item',\n",
    "                    encoding = 'latin-1',\n",
    "                    usecols = (np.r_[5:24]),\n",
    "                    dtype = 'bool',\n",
    "                    delimiter = \"|\")"
   ]
  },
  {
   "cell_type": "markdown",
   "metadata": {},
   "source": [
    "## Q3. O(s) filme(s) mais bem avaliado(s) pelos usuários."
   ]
  },
  {
   "cell_type": "code",
   "execution_count": 23,
   "metadata": {},
   "outputs": [
    {
     "name": "stdout",
     "output_type": "stream",
     "text": [
      "Os filmes mais bem avaliados pelos usuários são:\n",
      "[[1293.       5.   ]\n",
      " [1467.       5.   ]\n",
      " [1653.       5.   ]\n",
      " [ 814.       5.   ]\n",
      " [1122.       5.   ]\n",
      " [1599.       5.   ]\n",
      " [1201.       5.   ]\n",
      " [1189.       5.   ]\n",
      " [1500.       5.   ]\n",
      " [1536.       5.   ]\n",
      " [1449.       4.625]]\n"
     ]
    }
   ],
   "source": [
    "# Ordenando a média de rating e relacionando aos user_ids:\n",
    "melhores = np.array(media_items)\n",
    "\n",
    "sorted_melhores = np.sort(melhores)\n",
    "sorted_rev = sorted_melhores[::-1]\n",
    "item_sorted_melhores = np.argsort(melhores)\n",
    "item_rev = item_sorted_melhores[::-1]\n",
    "\n",
    "result3 = np.transpose(np.stack((item[item_rev],sorted_rev)))\n",
    "\n",
    "print('Os filmes mais bem avaliados pelos usuários são:')\n",
    "print(result3[0:11,:])"
   ]
  },
  {
   "cell_type": "markdown",
   "metadata": {},
   "source": [
    "## Q4. Média de avaliação para cada gênero de filmes."
   ]
  },
  {
   "cell_type": "code",
   "execution_count": 84,
   "metadata": {},
   "outputs": [
    {
     "name": "stdout",
     "output_type": "stream",
     "text": [
      "unknown|0\n",
      "Action|1\n",
      "Adventure|2\n",
      "Animation|3\n",
      "Children's|4\n",
      "Comedy|5\n",
      "Crime|6\n",
      "Documentary|7\n",
      "Drama|8\n",
      "Fantasy|9\n",
      "Film-Noir|10\n",
      "Horror|11\n",
      "Musical|12\n",
      "Mystery|13\n",
      "Romance|14\n",
      "Sci-Fi|15\n",
      "Thriller|16\n",
      "War|17\n",
      "Western|18\n",
      "\n",
      "\n"
     ]
    }
   ],
   "source": [
    "# # Importando os dados:\n",
    "# genero = np.loadtxt('/home/hub/git-pessoal/Aulas_git_Ai2/5-Python/Jupyter_Notebook_Markdown/ml-100k/u.genre')\n",
    "# print(genero)\n",
    "\n",
    "genero = open('/home/hub/git-pessoal/Aulas_git_Ai2/5-Python/Jupyter_Notebook_Markdown/ml-100k/u.genre', \"r\")\n",
    "print(genero.read())"
   ]
  },
  {
   "cell_type": "code",
   "execution_count": 44,
   "metadata": {},
   "outputs": [],
   "source": [
    "# Testando\n",
    "\n",
    "#concat = np.where(genero_bool[:,9]==True)\n",
    "\n",
    "#print(nomes[concat])\n",
    "#keep = gereni_bool[concat]"
   ]
  },
  {
   "cell_type": "code",
   "execution_count": null,
   "metadata": {},
   "outputs": [],
   "source": []
  }
 ],
 "metadata": {
  "kernelspec": {
   "display_name": "Python 3",
   "language": "python",
   "name": "python3"
  },
  "language_info": {
   "codemirror_mode": {
    "name": "ipython",
    "version": 3
   },
   "file_extension": ".py",
   "mimetype": "text/x-python",
   "name": "python",
   "nbconvert_exporter": "python",
   "pygments_lexer": "ipython3",
   "version": "3.7.6"
  }
 },
 "nbformat": 4,
 "nbformat_minor": 4
}

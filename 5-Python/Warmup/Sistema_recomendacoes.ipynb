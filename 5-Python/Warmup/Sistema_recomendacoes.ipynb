{
 "cells": [
  {
   "cell_type": "markdown",
   "metadata": {},
   "source": [
    "## Sistemas de Recomendação"
   ]
  },
  {
   "cell_type": "markdown",
   "metadata": {},
   "source": [
    "Para esse conjunto de exercícios vamos utilizar novamente o dataset [MovieLens 100k](https://grouplens.org/datasets/movielens/latest/) que utilizamos em nosso **Warmup**\n",
    "\n",
    "Utilizando esse Dataset, implemente as funcionalidades a seguir, podendo agora utilizar as bibliotecas padrões do python (numpy, math, scipy ) para implementar suas soluções. Faça a organização do seu código agora utilizando funções buscando reutilizar seu código.\n",
    "\n",
    "#### Funcionalidade:\n",
    "1. Implementar o algoritmo de [Similaridade do Cosseno](https://pt.wikipedia.org/wiki/Similaridade_por_cosseno);\n",
    "2. Implementar um Sistema de Recomendações, usando a técnica de Filtros Colaborativos baseados no usuário;\n",
    "3. Implementar um Sistema de Recomendações, usando a técnica de Filtros Colaborativos baseados na similaridade entre os itens (filmes);\n",
    "4. Implementar a [Medida de Correlação de Pearson](https://pt.wikipedia.org/wiki/Coeficiente_de_correla%C3%A7%C3%A3o_de_Pearson)\n",
    "   como medida de similaridade;"
   ]
  },
  {
   "cell_type": "code",
   "execution_count": 1,
   "metadata": {},
   "outputs": [],
   "source": [
    "import numpy as np\n",
    "import pandas as pd\n",
    "import scipy as sp\n",
    "import math as m"
   ]
  },
  {
   "cell_type": "markdown",
   "metadata": {},
   "source": [
    "### 1. Similaridade de cosseno"
   ]
  },
  {
   "cell_type": "code",
   "execution_count": 2,
   "metadata": {},
   "outputs": [
    {
     "name": "stdout",
     "output_type": "stream",
     "text": [
      "[[0.91005765]]\n"
     ]
    }
   ],
   "source": [
    "from sklearn.metrics.pairwise import cosine_similarity,cosine_distances\n",
    "A=np.array([10,3])\n",
    "B=np.array([8,7])\n",
    "result=cosine_similarity(A.reshape(1,-1),B.reshape(1,-1))\n",
    "print(result)"
   ]
  }
 ],
 "metadata": {
  "kernelspec": {
   "display_name": "Python 3",
   "language": "python",
   "name": "python3"
  },
  "language_info": {
   "codemirror_mode": {
    "name": "ipython",
    "version": 3
   },
   "file_extension": ".py",
   "mimetype": "text/x-python",
   "name": "python",
   "nbconvert_exporter": "python",
   "pygments_lexer": "ipython3",
   "version": "3.7.6"
  }
 },
 "nbformat": 4,
 "nbformat_minor": 4
}

{
 "cells": [
  {
   "cell_type": "markdown",
   "metadata": {},
   "source": [
    "# Sistemas de recomendação"
   ]
  },
  {
   "cell_type": "markdown",
   "metadata": {},
   "source": [
    "Recommender systems capture the pattern of peoples' behavior and use it **to predict what else they might want or like.**\n",
    "\n",
    "Are two typef of recommender systems:\n",
    "\n",
    "### 1. Content-based\n",
    "\n",
    "\"Show me more of the same of what I've liked before\" (baseado em similaridade de items, ou seja, o usuário X assistiu filmes e quer uma recomendação baseado nos dois filmes que ele assistiu).\n",
    "\n",
    "### 2. Filtros colaborativos\n",
    "\n",
    "\"Tell me what's popular among my neighbors, I also might like it\" (baseado em preferências de similares, ou seja, o usuário quer uma recomendação de filmes baseado em perfis de usuários semelhantes ao dele).\n",
    "\n",
    "## Implementando sistemas de recomendação\n",
    "\n",
    "### 1. Memory-based\n",
    "- Uses the entire user-item dataset to generate a recommentation;\n",
    "- Uses statistical techniques to approximate users or items, e.g., Correlação de Pearson, Similaridade de Cosseno, Distância Euclidiana, etc.\n",
    "\n",
    "### 2. Model-based\n",
    "- Develops a model of users in an attempt to learn their preferences;\n",
    "- Models can be created using ML techquines like regression, clustering, classification, etc."
   ]
  },
  {
   "cell_type": "markdown",
   "metadata": {},
   "source": [
    "## 1. Content-based recommender systems"
   ]
  },
  {
   "cell_type": "markdown",
   "metadata": {},
   "source": [
    "A Content-based recommendation system tries to recommend items to users based on their profile. The user's profile revolves around that user's preferences and tastes. It is shaped based on user ratings, including the number of times that user has clicked on different items or perhaps even liked those items.\n",
    "\n",
    "The recommendation process is based on the similarity between those items. Similarity or closeness of items is measured based on the similarity in the content of those items. When we say content, we're talking about things like the items category, tag, genre, and so on."
   ]
  },
  {
   "cell_type": "code",
   "execution_count": 4,
   "metadata": {},
   "outputs": [
    {
     "name": "stdout",
     "output_type": "stream",
     "text": [
      "                        filme  rating  adventure  super hero  comedy  sci-fi\n",
      "0          batman vs superman       2          1           1       0       0\n",
      "1     guardians of the galaxy      10          1           1       1       1\n",
      "2  captain america: civil war       8          0           0       1       0\n"
     ]
    }
   ],
   "source": [
    "import pandas as pd\n",
    "\n",
    "data = {'filme': ['batman vs superman', 'guardians of the galaxy', 'captain america: civil war'],\n",
    "        'rating': [2, 10, 8], 'adventure': [1, 1, 0], 'super hero': [1, 1, 0], 'comedy': [0, 1, 1],\n",
    "        'sci-fi': [0, 1, 0]\n",
    "        }\n",
    "\n",
    "df = pd.DataFrame(data)\n",
    "\n",
    "print (df)"
   ]
  },
  {
   "cell_type": "code",
   "execution_count": 13,
   "metadata": {},
   "outputs": [
    {
     "data": {
      "text/plain": [
       "list"
      ]
     },
     "execution_count": 13,
     "metadata": {},
     "output_type": "execute_result"
    }
   ],
   "source": [
    "input_user_ratings = [2, 10, 8]\n",
    "type(input_user_ratings)"
   ]
  },
  {
   "cell_type": "code",
   "execution_count": 10,
   "metadata": {},
   "outputs": [],
   "source": [
    "movies_matrix = {'adventure': [1, 1, 0], 'super hero': [1, 1, 0], 'comedy': [0, 1, 1],\n",
    "        'sci-fi': [0, 1, 0]}"
   ]
  },
  {
   "cell_type": "code",
   "execution_count": 12,
   "metadata": {},
   "outputs": [
    {
     "ename": "TypeError",
     "evalue": "can't multiply sequence by non-int of type 'dict'",
     "output_type": "error",
     "traceback": [
      "\u001b[0;31m---------------------------------------------------------------------------\u001b[0m",
      "\u001b[0;31mTypeError\u001b[0m                                 Traceback (most recent call last)",
      "\u001b[0;32m<ipython-input-12-336116761b42>\u001b[0m in \u001b[0;36m<module>\u001b[0;34m\u001b[0m\n\u001b[0;32m----> 1\u001b[0;31m \u001b[0mweighted_genre_matrix\u001b[0m \u001b[0;34m=\u001b[0m \u001b[0minput_user_ratings\u001b[0m \u001b[0;34m*\u001b[0m \u001b[0mmovies_matrix\u001b[0m\u001b[0;34m\u001b[0m\u001b[0;34m\u001b[0m\u001b[0m\n\u001b[0m",
      "\u001b[0;31mTypeError\u001b[0m: can't multiply sequence by non-int of type 'dict'"
     ]
    }
   ],
   "source": [
    "# Multiplicar\n",
    "\n",
    "weighted_genre_matrix = input_user_ratings * movies_matrix"
   ]
  },
  {
   "cell_type": "code",
   "execution_count": null,
   "metadata": {},
   "outputs": [],
   "source": []
  }
 ],
 "metadata": {
  "kernelspec": {
   "display_name": "Python 3",
   "language": "python",
   "name": "python3"
  },
  "language_info": {
   "codemirror_mode": {
    "name": "ipython",
    "version": 3
   },
   "file_extension": ".py",
   "mimetype": "text/x-python",
   "name": "python",
   "nbconvert_exporter": "python",
   "pygments_lexer": "ipython3",
   "version": "3.7.6"
  }
 },
 "nbformat": 4,
 "nbformat_minor": 4
}

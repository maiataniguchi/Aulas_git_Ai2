{
 "cells": [
  {
   "cell_type": "markdown",
   "metadata": {},
   "source": [
    "## Projeto de Classes"
   ]
  },
  {
   "cell_type": "markdown",
   "metadata": {},
   "source": [
    "Crie um diagrama de classes contendo os seguinte conjunto de classes, atributos e responsabilidades:\n",
    "\n",
    "- `FormaGeometrica:` Atributos `x` e `y` que marcam a posição inicial da forma geométrica\n",
    "- Método `desenhe()` que deve mostrar o texto: Forma Geométrica Centrada em (`x`,`y`)\n",
    "\n",
    "`Forma2D`. Superclasse: `FormaGeometrica`\n",
    "\n",
    "`Forma3D`. Superclasse: `FormaGeometrica`\n",
    "\n",
    "`Poligono`. Superclasse: `Forma2D`\n",
    "\n",
    "`Quadrado`. Superclasse: `Retangulo`\n",
    "\n",
    "`Retangulo`. Superclasse: `Poligono`\n",
    "\n",
    "`Circulo`. Superclasse: `Forma2D`\n",
    "\n",
    "`Esfera`. Superclasse: `Forma3D`\n",
    "\n",
    "`Cubo`. Superclasse: `Forma3D`\n",
    "\n",
    "`Cilindro`. Superclasse: `Forma3D`\n",
    "\n",
    "Para nossa próxima aula, já terão conteúdos para implementar as operações que calcule a **área, perímetro e volume das formas quando cabível.**"
   ]
  },
  {
   "cell_type": "code",
   "execution_count": 24,
   "metadata": {},
   "outputs": [],
   "source": [
    "class FormaGeometrica():\n",
    "    \n",
    "    def __init__(self, x, y):\n",
    "        self.x = x\n",
    "        self.y = y\n",
    "    \n",
    "    def desenhe(self):\n",
    "        print(\"Forma Geométrica Centrada em (%d,%d)\" %x, y)\n",
    "\n",
    "# Criando super classes derivadas da class FormaGeometrica():\n",
    "    \n",
    "class Forma2D(FormaGeometrica):\n",
    "    \n",
    "    def __init__(self):\n",
    "        FormaGeometrica.__init__(self)\n",
    "\n",
    "class Forma3D(FormaGeometrica):\n",
    "    \n",
    "    def __init__(self):\n",
    "        FormaGeometrica.__init__(self)"
   ]
  },
  {
   "cell_type": "code",
   "execution_count": 29,
   "metadata": {},
   "outputs": [],
   "source": [
    "# Criando super classes derivadas da class Forma2D():\n",
    "\n",
    "class Poligono(Forma2D):\n",
    "    \n",
    "    def __init__(self):\n",
    "        Forma2D.__init__(self)\n",
    "        print(\"Polígono\")\n",
    "\n",
    "class Circulo(Forma2D):\n",
    "    pi = 3.14 # Ele herda a constante tbm??\n",
    "    \n",
    "    def __init__(self):\n",
    "        Forma2D.__init__(self)\n",
    "        print(\"Circulo\")"
   ]
  },
  {
   "cell_type": "code",
   "execution_count": 30,
   "metadata": {},
   "outputs": [],
   "source": [
    "# Criando super classes derivadas da class Forma3D():\n",
    "\n",
    "class Esfera(Forma3D):\n",
    "    \n",
    "    def __init__(self):\n",
    "        Forma3D.__init__(self)\n",
    "\n",
    "class Cilindro(Forma3D):\n",
    "    \n",
    "    def __init__(self):\n",
    "        Forma3D.__init__(self)\n",
    "\n",
    "class Cubo(Forma3D):\n",
    "    \n",
    "    def __init__(self):\n",
    "        Forma3D.__init__(self)"
   ]
  },
  {
   "cell_type": "code",
   "execution_count": 27,
   "metadata": {},
   "outputs": [],
   "source": [
    "# Classe retângulo herdada da superclasse poligono\n",
    "\n",
    "class Retangulo(Poligono):\n",
    "    \n",
    "    def __init__(self):\n",
    "        Poligono.__init__(self)\n",
    "        print(\"Retangulo\")\n",
    "        \n",
    "# Classe quadrado herdada da superclasse retangulo\n",
    "\n",
    "class Quadrado(Retangulo):\n",
    "    \n",
    "    def __init__(self):\n",
    "        Retangulo.__init__(self)\n",
    "        print(\"Quadrado\")"
   ]
  },
  {
   "cell_type": "code",
   "execution_count": null,
   "metadata": {},
   "outputs": [],
   "source": []
  }
 ],
 "metadata": {
  "kernelspec": {
   "display_name": "Python 3",
   "language": "python",
   "name": "python3"
  },
  "language_info": {
   "codemirror_mode": {
    "name": "ipython",
    "version": 3
   },
   "file_extension": ".py",
   "mimetype": "text/x-python",
   "name": "python",
   "nbconvert_exporter": "python",
   "pygments_lexer": "ipython3",
   "version": "3.7.6"
  }
 },
 "nbformat": 4,
 "nbformat_minor": 4
}

{
 "cells": [
  {
   "cell_type": "code",
   "execution_count": 37,
   "id": "cfeb6bd1",
   "metadata": {},
   "outputs": [],
   "source": [
    "import numpy as np\n",
    "import pandas as pd"
   ]
  },
  {
   "cell_type": "code",
   "execution_count": 2,
   "id": "7a0ba637",
   "metadata": {},
   "outputs": [],
   "source": [
    "freq2 =  [12.58, 12.97, 13.51, 13.53, 14.47, 14.51, 14.53, 15.17, 15.23,\n",
    "         15.29, 15.37, 15.83, 15.98, 16.01, 16.11, 16,47, 16.83, 16.97, 17.05]"
   ]
  },
  {
   "cell_type": "code",
   "execution_count": 3,
   "id": "5576a1c2",
   "metadata": {},
   "outputs": [],
   "source": [
    "classes = [12.50, 13.50, 14.50, 15.50, 16.50, 17.50]"
   ]
  },
  {
   "cell_type": "code",
   "execution_count": 4,
   "id": "d38beb78",
   "metadata": {},
   "outputs": [],
   "source": [
    "labels = ['A','B','C', 'D','E']"
   ]
  },
  {
   "cell_type": "code",
   "execution_count": 5,
   "id": "e5c3f830",
   "metadata": {},
   "outputs": [
    {
     "data": {
      "text/plain": [
       "['A', 'A', 'B', 'B', 'B', ..., 'D', NaN, 'E', 'E', 'E']\n",
       "Length: 20\n",
       "Categories (5, object): ['A' < 'B' < 'C' < 'D' < 'E']"
      ]
     },
     "execution_count": 5,
     "metadata": {},
     "output_type": "execute_result"
    }
   ],
   "source": [
    "pd.cut(x = freq2,\n",
    "      bins = classes,\n",
    "      labels=labels,\n",
    "      include_lowest=False)"
   ]
  },
  {
   "cell_type": "markdown",
   "id": "88cd3f06",
   "metadata": {},
   "source": [
    "><font color='darkblue'><b>COMO USAR OS PANDAS CUT() E QCUT() https://acervolima.com/como-usar-os-pandas-cut-e-qcut/<b></font>"
   ]
  },
  {
   "cell_type": "code",
   "execution_count": 14,
   "id": "61c3c87e",
   "metadata": {},
   "outputs": [
    {
     "data": {
      "text/plain": [
       "C    6\n",
       "D    5\n",
       "B    3\n",
       "E    3\n",
       "A    2\n",
       "dtype: int64"
      ]
     },
     "execution_count": 14,
     "metadata": {},
     "output_type": "execute_result"
    }
   ],
   "source": [
    "freq_all = pd.value_counts(pd.cut(x = freq2,\n",
    "      bins = classes,\n",
    "      labels=labels,\n",
    "      include_lowest=False))\n",
    "freq_all"
   ]
  },
  {
   "cell_type": "code",
   "execution_count": 9,
   "id": "5861224f",
   "metadata": {},
   "outputs": [
    {
     "data": {
      "text/plain": [
       "C    0.315789\n",
       "D    0.263158\n",
       "B    0.157895\n",
       "E    0.157895\n",
       "A    0.105263\n",
       "dtype: float64"
      ]
     },
     "execution_count": 9,
     "metadata": {},
     "output_type": "execute_result"
    }
   ],
   "source": [
    "percent = pd.value_counts(pd.cut(x = freq2,\n",
    "      bins = classes,\n",
    "      labels=labels,\n",
    "      include_lowest=False),\n",
    "                          normalize=True)\n",
    "percent"
   ]
  },
  {
   "cell_type": "code",
   "execution_count": 13,
   "id": "28485293",
   "metadata": {},
   "outputs": [
    {
     "data": {
      "text/html": [
       "<div>\n",
       "<style scoped>\n",
       "    .dataframe tbody tr th:only-of-type {\n",
       "        vertical-align: middle;\n",
       "    }\n",
       "\n",
       "    .dataframe tbody tr th {\n",
       "        vertical-align: top;\n",
       "    }\n",
       "\n",
       "    .dataframe thead th {\n",
       "        text-align: right;\n",
       "    }\n",
       "</style>\n",
       "<table border=\"1\" class=\"dataframe\">\n",
       "  <thead>\n",
       "    <tr style=\"text-align: right;\">\n",
       "      <th></th>\n",
       "      <th>Frequência</th>\n",
       "      <th>Porcentagem %</th>\n",
       "    </tr>\n",
       "  </thead>\n",
       "  <tbody>\n",
       "    <tr>\n",
       "      <th>A</th>\n",
       "      <td>2</td>\n",
       "      <td>0.105263</td>\n",
       "    </tr>\n",
       "    <tr>\n",
       "      <th>B</th>\n",
       "      <td>3</td>\n",
       "      <td>0.157895</td>\n",
       "    </tr>\n",
       "    <tr>\n",
       "      <th>C</th>\n",
       "      <td>6</td>\n",
       "      <td>0.315789</td>\n",
       "    </tr>\n",
       "    <tr>\n",
       "      <th>D</th>\n",
       "      <td>5</td>\n",
       "      <td>0.263158</td>\n",
       "    </tr>\n",
       "    <tr>\n",
       "      <th>E</th>\n",
       "      <td>3</td>\n",
       "      <td>0.157895</td>\n",
       "    </tr>\n",
       "  </tbody>\n",
       "</table>\n",
       "</div>"
      ],
      "text/plain": [
       "   Frequência  Porcentagem %\n",
       "A           2       0.105263\n",
       "B           3       0.157895\n",
       "C           6       0.315789\n",
       "D           5       0.263158\n",
       "E           3       0.157895"
      ]
     },
     "execution_count": 13,
     "metadata": {},
     "output_type": "execute_result"
    }
   ],
   "source": [
    "# Tranformando em um dataframe\n",
    "\n",
    "frame_freq = pd.DataFrame({'Frequência':freq_all, \"Porcentagem %\": percent})\n",
    "frame_freq.sort_index(ascending=True)"
   ]
  },
  {
   "cell_type": "code",
   "execution_count": 16,
   "id": "b1cd8ceb",
   "metadata": {},
   "outputs": [
    {
     "data": {
      "text/plain": [
       "<AxesSubplot:>"
      ]
     },
     "execution_count": 16,
     "metadata": {},
     "output_type": "execute_result"
    },
    {
     "data": {
      "image/png": "[encoded data removed]",
      "text/plain": [
       "<Figure size 600x400 with 1 Axes>"
      ]
     },
     "metadata": {},
     "output_type": "display_data"
    }
   ],
   "source": [
    "frame_freq['Frequência'].sort_values(ascending = False).plot.bar(width = 1,\n",
    "        color = 'blue', alpha = 0.2,figsize = (6, 4))"
   ]
  },
  {
   "cell_type": "markdown",
   "id": "ff1f578f",
   "metadata": {},
   "source": [
    "Medidas Resumo\n",
    "Considerando a série de valores:"
   ]
  },
  {
   "cell_type": "code",
   "execution_count": 19,
   "id": "7d26ffda",
   "metadata": {},
   "outputs": [
    {
     "data": {
      "text/plain": [
       "(17.5, 16.8, 15.4, 15.1, 14.4, 13.9, 13.8, 13.3, 13.0, 13.0)"
      ]
     },
     "execution_count": 19,
     "metadata": {},
     "output_type": "execute_result"
    }
   ],
   "source": [
    "Z = (17.5, 16.8, 15.4, 15.1, 14.4, 13.9, 13.8, 13.3, 13.0, 13.0)\n",
    "Z"
   ]
  },
  {
   "cell_type": "code",
   "execution_count": 20,
   "id": "181635c2",
   "metadata": {},
   "outputs": [
    {
     "data": {
      "text/plain": [
       "14.15"
      ]
     },
     "execution_count": 20,
     "metadata": {},
     "output_type": "execute_result"
    }
   ],
   "source": [
    "np.median(Z)"
   ]
  },
  {
   "cell_type": "code",
   "execution_count": 21,
   "id": "b2b1694c",
   "metadata": {},
   "outputs": [
    {
     "data": {
      "text/plain": [
       "14.62"
      ]
     },
     "execution_count": 21,
     "metadata": {},
     "output_type": "execute_result"
    }
   ],
   "source": [
    "np.mean(Z)"
   ]
  },
  {
   "cell_type": "markdown",
   "id": "1c208fb7",
   "metadata": {},
   "source": [
    "## Medidas de dispersão da média"
   ]
  },
  {
   "cell_type": "code",
   "execution_count": 29,
   "id": "adc81569",
   "metadata": {},
   "outputs": [],
   "source": [
    "# Desvio médio\n",
    "# Variância\n",
    "# Desvio-padrão"
   ]
  },
  {
   "cell_type": "markdown",
   "id": "78123908",
   "metadata": {},
   "source": [
    "# Exercícios slides"
   ]
  },
  {
   "cell_type": "code",
   "execution_count": 1,
   "id": "c29709fb",
   "metadata": {},
   "outputs": [],
   "source": [
    "X = (2, 59, 2, 64, 2, 60, 2, 62, 2, 57, 2, 55, 2, 61, 2, 50, 2, 63, 2, 64)"
   ]
  },
  {
   "cell_type": "markdown",
   "id": "a7feb97f",
   "metadata": {},
   "source": [
    "<font color='orange'>Calcular:</font>\n",
    "\n",
    "1. Média;\n",
    "2. Mediana;\n",
    "3. Desvio Médio;\n",
    "4. Desvio Padrão;"
   ]
  },
  {
   "cell_type": "code",
   "execution_count": 4,
   "id": "50cb934d",
   "metadata": {
    "scrolled": true
   },
   "outputs": [
    {
     "data": {
      "text/plain": [
       "26.0"
      ]
     },
     "execution_count": 4,
     "metadata": {},
     "output_type": "execute_result"
    }
   ],
   "source": [
    "np.median(X)"
   ]
  },
  {
   "cell_type": "code",
   "execution_count": 5,
   "id": "08e758f8",
   "metadata": {},
   "outputs": [
    {
     "data": {
      "text/plain": [
       "30.75"
      ]
     },
     "execution_count": 5,
     "metadata": {},
     "output_type": "execute_result"
    }
   ],
   "source": [
    "np.mean(X)"
   ]
  },
  {
   "cell_type": "code",
   "execution_count": 13,
   "id": "31c283f9",
   "metadata": {},
   "outputs": [],
   "source": [
    "# Desvio médio absoluto (Pandas)\n",
    "df = pd.DataFrame(X)"
   ]
  },
  {
   "cell_type": "code",
   "execution_count": 10,
   "id": "593e1688",
   "metadata": {},
   "outputs": [
    {
     "data": {
      "text/plain": [
       "0    28.75\n",
       "dtype: float64"
      ]
     },
     "execution_count": 10,
     "metadata": {},
     "output_type": "execute_result"
    }
   ],
   "source": [
    "df.mad()"
   ]
  },
  {
   "cell_type": "code",
   "execution_count": 6,
   "id": "7a91ddb8",
   "metadata": {},
   "outputs": [
    {
     "data": {
      "text/plain": [
       "28.90480063934017"
      ]
     },
     "execution_count": 6,
     "metadata": {},
     "output_type": "execute_result"
    }
   ],
   "source": [
    "# Desvio padrão (Numpy)\n",
    "np.std(X) "
   ]
  },
  {
   "cell_type": "markdown",
   "id": "c144ef8d",
   "metadata": {},
   "source": [
    "# Quantis empíricos"
   ]
  },
  {
   "cell_type": "markdown",
   "id": "7b307ca7",
   "metadata": {},
   "source": [
    "Quantil de Ordem $$ p (q(p)) $$, onde p é uma proporção qualquer, 0 < p < 1, tal que 100 p% das observações sejam menores do que q(p)"
   ]
  },
  {
   "cell_type": "code",
   "execution_count": 17,
   "id": "4507bf77",
   "metadata": {},
   "outputs": [],
   "source": [
    "data = [15, 5, 3, 8, 10, 2, 7, 11, 12]"
   ]
  },
  {
   "cell_type": "code",
   "execution_count": 19,
   "id": "07b6e1e0",
   "metadata": {
    "scrolled": true
   },
   "outputs": [
    {
     "data": {
      "text/plain": [
       "[2, 3, 5, 7, 8, 10, 11, 12, 15]"
      ]
     },
     "execution_count": 19,
     "metadata": {},
     "output_type": "execute_result"
    }
   ],
   "source": [
    "data.sort()\n",
    "data"
   ]
  },
  {
   "cell_type": "code",
   "execution_count": 20,
   "id": "512a2aed",
   "metadata": {
    "scrolled": true
   },
   "outputs": [
    {
     "data": {
      "text/plain": [
       "8.0"
      ]
     },
     "execution_count": 20,
     "metadata": {},
     "output_type": "execute_result"
    }
   ],
   "source": [
    "np.median(data)"
   ]
  },
  {
   "cell_type": "code",
   "execution_count": null,
   "id": "943b1496",
   "metadata": {},
   "outputs": [],
   "source": [
    "np.mean(data)"
   ]
  },
  {
   "cell_type": "code",
   "execution_count": 22,
   "id": "e8e2028b",
   "metadata": {},
   "outputs": [],
   "source": [
    "data2 = pd.DataFrame(data)"
   ]
  },
  {
   "cell_type": "code",
   "execution_count": 24,
   "id": "f998bf81",
   "metadata": {
    "scrolled": true
   },
   "outputs": [
    {
     "data": {
      "text/html": [
       "<div>\n",
       "<style scoped>\n",
       "    .dataframe tbody tr th:only-of-type {\n",
       "        vertical-align: middle;\n",
       "    }\n",
       "\n",
       "    .dataframe tbody tr th {\n",
       "        vertical-align: top;\n",
       "    }\n",
       "\n",
       "    .dataframe thead th {\n",
       "        text-align: right;\n",
       "    }\n",
       "</style>\n",
       "<table border=\"1\" class=\"dataframe\">\n",
       "  <thead>\n",
       "    <tr style=\"text-align: right;\">\n",
       "      <th></th>\n",
       "      <th>0</th>\n",
       "    </tr>\n",
       "  </thead>\n",
       "  <tbody>\n",
       "    <tr>\n",
       "      <th>count</th>\n",
       "      <td>9.000000</td>\n",
       "    </tr>\n",
       "    <tr>\n",
       "      <th>mean</th>\n",
       "      <td>8.111111</td>\n",
       "    </tr>\n",
       "    <tr>\n",
       "      <th>std</th>\n",
       "      <td>4.314060</td>\n",
       "    </tr>\n",
       "    <tr>\n",
       "      <th>min</th>\n",
       "      <td>2.000000</td>\n",
       "    </tr>\n",
       "    <tr>\n",
       "      <th>25%</th>\n",
       "      <td>5.000000</td>\n",
       "    </tr>\n",
       "    <tr>\n",
       "      <th>50%</th>\n",
       "      <td>8.000000</td>\n",
       "    </tr>\n",
       "    <tr>\n",
       "      <th>75%</th>\n",
       "      <td>11.000000</td>\n",
       "    </tr>\n",
       "    <tr>\n",
       "      <th>max</th>\n",
       "      <td>15.000000</td>\n",
       "    </tr>\n",
       "  </tbody>\n",
       "</table>\n",
       "</div>"
      ],
      "text/plain": [
       "               0\n",
       "count   9.000000\n",
       "mean    8.111111\n",
       "std     4.314060\n",
       "min     2.000000\n",
       "25%     5.000000\n",
       "50%     8.000000\n",
       "75%    11.000000\n",
       "max    15.000000"
      ]
     },
     "execution_count": 24,
     "metadata": {},
     "output_type": "execute_result"
    }
   ],
   "source": [
    "# Obtendo valores de quartis\n",
    "data2.describe()"
   ]
  },
  {
   "cell_type": "markdown",
   "id": "d0d8936b",
   "metadata": {},
   "source": [
    "## Using single quantile() on dataframe"
   ]
  },
  {
   "cell_type": "markdown",
   "id": "6cfe966d",
   "metadata": {},
   "source": [
    "Let’s find a single quantile on the data frame. To do so you have to pass only a single quantile value. For example, I want to find the quantile value of 10% that is 0.1."
   ]
  },
  {
   "cell_type": "code",
   "execution_count": 27,
   "id": "1a32387d",
   "metadata": {},
   "outputs": [
    {
     "data": {
      "text/plain": [
       "0    2.8\n",
       "Name: 0.1, dtype: float64"
      ]
     },
     "execution_count": 27,
     "metadata": {},
     "output_type": "execute_result"
    }
   ],
   "source": [
    "data2.quantile(.1)"
   ]
  },
  {
   "cell_type": "markdown",
   "id": "f9e81e48",
   "metadata": {},
   "source": [
    "## Using multiple quantile() on dataframe"
   ]
  },
  {
   "cell_type": "markdown",
   "id": "48f0ce4d",
   "metadata": {},
   "source": [
    "You can also pass more than one quantile value inside the quantile() method. It will find the quantile value for each quantile. Execute the below lines of code."
   ]
  },
  {
   "cell_type": "code",
   "execution_count": 28,
   "id": "f7e43491",
   "metadata": {},
   "outputs": [
    {
     "data": {
      "text/html": [
       "<div>\n",
       "<style scoped>\n",
       "    .dataframe tbody tr th:only-of-type {\n",
       "        vertical-align: middle;\n",
       "    }\n",
       "\n",
       "    .dataframe tbody tr th {\n",
       "        vertical-align: top;\n",
       "    }\n",
       "\n",
       "    .dataframe thead th {\n",
       "        text-align: right;\n",
       "    }\n",
       "</style>\n",
       "<table border=\"1\" class=\"dataframe\">\n",
       "  <thead>\n",
       "    <tr style=\"text-align: right;\">\n",
       "      <th></th>\n",
       "      <th>0</th>\n",
       "    </tr>\n",
       "  </thead>\n",
       "  <tbody>\n",
       "    <tr>\n",
       "      <th>0.2</th>\n",
       "      <td>4.2</td>\n",
       "    </tr>\n",
       "    <tr>\n",
       "      <th>0.5</th>\n",
       "      <td>8.0</td>\n",
       "    </tr>\n",
       "  </tbody>\n",
       "</table>\n",
       "</div>"
      ],
      "text/plain": [
       "       0\n",
       "0.2  4.2\n",
       "0.5  8.0"
      ]
     },
     "execution_count": 28,
     "metadata": {},
     "output_type": "execute_result"
    }
   ],
   "source": [
    "data2.quantile([.2,0.5])"
   ]
  },
  {
   "cell_type": "code",
   "execution_count": 30,
   "id": "1eb50378",
   "metadata": {},
   "outputs": [],
   "source": [
    "data.append(67)"
   ]
  },
  {
   "cell_type": "code",
   "execution_count": 31,
   "id": "fce303c8",
   "metadata": {},
   "outputs": [
    {
     "data": {
      "text/plain": [
       "[2, 3, 5, 7, 8, 10, 11, 12, 15, 67]"
      ]
     },
     "execution_count": 31,
     "metadata": {},
     "output_type": "execute_result"
    }
   ],
   "source": [
    "data"
   ]
  },
  {
   "cell_type": "markdown",
   "id": "e5ed7b50",
   "metadata": {},
   "source": [
    "## Qual o efeito na média e na mediana nesse caso?"
   ]
  },
  {
   "cell_type": "code",
   "execution_count": 32,
   "id": "0e5e3186",
   "metadata": {},
   "outputs": [
    {
     "data": {
      "text/plain": [
       "9.0"
      ]
     },
     "execution_count": 32,
     "metadata": {},
     "output_type": "execute_result"
    }
   ],
   "source": [
    "np.median(data)"
   ]
  },
  {
   "cell_type": "code",
   "execution_count": 33,
   "id": "ff0d2579",
   "metadata": {
    "scrolled": true
   },
   "outputs": [
    {
     "data": {
      "text/plain": [
       "14.0"
      ]
     },
     "execution_count": 33,
     "metadata": {},
     "output_type": "execute_result"
    }
   ],
   "source": [
    "np.mean(data)"
   ]
  },
  {
   "cell_type": "markdown",
   "id": "6e72482f",
   "metadata": {},
   "source": [
    "## Exercício Aula 24"
   ]
  },
  {
   "cell_type": "code",
   "execution_count": 45,
   "id": "0d9e2274",
   "metadata": {
    "scrolled": true
   },
   "outputs": [
    {
     "data": {
      "text/html": [
       "<div>\n",
       "<style scoped>\n",
       "    .dataframe tbody tr th:only-of-type {\n",
       "        vertical-align: middle;\n",
       "    }\n",
       "\n",
       "    .dataframe tbody tr th {\n",
       "        vertical-align: top;\n",
       "    }\n",
       "\n",
       "    .dataframe thead th {\n",
       "        text-align: right;\n",
       "    }\n",
       "</style>\n",
       "<table border=\"1\" class=\"dataframe\">\n",
       "  <thead>\n",
       "    <tr style=\"text-align: right;\">\n",
       "      <th></th>\n",
       "      <th>Profissão</th>\n",
       "    </tr>\n",
       "  </thead>\n",
       "  <tbody>\n",
       "    <tr>\n",
       "      <th>0</th>\n",
       "      <td>1</td>\n",
       "    </tr>\n",
       "    <tr>\n",
       "      <th>1</th>\n",
       "      <td>2</td>\n",
       "    </tr>\n",
       "    <tr>\n",
       "      <th>2</th>\n",
       "      <td>3</td>\n",
       "    </tr>\n",
       "    <tr>\n",
       "      <th>3</th>\n",
       "      <td>1</td>\n",
       "    </tr>\n",
       "    <tr>\n",
       "      <th>4</th>\n",
       "      <td>2</td>\n",
       "    </tr>\n",
       "    <tr>\n",
       "      <th>5</th>\n",
       "      <td>2</td>\n",
       "    </tr>\n",
       "    <tr>\n",
       "      <th>6</th>\n",
       "      <td>2</td>\n",
       "    </tr>\n",
       "    <tr>\n",
       "      <th>7</th>\n",
       "      <td>3</td>\n",
       "    </tr>\n",
       "    <tr>\n",
       "      <th>8</th>\n",
       "      <td>3</td>\n",
       "    </tr>\n",
       "    <tr>\n",
       "      <th>9</th>\n",
       "      <td>2</td>\n",
       "    </tr>\n",
       "    <tr>\n",
       "      <th>10</th>\n",
       "      <td>1</td>\n",
       "    </tr>\n",
       "    <tr>\n",
       "      <th>11</th>\n",
       "      <td>3</td>\n",
       "    </tr>\n",
       "  </tbody>\n",
       "</table>\n",
       "</div>"
      ],
      "text/plain": [
       "    Profissão\n",
       "0           1\n",
       "1           2\n",
       "2           3\n",
       "3           1\n",
       "4           2\n",
       "5           2\n",
       "6           2\n",
       "7           3\n",
       "8           3\n",
       "9           2\n",
       "10          1\n",
       "11          3"
      ]
     },
     "execution_count": 45,
     "metadata": {},
     "output_type": "execute_result"
    }
   ],
   "source": [
    "dados2 = pd.DataFrame({'Profissão': [1, 2, 3, 1, 2, 2, 2, 3, 3, 2, 1, 3]})\n",
    "dados2"
   ]
  },
  {
   "cell_type": "code",
   "execution_count": 61,
   "id": "59f025f6",
   "metadata": {},
   "outputs": [],
   "source": [
    "freq = dados2['Profissão'].value_counts()\n",
    "percent = dados2['Profissão'].value_counts(normalize = True)* 100"
   ]
  },
  {
   "cell_type": "code",
   "execution_count": 65,
   "id": "865a1382",
   "metadata": {},
   "outputs": [
    {
     "data": {
      "text/html": [
       "<div>\n",
       "<style scoped>\n",
       "    .dataframe tbody tr th:only-of-type {\n",
       "        vertical-align: middle;\n",
       "    }\n",
       "\n",
       "    .dataframe tbody tr th {\n",
       "        vertical-align: top;\n",
       "    }\n",
       "\n",
       "    .dataframe thead th {\n",
       "        text-align: right;\n",
       "    }\n",
       "</style>\n",
       "<table border=\"1\" class=\"dataframe\">\n",
       "  <thead>\n",
       "    <tr style=\"text-align: right;\">\n",
       "      <th></th>\n",
       "      <th>Frequência</th>\n",
       "      <th>Porcentagem (%)</th>\n",
       "    </tr>\n",
       "  </thead>\n",
       "  <tbody>\n",
       "    <tr>\n",
       "      <th>2</th>\n",
       "      <td>41.666667</td>\n",
       "      <td>41.666667</td>\n",
       "    </tr>\n",
       "    <tr>\n",
       "      <th>3</th>\n",
       "      <td>33.333333</td>\n",
       "      <td>33.333333</td>\n",
       "    </tr>\n",
       "    <tr>\n",
       "      <th>1</th>\n",
       "      <td>25.000000</td>\n",
       "      <td>25.000000</td>\n",
       "    </tr>\n",
       "  </tbody>\n",
       "</table>\n",
       "</div>"
      ],
      "text/plain": [
       "   Frequência  Porcentagem (%)\n",
       "2   41.666667        41.666667\n",
       "3   33.333333        33.333333\n",
       "1   25.000000        25.000000"
      ]
     },
     "execution_count": 65,
     "metadata": {},
     "output_type": "execute_result"
    }
   ],
   "source": [
    "dist_freq_quali = pd.DataFrame({'Frequência': freq, 'Porcentagem (%)': percent})\n",
    "dist_freq_quali"
   ]
  },
  {
   "cell_type": "code",
   "execution_count": 66,
   "id": "3eeafe0b",
   "metadata": {},
   "outputs": [
    {
     "data": {
      "text/html": [
       "<div>\n",
       "<style scoped>\n",
       "    .dataframe tbody tr th:only-of-type {\n",
       "        vertical-align: middle;\n",
       "    }\n",
       "\n",
       "    .dataframe tbody tr th {\n",
       "        vertical-align: top;\n",
       "    }\n",
       "\n",
       "    .dataframe thead th {\n",
       "        text-align: right;\n",
       "    }\n",
       "</style>\n",
       "<table border=\"1\" class=\"dataframe\">\n",
       "  <thead>\n",
       "    <tr style=\"text-align: right;\">\n",
       "      <th></th>\n",
       "      <th>Frequência</th>\n",
       "      <th>Porcentagem (%)</th>\n",
       "    </tr>\n",
       "  </thead>\n",
       "  <tbody>\n",
       "    <tr>\n",
       "      <th>Cientista de dados</th>\n",
       "      <td>41.666667</td>\n",
       "      <td>41.666667</td>\n",
       "    </tr>\n",
       "    <tr>\n",
       "      <th>Programador</th>\n",
       "      <td>33.333333</td>\n",
       "      <td>33.333333</td>\n",
       "    </tr>\n",
       "    <tr>\n",
       "      <th>Estatístico</th>\n",
       "      <td>25.000000</td>\n",
       "      <td>25.000000</td>\n",
       "    </tr>\n",
       "  </tbody>\n",
       "</table>\n",
       "</div>"
      ],
      "text/plain": [
       "                    Frequência  Porcentagem (%)\n",
       "Cientista de dados   41.666667        41.666667\n",
       "Programador          33.333333        33.333333\n",
       "Estatístico          25.000000        25.000000"
      ]
     },
     "execution_count": 66,
     "metadata": {},
     "output_type": "execute_result"
    }
   ],
   "source": [
    "dist_freq_quali.rename(index={1: 'Estatístico', 2:'Cientista de dados', 3:'Programador'}, inplace = True)\n",
    "dist_freq_quali"
   ]
  },
  {
   "cell_type": "code",
   "execution_count": 67,
   "id": "ee54b667",
   "metadata": {},
   "outputs": [
    {
     "data": {
      "text/html": [
       "<div>\n",
       "<style scoped>\n",
       "    .dataframe tbody tr th:only-of-type {\n",
       "        vertical-align: middle;\n",
       "    }\n",
       "\n",
       "    .dataframe tbody tr th {\n",
       "        vertical-align: top;\n",
       "    }\n",
       "\n",
       "    .dataframe thead th {\n",
       "        text-align: right;\n",
       "    }\n",
       "</style>\n",
       "<table border=\"1\" class=\"dataframe\">\n",
       "  <thead>\n",
       "    <tr style=\"text-align: right;\">\n",
       "      <th>Profissão</th>\n",
       "      <th>Frequência</th>\n",
       "      <th>Porcentagem (%)</th>\n",
       "    </tr>\n",
       "  </thead>\n",
       "  <tbody>\n",
       "    <tr>\n",
       "      <th>Cientista de dados</th>\n",
       "      <td>41.666667</td>\n",
       "      <td>41.666667</td>\n",
       "    </tr>\n",
       "    <tr>\n",
       "      <th>Programador</th>\n",
       "      <td>33.333333</td>\n",
       "      <td>33.333333</td>\n",
       "    </tr>\n",
       "    <tr>\n",
       "      <th>Estatístico</th>\n",
       "      <td>25.000000</td>\n",
       "      <td>25.000000</td>\n",
       "    </tr>\n",
       "  </tbody>\n",
       "</table>\n",
       "</div>"
      ],
      "text/plain": [
       "Profissão           Frequência  Porcentagem (%)\n",
       "Cientista de dados   41.666667        41.666667\n",
       "Programador          33.333333        33.333333\n",
       "Estatístico          25.000000        25.000000"
      ]
     },
     "execution_count": 67,
     "metadata": {},
     "output_type": "execute_result"
    }
   ],
   "source": [
    "dist_freq_quali.rename_axis('Profissão', axis='columns', inplace = True)\n",
    "dist_freq_quali"
   ]
  },
  {
   "cell_type": "code",
   "execution_count": null,
   "id": "ab9e3ff0",
   "metadata": {},
   "outputs": [],
   "source": []
  }
 ],
 "metadata": {
  "kernelspec": {
   "display_name": "Python 3 (ipykernel)",
   "language": "python",
   "name": "python3"
  },
  "language_info": {
   "codemirror_mode": {
    "name": "ipython",
    "version": 3
   },
   "file_extension": ".py",
   "mimetype": "text/x-python",
   "name": "python",
   "nbconvert_exporter": "python",
   "pygments_lexer": "ipython3",
   "version": "3.7.15"
  }
 },
 "nbformat": 4,
 "nbformat_minor": 5
}

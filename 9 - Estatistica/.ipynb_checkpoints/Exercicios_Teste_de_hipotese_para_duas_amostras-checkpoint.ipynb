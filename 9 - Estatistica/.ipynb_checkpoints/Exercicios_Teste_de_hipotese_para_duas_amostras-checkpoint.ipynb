{
 "cells": [
  {
   "cell_type": "markdown",
   "id": "ed690e05",
   "metadata": {},
   "source": [
    "### Teste de hipótese para duas amostras\n",
    "\n",
    "> Sabemos que o teste de hipótese para duas amostras é uma técnica estatística que permite comparar se há diferença significativa entre as médias de duas amostras, tendo como passos básicos na condução desses testes os seguintes parâmetros:\n",
    "\n",
    "> - Formule a hipótese nula (H0) e a hipótese alternativa (Ha). A hipótese nula é geralmente que as médias das duas amostras são iguais. A hipótese alternativa é geralmente que as médias são diferentes.\n",
    "\n",
    "> - Escolha um nível de significância (α), que é o valor máximo que você está disposto a aceitar como chance de um erro tipo I (rejeição da hipótese nula quando ela é verdadeira). O valor padrão é geralmente 0,05.\n",
    "\n",
    "> - Calcule o teste-t (ou uma outra medida apropriada, dependendo da distribuição dos dados) e o p-valor. O p-valor é a probabilidade de obter um valor t tão extremo ou mais extremo do que o valor observado, caso a hipótese nula seja verdadeira.\n",
    "\n",
    "> - Compare o p-valor com o nível de significância (α). Se o p-valor for menor que α, rejeite a hipótese nula. Caso contrário, não há evidência suficiente para rejeitar a hipótese nula.\n",
    "\n",
    "> - Conclua o teste interpretando o resultado e indicando se há ou não diferença significativa entre as médias das duas amostras.\n",
    "\n",
    "> Lembre-se de que um teste de hipótese para duas amostras não prova que as médias são diferentes, mas apenas indica se há ou não evidência suficiente para rejeitar a hipótese nula. Além disso, é importante levar em consideração outros fatores, como a qualidade e representatividade das amostras, para chegar a conclusões adequadas."
   ]
  },
  {
   "cell_type": "markdown",
   "id": "feee83eb",
   "metadata": {},
   "source": [
    "## <font color='red'>Exercícios</font>\n",
    "\n",
    "\n",
    "### Vamos agora colocar em prática o conteúdo que vímos até agora em alguns problemas que poderíamos encontrar em nosso cotidiano.\n",
    "\n",
    "#### <font color='blue'>Exercício 1</font>\n",
    "\n",
    "> Crie um exemplo em Python de como realizar um teste T (t-test) para comparar duas amostras de dados para verificar se há diferença significativa entre elas."
   ]
  },
  {
   "cell_type": "code",
   "execution_count": 1,
   "id": "0773a2a7",
   "metadata": {},
   "outputs": [],
   "source": [
    "import pandas as pd\n",
    "import numpy as np\n",
    "import seaborn as sns\n",
    "from scipy.stats import t as t_student\n",
    "from scipy import stats"
   ]
  },
  {
   "cell_type": "code",
   "execution_count": 2,
   "id": "8043ce07",
   "metadata": {
    "scrolled": true
   },
   "outputs": [
    {
     "data": {
      "text/plain": [
       "array([0.95528535, 0.65008557, 0.28210751, 0.54771174, 0.40904646,\n",
       "       0.49670449, 0.87647023, 0.40854568, 0.71481876, 0.16339067])"
      ]
     },
     "execution_count": 2,
     "metadata": {},
     "output_type": "execute_result"
    }
   ],
   "source": [
    "sample1 = np.random.random((10,))\n",
    "sample1"
   ]
  },
  {
   "cell_type": "code",
   "execution_count": 3,
   "id": "e5a469ca",
   "metadata": {},
   "outputs": [
    {
     "data": {
      "text/plain": [
       "array([0.00425593, 0.76106155, 0.27375011, 0.19799428, 0.9354393 ,\n",
       "       0.36783758, 0.85054506, 0.7026618 , 0.92871414, 0.97961771])"
      ]
     },
     "execution_count": 3,
     "metadata": {},
     "output_type": "execute_result"
    }
   ],
   "source": [
    "sample2 = np.random.random((10,))\n",
    "sample2"
   ]
  },
  {
   "cell_type": "markdown",
   "id": "400803a0",
   "metadata": {},
   "source": [
    "### <font color = 'Deeppink'>A função stats.ttest_ind possui como hipótese nula que duas amostras independentes possuem médias idênticas. Isso significa que faremos um teste bicaudal."
   ]
  },
  {
   "cell_type": "code",
   "execution_count": 4,
   "id": "d3ff980a",
   "metadata": {},
   "outputs": [
    {
     "data": {
      "text/plain": [
       "Ttest_indResult(statistic=-0.36078558736944055, pvalue=0.7229178501193483)"
      ]
     },
     "execution_count": 4,
     "metadata": {},
     "output_type": "execute_result"
    }
   ],
   "source": [
    "t= stats.ttest_ind(sample1, sample2, equal_var = False)\n",
    "t"
   ]
  },
  {
   "cell_type": "markdown",
   "id": "e0185b40",
   "metadata": {},
   "source": [
    "### <font color = 'Deeppink'>Supondo um nível de confiança de 95% temos:"
   ]
  },
  {
   "cell_type": "code",
   "execution_count": 5,
   "id": "fd56d5bc",
   "metadata": {},
   "outputs": [
    {
     "data": {
      "text/plain": [
       "1.729132811521367"
      ]
     },
     "execution_count": 5,
     "metadata": {},
     "output_type": "execute_result"
    }
   ],
   "source": [
    "confidence = 1 - 0.05\n",
    "df = 19\n",
    "t_alpha = t_student.ppf(confidence, df)\n",
    "t_alpha"
   ]
  },
  {
   "cell_type": "markdown",
   "id": "636a573f",
   "metadata": {},
   "source": [
    "### <font color = 'deeppink'>Teste de rejeição de t"
   ]
  },
  {
   "cell_type": "code",
   "execution_count": 6,
   "id": "e3be27ba",
   "metadata": {},
   "outputs": [
    {
     "data": {
      "text/plain": [
       "False"
      ]
     },
     "execution_count": 6,
     "metadata": {},
     "output_type": "execute_result"
    }
   ],
   "source": [
    "t[0] <= (-t_alpha/2)"
   ]
  },
  {
   "cell_type": "markdown",
   "id": "697ef0ac",
   "metadata": {},
   "source": [
    "### <font color = 'deeppink'>Conclusão: Rejeitamos a hipótese nula de que as médias são idênticas com 95% de confiança."
   ]
  },
  {
   "cell_type": "markdown",
   "id": "c725d297",
   "metadata": {},
   "source": [
    "#### <font color='blue'>Exercício 2</font>\n",
    "\n",
    "> Baseado nos arrays apresentados abaixo, desenvolva um exemplo em Python de como calcular e plotar a correlação entre essas duas variáveis:\n",
    ">\n",
    "> data = {'var1': [1, 2, 3, 4, 5],\n",
    ">        'var2': [5, 4, 3, 2, 1]}\n",
    ">"
   ]
  },
  {
   "cell_type": "code",
   "execution_count": 7,
   "id": "4d275ccc",
   "metadata": {},
   "outputs": [
    {
     "data": {
      "text/html": [
       "<div>\n",
       "<style scoped>\n",
       "    .dataframe tbody tr th:only-of-type {\n",
       "        vertical-align: middle;\n",
       "    }\n",
       "\n",
       "    .dataframe tbody tr th {\n",
       "        vertical-align: top;\n",
       "    }\n",
       "\n",
       "    .dataframe thead th {\n",
       "        text-align: right;\n",
       "    }\n",
       "</style>\n",
       "<table border=\"1\" class=\"dataframe\">\n",
       "  <thead>\n",
       "    <tr style=\"text-align: right;\">\n",
       "      <th></th>\n",
       "      <th>var1</th>\n",
       "      <th>var2</th>\n",
       "    </tr>\n",
       "  </thead>\n",
       "  <tbody>\n",
       "    <tr>\n",
       "      <th>0</th>\n",
       "      <td>1</td>\n",
       "      <td>5</td>\n",
       "    </tr>\n",
       "    <tr>\n",
       "      <th>1</th>\n",
       "      <td>2</td>\n",
       "      <td>4</td>\n",
       "    </tr>\n",
       "    <tr>\n",
       "      <th>2</th>\n",
       "      <td>3</td>\n",
       "      <td>3</td>\n",
       "    </tr>\n",
       "    <tr>\n",
       "      <th>3</th>\n",
       "      <td>4</td>\n",
       "      <td>2</td>\n",
       "    </tr>\n",
       "    <tr>\n",
       "      <th>4</th>\n",
       "      <td>5</td>\n",
       "      <td>1</td>\n",
       "    </tr>\n",
       "  </tbody>\n",
       "</table>\n",
       "</div>"
      ],
      "text/plain": [
       "   var1  var2\n",
       "0     1     5\n",
       "1     2     4\n",
       "2     3     3\n",
       "3     4     2\n",
       "4     5     1"
      ]
     },
     "execution_count": 7,
     "metadata": {},
     "output_type": "execute_result"
    }
   ],
   "source": [
    "data = {'var1': [1, 2, 3, 4, 5], 'var2': [5, 4, 3, 2, 1]}\n",
    "df = pd.DataFrame(data)\n",
    "df"
   ]
  },
  {
   "cell_type": "code",
   "execution_count": 11,
   "id": "f05f3a79",
   "metadata": {
    "scrolled": false
   },
   "outputs": [
    {
     "data": {
      "text/html": [
       "<div>\n",
       "<style scoped>\n",
       "    .dataframe tbody tr th:only-of-type {\n",
       "        vertical-align: middle;\n",
       "    }\n",
       "\n",
       "    .dataframe tbody tr th {\n",
       "        vertical-align: top;\n",
       "    }\n",
       "\n",
       "    .dataframe thead th {\n",
       "        text-align: right;\n",
       "    }\n",
       "</style>\n",
       "<table border=\"1\" class=\"dataframe\">\n",
       "  <thead>\n",
       "    <tr style=\"text-align: right;\">\n",
       "      <th></th>\n",
       "      <th>var1</th>\n",
       "      <th>var2</th>\n",
       "    </tr>\n",
       "  </thead>\n",
       "  <tbody>\n",
       "    <tr>\n",
       "      <th>var1</th>\n",
       "      <td>1.0</td>\n",
       "      <td>-1.0</td>\n",
       "    </tr>\n",
       "    <tr>\n",
       "      <th>var2</th>\n",
       "      <td>-1.0</td>\n",
       "      <td>1.0</td>\n",
       "    </tr>\n",
       "  </tbody>\n",
       "</table>\n",
       "</div>"
      ],
      "text/plain": [
       "      var1  var2\n",
       "var1   1.0  -1.0\n",
       "var2  -1.0   1.0"
      ]
     },
     "execution_count": 11,
     "metadata": {},
     "output_type": "execute_result"
    }
   ],
   "source": [
    "df.corr(method='pearson')"
   ]
  },
  {
   "cell_type": "code",
   "execution_count": 14,
   "id": "9d8edf63",
   "metadata": {
    "scrolled": true
   },
   "outputs": [
    {
     "data": {
      "text/plain": [
       "<seaborn.axisgrid.FacetGrid at 0x7fc7e155a5f0>"
      ]
     },
     "execution_count": 14,
     "metadata": {},
     "output_type": "execute_result"
    },
    {
     "data": {
      "image/png": "[encoded data removed]",
      "text/plain": [
       "<Figure size 500x500 with 1 Axes>"
      ]
     },
     "metadata": {},
     "output_type": "display_data"
    }
   ],
   "source": [
    "sns.lmplot(data=df, x=\"var1\", y=\"var2\", palette = 'RdPu')"
   ]
  },
  {
   "cell_type": "markdown",
   "id": "b45da0c4",
   "metadata": {},
   "source": [
    "#### <font color='blue'>Exercício 3</font>\n",
    "\n",
    "\n",
    "> Apresente um exemplo em Python de como realizar um teste de hipótese usando a biblioteca scipy:\n",
    ">"
   ]
  },
  {
   "cell_type": "code",
   "execution_count": null,
   "id": "cc73ad2e",
   "metadata": {},
   "outputs": [],
   "source": []
  },
  {
   "cell_type": "markdown",
   "id": "0ec61cc1",
   "metadata": {},
   "source": [
    "#### <font color='blue'>Exercício 4</font>\n",
    "\n",
    "> Um fabricante de farinha afirma que a quantidade média de farinha nas embalagens de seu principal produto é de **500 g**. Um teste de pesagem em **30 embalagens** amostradas ao acaso mostrou um peso médio igual à **485 g**. Estudos anteriores afirmam que a distribuição dos pesos segue uma normal e que o desvio padrão populacional é igual a **20 g**. Considerando um nível de significância igual a **5%**, responda as seguintes questões:\n",
    "\n",
    "> 1) Qual a hipótese nula a ser testada?\n",
    ">\n",
    "> 2) Qual o valor da estatística de teste?\n",
    ">\n",
    "> 3) Qual a conclusão do teste?"
   ]
  },
  {
   "cell_type": "code",
   "execution_count": 42,
   "id": "9fae2a34",
   "metadata": {},
   "outputs": [
    {
     "name": "stdout",
     "output_type": "stream",
     "text": [
      "O valor de z é: -4.1079\n"
     ]
    }
   ],
   "source": [
    "from scipy.stats import norm\n",
    "import numpy as np\n",
    "\n",
    "media = 500\n",
    "media_amostra = 485\n",
    "n = 30\n",
    "desvio_padrao = 20\n",
    "significancia = 0.05\n",
    "\n",
    "z = (media_amostra - media) / (desvio_padrao / np.sqrt(n))\n",
    "print('O valor de z é: {}'.format(round(z,4)))"
   ]
  },
  {
   "cell_type": "code",
   "execution_count": 47,
   "id": "1f8c5425",
   "metadata": {},
   "outputs": [
    {
     "name": "stdout",
     "output_type": "stream",
     "text": [
      "O valor de p é: 3.992397476901338e-05\n"
     ]
    }
   ],
   "source": [
    "p_valor = (2 * norm.sf(abs(z)))\n",
    "print('O valor de p é: {}'.format(p_valor))"
   ]
  },
  {
   "cell_type": "code",
   "execution_count": 35,
   "id": "1ba95202",
   "metadata": {},
   "outputs": [
    {
     "data": {
      "text/plain": [
       "True"
      ]
     },
     "execution_count": 35,
     "metadata": {},
     "output_type": "execute_result"
    }
   ],
   "source": [
    "p_valor <= significancia"
   ]
  },
  {
   "cell_type": "markdown",
   "id": "5b7907f1",
   "metadata": {},
   "source": [
    "><font color = 'Deeppink'>O p_valor é menor que o nível de significância, portanto devemos rejeitar a hipótese nula $H_0$</font>"
   ]
  },
  {
   "cell_type": "markdown",
   "id": "a627b0a4",
   "metadata": {},
   "source": [
    "#### <font color='blue'>Exercício 5</font>\n",
    "\n",
    "> A empresa SAAE garante ser capaz de realizar o tratamento de esgoto e obter, no máximo, **150 g** de impurezas para cada mil litros de esgoto tratado. Vinte amostras de mil litros de esgoto apresentaram, em média, **230 g** de impurezas e desvio padrão amostral igual a **90 g**.\n",
    ">\n",
    "> Assumindo alfa igual a **5%** e população normalmente distribuída, seria possível discordar da empresa SAAE? \n",
    "> Apresente o código que atesta o resultado dessa hipótese."
   ]
  },
  {
   "cell_type": "code",
   "execution_count": 48,
   "id": "72dc92ff",
   "metadata": {
    "scrolled": true
   },
   "outputs": [
    {
     "data": {
      "text/plain": [
       "3.9752319599996264"
      ]
     },
     "execution_count": 48,
     "metadata": {},
     "output_type": "execute_result"
    }
   ],
   "source": [
    "n = 20\n",
    "media_populacional = 150\n",
    "media_amostral = 230\n",
    "desvio_amostral = 90\n",
    "significancia = 0.05\n",
    "\n",
    "t_exercicio = (media_amostral - media_populacional) / (desvio_amostral / np.sqrt(n))\n",
    "t_exercicio"
   ]
  },
  {
   "cell_type": "markdown",
   "id": "29743621",
   "metadata": {},
   "source": [
    "><font color = 'darkolivegreen'>O valor de 3.98 indica a posição de t para o meu conjunto de dados."
   ]
  },
  {
   "cell_type": "code",
   "execution_count": 49,
   "id": "021dcc33",
   "metadata": {
    "scrolled": true
   },
   "outputs": [
    {
     "data": {
      "text/plain": [
       "1.729132811521367"
      ]
     },
     "execution_count": 49,
     "metadata": {},
     "output_type": "execute_result"
    }
   ],
   "source": [
    "grau_de_liberdade = 19\n",
    "confianca = 1 - significancia\n",
    "\n",
    "t_alpha = t_student.ppf(confianca, grau_de_liberdade)\n",
    "t_alpha"
   ]
  },
  {
   "cell_type": "markdown",
   "id": "d5475dc7",
   "metadata": {},
   "source": [
    "><font color = 'darkolivegreen'>Já o valor de 1.73 $t_\\alpha$ é o valor máximo da região de aceitação, ou seja, valores maiores que 1.73 fazem parte da área de rejeição do gráfico."
   ]
  },
  {
   "cell_type": "code",
   "execution_count": 51,
   "id": "75735978",
   "metadata": {},
   "outputs": [
    {
     "data": {
      "text/plain": [
       "False"
      ]
     },
     "execution_count": 51,
     "metadata": {},
     "output_type": "execute_result"
    }
   ],
   "source": [
    "t_exercicio <= t_alpha"
   ]
  },
  {
   "cell_type": "markdown",
   "id": "fe1304be",
   "metadata": {},
   "source": [
    "><font color = 'darkolivegreen'>O valor de t está dentro da área de **rejeição**, portanto a hipótese nula $(H_0)$ deve ser **rejeitada**. A alegação da empresa não é verdadeira."
   ]
  },
  {
   "cell_type": "markdown",
   "id": "ef794066",
   "metadata": {},
   "source": [
    "#### <font color='blue'>Exercício 6</font>\n",
    "\n",
    "> A pizzaria Pizza da Mama alega que a quantidade de queijo em suas pizzas tamanho família é de, no mínimo, **350 g**. Uma amostra de **35 pizzas** tamanho família revelou uma **média de 330 g** de queijo por pizza. O desvio padrão **amostral** foi de 80 g.\n",
    ">\n",
    "> Assumindo alfa igual a **5%** e população normalmente distribuída, seria possível discordar da alegação da pizzaria? Assinale a alternativa que apresenta a estatística de teste e a decisão correta do teste."
   ]
  },
  {
   "cell_type": "code",
   "execution_count": 52,
   "id": "a70f26fb",
   "metadata": {},
   "outputs": [
    {
     "data": {
      "text/plain": [
       "1.6448536269514722"
      ]
     },
     "execution_count": 52,
     "metadata": {},
     "output_type": "execute_result"
    }
   ],
   "source": [
    "n = 35\n",
    "media_pop = 350\n",
    "media_amostral = 330\n",
    "desvio_amostral = 80\n",
    "significancia = 0.05\n",
    "confianca = 1 - significancia\n",
    "\n",
    "z_alpha = norm.ppf(confianca)\n",
    "z_alpha"
   ]
  },
  {
   "cell_type": "code",
   "execution_count": 53,
   "id": "08f6b54e",
   "metadata": {},
   "outputs": [
    {
     "data": {
      "text/plain": [
       "-1.479019945774904"
      ]
     },
     "execution_count": 53,
     "metadata": {},
     "output_type": "execute_result"
    }
   ],
   "source": [
    "z = (media_amostral - media_pop) / (desvio_amostral / np.sqrt(n))\n",
    "z"
   ]
  },
  {
   "cell_type": "code",
   "execution_count": 54,
   "id": "4dcfef6d",
   "metadata": {},
   "outputs": [
    {
     "name": "stdout",
     "output_type": "stream",
     "text": [
      "z(alpha) = 1.645\n",
      "z = -1.479\n",
      "Aceitar H0\n"
     ]
    }
   ],
   "source": [
    "print('z(alpha) =', round(z_alpha, 3))\n",
    "print('z =', round(z, 3))\n",
    "if(z <= -z_alpha):\n",
    "    print('Rejeitar H0')\n",
    "else:\n",
    "    print('Aceitar H0')"
   ]
  },
  {
   "cell_type": "markdown",
   "id": "7da514a1",
   "metadata": {},
   "source": [
    "><font color = 'Deeppink'>Ao nível de confiança de 95%, não podemos rejeitar a hipótese de que as pizzas da pizzaria Muito Queijo têm pelo menos 350 g de queijo."
   ]
  },
  {
   "cell_type": "markdown",
   "id": "3796f433",
   "metadata": {},
   "source": [
    "#### <font color='blue'>Exercício 7</font>\n",
    "\n",
    "\n",
    "> Baseado nos exemplos já visto, temos em nosso dataset os rendimento dos chefes de domicílio obtidos da Pesquisa Nacional por Amostra de Domicílios - PNAD no ano de 2015. Um problema bastante conhecido em nosso país diz respeito a desigualdade de renda, principalmente entre homens e mulheres.\n",
    "\n",
    "> Duas amostras aleatórias, uma de **500 homens** e outra com **500 mulheres**, foram selecionadas em nosso dataset. Com o objetivo de comprovar tal desigualdade, **teste a igualdade das médias** entre estas duas amostras com um nível de **significância de 1%**."
   ]
  },
  {
   "cell_type": "code",
   "execution_count": 55,
   "id": "844eb6b4",
   "metadata": {},
   "outputs": [],
   "source": [
    "df = pd.read_csv('/home/hub/git-pessoal/Aulas_git_Ai2/9 - Estatistica/dados.csv')"
   ]
  },
  {
   "cell_type": "markdown",
   "id": "1d2b022a",
   "metadata": {},
   "source": [
    "### <font color = 'Deeppink'>Criando as amostras aleatórias"
   ]
  },
  {
   "cell_type": "code",
   "execution_count": 56,
   "id": "f664cd53",
   "metadata": {},
   "outputs": [
    {
     "data": {
      "text/plain": [
       "26241     300\n",
       "65579    1000\n",
       "58984    4000\n",
       "65931    5000\n",
       "25501     300\n",
       "         ... \n",
       "25494     220\n",
       "1452      600\n",
       "29454     788\n",
       "5289     1750\n",
       "54618    7000\n",
       "Name: Renda, Length: 500, dtype: int64"
      ]
     },
     "execution_count": 56,
     "metadata": {},
     "output_type": "execute_result"
    }
   ],
   "source": [
    "amostra_h = df.query('Sexo == 0').sample(n = 500, random_state = 101).Renda\n",
    "amostra_h"
   ]
  },
  {
   "cell_type": "code",
   "execution_count": 57,
   "id": "c3d695cb",
   "metadata": {},
   "outputs": [
    {
     "data": {
      "text/plain": [
       "10179     788\n",
       "43943    1200\n",
       "75223    6000\n",
       "33243    1000\n",
       "5189      788\n",
       "         ... \n",
       "7383     1000\n",
       "70775     400\n",
       "56737    2000\n",
       "35947     200\n",
       "47913    1600\n",
       "Name: Renda, Length: 500, dtype: int64"
      ]
     },
     "execution_count": 57,
     "metadata": {},
     "output_type": "execute_result"
    }
   ],
   "source": [
    "amostra_m = df.query('Sexo == 1').sample(n = 500, random_state = 101).Renda\n",
    "amostra_m"
   ]
  },
  {
   "cell_type": "markdown",
   "id": "68c6170b",
   "metadata": {},
   "source": [
    "### <font color = 'Deeppink'>Extraindo informações das amostras"
   ]
  },
  {
   "cell_type": "code",
   "execution_count": 58,
   "id": "659753d5",
   "metadata": {},
   "outputs": [],
   "source": [
    "n_homens = 500\n",
    "n_mulheres = 500\n",
    "signif = 0.01\n",
    "confidence = 1 - signif"
   ]
  },
  {
   "cell_type": "code",
   "execution_count": 59,
   "id": "54f9b884",
   "metadata": {},
   "outputs": [
    {
     "data": {
      "text/plain": [
       "2142.608"
      ]
     },
     "execution_count": 59,
     "metadata": {},
     "output_type": "execute_result"
    }
   ],
   "source": [
    "media_h = amostra_h.mean()\n",
    "media_h"
   ]
  },
  {
   "cell_type": "code",
   "execution_count": 60,
   "id": "4125cd5d",
   "metadata": {},
   "outputs": [
    {
     "data": {
      "text/plain": [
       "1357.528"
      ]
     },
     "execution_count": 60,
     "metadata": {},
     "output_type": "execute_result"
    }
   ],
   "source": [
    "media_m = amostra_m.mean()\n",
    "media_m"
   ]
  },
  {
   "cell_type": "code",
   "execution_count": 61,
   "id": "c86f9435",
   "metadata": {},
   "outputs": [
    {
     "data": {
      "text/plain": [
       "2548.0508024998717"
      ]
     },
     "execution_count": 61,
     "metadata": {},
     "output_type": "execute_result"
    }
   ],
   "source": [
    "desv_h = amostra_h.std()\n",
    "desv_h"
   ]
  },
  {
   "cell_type": "code",
   "execution_count": 62,
   "id": "e6f3e0eb",
   "metadata": {},
   "outputs": [
    {
     "data": {
      "text/plain": [
       "1569.901190748458"
      ]
     },
     "execution_count": 62,
     "metadata": {},
     "output_type": "execute_result"
    }
   ],
   "source": [
    "desv_m = amostra_m.std()\n",
    "desv_m"
   ]
  },
  {
   "cell_type": "markdown",
   "id": "de5397d3",
   "metadata": {},
   "source": [
    "#### <font color = 'Deeppink'> **Hipótese nula:** A média das rendas dos homens é menor que a das mulheres ($H_0$: $\\mu_1$ <= $\\mu_2\\$) ao nível de 99% de confiança?</font>\n",
    "\n",
    "$\\mu_1 \\Rightarrow$ Média das rendas dos chefes de domicílios do sexo masculino\n",
    "\n",
    "$\\mu_2 \\Rightarrow$ Média das rendas dos chefes de domicílios do sexo feminino\n",
    "\n",
    "$\n",
    "\\begin{cases}\n",
    "H_0: \\mu_1 \\leq \\mu_2\\\\\n",
    "H_1: \\mu_1 > \\mu_2\n",
    "\\end{cases}\n",
    "$\n",
    "\n",
    "ou\n",
    "\n",
    "$\n",
    "\\begin{cases}\n",
    "H_0: \\mu_1 -\\mu_2 \\leq 0\\\\\n",
    "H_1: \\mu_1 -\\mu_2 > 0\n",
    "\\end{cases}\n",
    "$"
   ]
  },
  {
   "cell_type": "markdown",
   "id": "1079445f",
   "metadata": {},
   "source": [
    "><font color = 'Deeppink'>Como a hipótese nula será avaliar uma diferença faremos um teste unicaudal e como o valor calculado deve ser menor que o proposto, estamos avaliando o limite superior."
   ]
  },
  {
   "cell_type": "code",
   "execution_count": 63,
   "id": "dc1653c4",
   "metadata": {},
   "outputs": [
    {
     "data": {
      "text/plain": [
       "2.3263478740408408"
      ]
     },
     "execution_count": 63,
     "metadata": {},
     "output_type": "execute_result"
    }
   ],
   "source": [
    "# Limite máximo aceitavel, maior que isso a hipótese nula será rejeitada.\n",
    "z_alpha = norm.ppf(confidence)\n",
    "z_alpha"
   ]
  },
  {
   "cell_type": "markdown",
   "id": "282d7759",
   "metadata": {},
   "source": [
    "### <font color = 'Deeppink'>Calculando $z$"
   ]
  },
  {
   "cell_type": "markdown",
   "id": "71851d60",
   "metadata": {},
   "source": [
    "Cálculo da estatística-teste e verificação desse valor com as áreas de aceitação e rejeição do teste\n",
    "\n",
    "$$z = \\frac{(\\bar{x_1} - \\bar{x_2})-D_0}{\\sqrt{\\frac{s_1^2}{n_1} + \\frac{s_2^2}{n_2}}}$$"
   ]
  },
  {
   "cell_type": "code",
   "execution_count": 64,
   "id": "6cfc5a84",
   "metadata": {},
   "outputs": [
    {
     "data": {
      "text/plain": [
       "5.8656200577647555"
      ]
     },
     "execution_count": 64,
     "metadata": {},
     "output_type": "execute_result"
    }
   ],
   "source": [
    "d = 0 # diferença entre as medias amostrais \n",
    "\n",
    "z = ((media_h - media_m) - d) / np.sqrt((desv_h **2 / n_homens) + (desv_m ** 2 / n_mulheres))\n",
    "z"
   ]
  },
  {
   "cell_type": "code",
   "execution_count": 65,
   "id": "09bdec5c",
   "metadata": {},
   "outputs": [
    {
     "data": {
      "text/plain": [
       "True"
      ]
     },
     "execution_count": 65,
     "metadata": {},
     "output_type": "execute_result"
    }
   ],
   "source": [
    "z >= z_alpha"
   ]
  },
  {
   "cell_type": "markdown",
   "id": "e9171d45",
   "metadata": {},
   "source": [
    "><font color = 'Deeppink'>**Como a hipótese nula foi rejeitada, podemos dizer que a média das rendas entre homens e mulheres não são iguais ao nível de 99% de confiança.**</font>"
   ]
  },
  {
   "cell_type": "markdown",
   "id": "40e640f1",
   "metadata": {},
   "source": [
    "#### <font color='blue'>Exercício 8</font>\n",
    "\n",
    " \n",
    "> O número de pontos de um exame de inglês tem sido historicamente ao redor de **80**. Sorteamos **10 estudantes** que fizeram recentemente esse exame e observamos as notas: 65, 74, 78, 86, 59, 84, 75, 72, 81 e 83. \n",
    "> Especialistas desconfiam que a média diminuiu e desejam testar essa afirmação através de um teste de hipóteses, com nível de significância de **5%**. Fazendo as suposições necessárias, apresente:\n",
    "\n",
    "> - Qual seria a conclusão do teste? \n",
    "> - Quais suposições serão necessárias para a realização do teste?\n",
    "> - Qual hipótese iremos apresentar como resultado?"
   ]
  },
  {
   "cell_type": "code",
   "execution_count": 93,
   "id": "0b485dcc",
   "metadata": {},
   "outputs": [],
   "source": [
    "media = 80\n",
    "n = 10\n",
    "significancia = 0.05\n",
    "\n",
    "dados = {'dados': [65, 74, 78, 86, 59, 84, 75, 72, 81, 83]}\n",
    "df2 = pd.DataFrame(dados)"
   ]
  },
  {
   "cell_type": "code",
   "execution_count": 99,
   "id": "78570c15",
   "metadata": {},
   "outputs": [
    {
     "data": {
      "text/plain": [
       "dados    75.7\n",
       "dtype: float64"
      ]
     },
     "execution_count": 99,
     "metadata": {},
     "output_type": "execute_result"
    }
   ],
   "source": [
    "media_amostral = df2.mean()\n",
    "media_amostral"
   ]
  },
  {
   "cell_type": "code",
   "execution_count": 95,
   "id": "c0a3b25f",
   "metadata": {},
   "outputs": [],
   "source": [
    "desvio_amostral = df2.std()"
   ]
  },
  {
   "cell_type": "code",
   "execution_count": 96,
   "id": "d55e7e1f",
   "metadata": {},
   "outputs": [
    {
     "data": {
      "text/plain": [
       "dados   -1.573522\n",
       "dtype: float64"
      ]
     },
     "execution_count": 96,
     "metadata": {},
     "output_type": "execute_result"
    }
   ],
   "source": [
    "t2 = (media_amostral - media) / (desvio_amostral / np.sqrt(n))\n",
    "t2"
   ]
  },
  {
   "cell_type": "code",
   "execution_count": 109,
   "id": "182a7dac",
   "metadata": {},
   "outputs": [
    {
     "data": {
      "text/plain": [
       "1.8331129326536335"
      ]
     },
     "execution_count": 109,
     "metadata": {},
     "output_type": "execute_result"
    }
   ],
   "source": [
    "grau_de_liberdade = 9\n",
    "confianca = 1 - significancia\n",
    "\n",
    "t_alpha = t_student.ppf(confianca, grau_de_liberdade)\n",
    "t_alpha"
   ]
  },
  {
   "cell_type": "code",
   "execution_count": 112,
   "id": "187835d7",
   "metadata": {},
   "outputs": [
    {
     "data": {
      "text/plain": [
       "dados    False\n",
       "dtype: bool"
      ]
     },
     "execution_count": 112,
     "metadata": {},
     "output_type": "execute_result"
    }
   ],
   "source": [
    "t2 <= - t_alpha"
   ]
  },
  {
   "cell_type": "markdown",
   "id": "9142b6f0",
   "metadata": {},
   "source": [
    "<font color = 'Deeppink'> **- Qual seria a conclusão do teste?** Concluímos que não podemos rejeitar a hipótese nula. Diferentemente do que desconfiam os especialistas, a média se manteve a mesma com nível de significância de 5%.\n",
    "    \n",
    "<font color = 'Deeppink'> **- Quais suposições serão necessárias para a realização do teste?** É necessário assumir que os dados possuem uma distribuição normal.\n",
    "    \n",
    "<font color = 'Deeppink'> **- Qual hipótese iremos apresentar como resultado?** A hipótese nula é de a média populacional é maior que a média amostral com nível de significância de 5%, ou seja, se $H_0$ : $\\mu$ >= $\\mu_0$ em que $\\mu$ é a média populacional e $\\mu_0$ é a média amostral."
   ]
  },
  {
   "cell_type": "markdown",
   "id": "f4db4772",
   "metadata": {},
   "source": [
    "#### <font color='blue'>Exercício 9</font>\n",
    "\n",
    "\n",
    "> A vida média de uma amostra de **100 lâmpadas** de certa marca é de **1615 horas**. Por similiariadade com outros processos de fabricação, supomos o desvio padrão igual a **120 horas**. \n",
    "\n",
    "> Utilizando-se um nível de significância igual a **5%**, desejamos testar se a duração média de todas as lâmpadas dessa marca é igual ou é diferente de **1600 horas**. Qual a conclusão podemos tirar após encontrarmos os resultados?"
   ]
  },
  {
   "cell_type": "markdown",
   "id": "633379ff",
   "metadata": {},
   "source": [
    "### igual ou é diferente a um valor = teste bicaudal\n",
    "\n",
    "$H_0: \\mu = \\mu_0$\n",
    "\n",
    "$H_1: \\mu \\neq \\mu_0$"
   ]
  },
  {
   "cell_type": "code",
   "execution_count": 113,
   "id": "7980ce92",
   "metadata": {},
   "outputs": [],
   "source": [
    "n = 100\n",
    "media = 1615\n",
    "desvio = 120\n",
    "significancia = 0.05\n",
    "prob = (0.5 + confianca / 2)\n",
    "media_teste = 1600"
   ]
  },
  {
   "cell_type": "markdown",
   "id": "351a6565",
   "metadata": {},
   "source": [
    "### Obtendo $z_{\\alpha/2}$"
   ]
  },
  {
   "cell_type": "code",
   "execution_count": 114,
   "id": "4b8ec1a5",
   "metadata": {},
   "outputs": [
    {
     "data": {
      "text/plain": [
       "1.959963984540054"
      ]
     },
     "execution_count": 114,
     "metadata": {},
     "output_type": "execute_result"
    }
   ],
   "source": [
    "z_alpha = norm.ppf(prob)\n",
    "z_alpha"
   ]
  },
  {
   "cell_type": "code",
   "execution_count": 115,
   "id": "bae7c123",
   "metadata": {},
   "outputs": [
    {
     "data": {
      "text/plain": [
       "-1.25"
      ]
     },
     "execution_count": 115,
     "metadata": {},
     "output_type": "execute_result"
    }
   ],
   "source": [
    "z = (media_teste - media) / (desvio / np.sqrt(n))\n",
    "z"
   ]
  },
  {
   "cell_type": "markdown",
   "id": "0fe15164",
   "metadata": {},
   "source": [
    "#### Rejeitar $H_0$ se $z \\leq -z_{\\alpha / 2}$ ou se $z \\geq z_{\\alpha / 2}$"
   ]
  },
  {
   "cell_type": "code",
   "execution_count": 118,
   "id": "1544fc29",
   "metadata": {},
   "outputs": [
    {
     "data": {
      "text/plain": [
       "True"
      ]
     },
     "execution_count": 118,
     "metadata": {},
     "output_type": "execute_result"
    }
   ],
   "source": [
    "z <= z_alpha"
   ]
  },
  {
   "cell_type": "code",
   "execution_count": 119,
   "id": "c9e18ba5",
   "metadata": {
    "scrolled": true
   },
   "outputs": [
    {
     "data": {
      "text/plain": [
       "True"
      ]
     },
     "execution_count": 119,
     "metadata": {},
     "output_type": "execute_result"
    }
   ],
   "source": [
    "z >= - z_alpha"
   ]
  },
  {
   "cell_type": "markdown",
   "id": "27276d9f",
   "metadata": {},
   "source": [
    "><font color = 'Deeppink'>O valor de z está dentra da área de aceitação. Logo, a hipótese nula é satisfeita. Portanto, a duração média de todas as lâmpadas dessa marca é igual a 1600 horas com 95% de confiança."
   ]
  },
  {
   "cell_type": "markdown",
   "id": "dd3be174",
   "metadata": {},
   "source": [
    "#### <font color='blue'>Exercício 10</font>\n",
    "\n",
    "> Em uma análise, um pesquisador está realizando um teste para a média e obteve nível descritivo igual a\n",
    "0,035. Baseado neste resultado, ele aceitará a hipótese nula para níveis de significância superiores ou inferioes a 0,035? Justifique."
   ]
  },
  {
   "cell_type": "markdown",
   "id": "6e673c19",
   "metadata": {},
   "source": [
    "<font color = 'Deeppink'>Se **p-valor > nível de significância ($\\alpha$)** = Não rejeitar hipótese nula ($H_0$).\n",
    "    \n",
    "<font color = 'Deeppink'>Se **p-valor < nível de significância ($\\alpha$)** = Rejeitar a nula ($H_0$) e assumir que a hipótese alternativa ($H_1$) é verdadeira.<font color = 'Deeppink'>\n",
    "    \n",
    "    \n",
    "<font color = 'Deeppink'>Neste exercício temos que 0.035 < 0.05 considerando um nível de confiança de 95%.  Portanto, iremos rejeitar a hipótese nula ($H_0$). Para que a hipótese nula seja aceita, o nível de significância ($\\alpha$) deverá inferior a 0.035.</font>"
   ]
  }
 ],
 "metadata": {
  "kernelspec": {
   "display_name": "Python 3 (ipykernel)",
   "language": "python",
   "name": "python3"
  },
  "language_info": {
   "codemirror_mode": {
    "name": "ipython",
    "version": 3
   },
   "file_extension": ".py",
   "mimetype": "text/x-python",
   "name": "python",
   "nbconvert_exporter": "python",
   "pygments_lexer": "ipython3",
   "version": "3.10.6"
  }
 },
 "nbformat": 4,
 "nbformat_minor": 5
}

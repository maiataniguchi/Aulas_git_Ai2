{
 "cells": [
  {
   "cell_type": "markdown",
   "metadata": {},
   "source": [
    "### Teste de hipótese para duas amostras\n",
    "\n",
    "> Sabemos que o teste de hipótese para duas amostras é uma técnica estatística que permite comparar se há diferença significativa entre as médias de duas amostras, tendo como passos básicos na condução desses testes os seguintes parâmetros:\n",
    "\n",
    "> - Formule a hipótese nula (H0) e a hipótese alternativa (Ha). A hipótese nula é geralmente que as médias das duas amostras são iguais. A hipótese alternativa é geralmente que as médias são diferentes.\n",
    "\n",
    "> - Escolha um nível de significância (α), que é o valor máximo que você está disposto a aceitar como chance de um erro tipo I (rejeição da hipótese nula quando ela é verdadeira). O valor padrão é geralmente 0,05.\n",
    "\n",
    "> - Calcule o teste-t (ou uma outra medida apropriada, dependendo da distribuição dos dados) e o p-valor. O p-valor é a probabilidade de obter um valor t tão extremo ou mais extremo do que o valor observado, caso a hipótese nula seja verdadeira.\n",
    "\n",
    "> - Compare o p-valor com o nível de significância (α). Se o p-valor for menor que α, rejeite a hipótese nula. Caso contrário, não há evidência suficiente para rejeitar a hipótese nula.\n",
    "\n",
    "> - Conclua o teste interpretando o resultado e indicando se há ou não diferença significativa entre as médias das duas amostras.\n",
    "\n",
    "> Lembre-se de que um teste de hipótese para duas amostras não prova que as médias são diferentes, mas apenas indica se há ou não evidência suficiente para rejeitar a hipótese nula. Além disso, é importante levar em consideração outros fatores, como a qualidade e representatividade das amostras, para chegar a conclusões adequadas."
   ]
  },
  {
   "cell_type": "markdown",
   "metadata": {},
   "source": [
    "## <font color='red'>Exercícios</font>\n",
    "\n",
    "\n",
    "### Vamos agora colocar em prática o conteúdo que vímos até agora em alguns problemas que poderíamos encontrar em nosso cotidiano.\n",
    "\n",
    "#### <font color='blue'>Exercício 1</font>\n",
    "\n",
    "> Crie um exemplo em Python de como realizar um teste T (t-test) para comparar duas amostras de dados para verificar se há diferença significativa entre elas."
   ]
  },
  {
   "cell_type": "code",
   "execution_count": 12,
   "metadata": {},
   "outputs": [],
   "source": [
    "import pandas as pd\n",
    "import numpy as np\n",
    "from scipy.stats import t as t_student\n",
    "from scipy import stats"
   ]
  },
  {
   "cell_type": "code",
   "execution_count": 13,
   "metadata": {
    "scrolled": true
   },
   "outputs": [
    {
     "data": {
      "text/plain": [
       "array([0.06524203, 0.52932765, 0.30623825, 0.17721011, 0.33628157,\n",
       "       0.83511427, 0.89407114, 0.55492252, 0.92976866, 0.1425082 ])"
      ]
     },
     "execution_count": 13,
     "metadata": {},
     "output_type": "execute_result"
    }
   ],
   "source": [
    "sample1 = np.random.random((10,))\n",
    "sample1"
   ]
  },
  {
   "cell_type": "code",
   "execution_count": 14,
   "metadata": {},
   "outputs": [
    {
     "data": {
      "text/plain": [
       "array([0.71193623, 0.84622906, 0.88361798, 0.43075782, 0.41788626,\n",
       "       0.92714865, 0.82916459, 0.80628747, 0.48530297, 0.64039928])"
      ]
     },
     "execution_count": 14,
     "metadata": {},
     "output_type": "execute_result"
    }
   ],
   "source": [
    "sample2 = np.random.random((10,))\n",
    "sample2"
   ]
  },
  {
   "cell_type": "markdown",
   "metadata": {},
   "source": [
    "### <font color = 'Deeppink'>A função stats.ttest_ind possui como hipótese nula que duas amostras independentes possuem médias idênticas. Isso significa que faremos um teste bicaudal."
   ]
  },
  {
   "cell_type": "code",
   "execution_count": 15,
   "metadata": {},
   "outputs": [
    {
     "data": {
      "text/plain": [
       "Ttest_indResult(statistic=-1.8567558301606808, pvalue=0.08345816607956968)"
      ]
     },
     "execution_count": 15,
     "metadata": {},
     "output_type": "execute_result"
    }
   ],
   "source": [
    "t= stats.ttest_ind(sample1, sample2, equal_var = False)\n",
    "t"
   ]
  },
  {
   "cell_type": "markdown",
   "metadata": {},
   "source": [
    "### <font color = 'Deeppink'>Supondo um nível de confiança de 95% temos:"
   ]
  },
  {
   "cell_type": "code",
   "execution_count": 16,
   "metadata": {},
   "outputs": [
    {
     "data": {
      "text/plain": [
       "1.729132811521367"
      ]
     },
     "execution_count": 16,
     "metadata": {},
     "output_type": "execute_result"
    }
   ],
   "source": [
    "confidence = 1 - 0.05\n",
    "df = 19\n",
    "t_alpha = t_student.ppf(confidence, df)\n",
    "t_alpha"
   ]
  },
  {
   "cell_type": "markdown",
   "id": "636a573f",
   "metadata": {},
   "source": [
    "### <font color = 'deeppink'>Teste de rejeição de t"
   ]
  },
  {
   "cell_type": "code",
   "execution_count": 20,
   "metadata": {},
   "outputs": [
    {
     "data": {
      "text/plain": [
       "True"
      ]
     },
     "execution_count": 20,
     "metadata": {},
     "output_type": "execute_result"
    }
   ],
   "source": [
    "t[0] <= (-t_alpha/2)"
   ]
  },
  {
   "cell_type": "markdown",
   "metadata": {},
   "source": [
    "### <font color = 'deeppink'>Conclusão: Rejeitamos a hipótese nula de que as médias são idênticas com 95% de confiança."
   ]
  },
  {
   "cell_type": "markdown",
   "metadata": {},
   "source": [
    "#### <font color='blue'>Exercício 2</font>\n",
    "\n",
    "> Baseado nos arrays apresentados abaixo, desenvolva um exemplo em Python de como calcular e plotar a correlação entre essas duas variáveis:\n",
    ">\n",
    "> data = {'var1': [1, 2, 3, 4, 5],\n",
    ">        'var2': [5, 4, 3, 2, 1]}\n",
    ">"
   ]
  },
  {
   "cell_type": "markdown",
   "metadata": {},
   "source": [
    "#### <font color='blue'>Exercício 3</font>\n",
    "\n",
    "\n",
    "> Apresente um exemplo em Python de como realizar um teste de hipótese usando a biblioteca scipy:\n",
    ">"
   ]
  },
  {
   "cell_type": "markdown",
   "metadata": {},
   "source": [
    "#### <font color='blue'>Exercício 4</font>\n",
    "\n",
    "> Um fabricante de farinha afirma que a quantidade média de farinha nas embalagens de seu principal produto é de **500 g**. Um teste de pesagem em **30 embalagens** amostradas ao acaso mostrou um peso médio igual à **485 g**. Estudos anteriores afirmam que a distribuição dos pesos segue uma normal e que o desvio padrão populacional é igual a **20 g**. Considerando um nível de significância igual a **5%**, responda as seguintes questões:\n",
    "\n",
    "> 1) Qual a hipótese nula a ser testada?\n",
    ">\n",
    "> 2) Qual o valor da estatística de teste?\n",
    ">\n",
    "> 3) Qual a conclusão do teste?"
   ]
  },
  {
   "cell_type": "code",
   "execution_count": null,
   "metadata": {},
   "outputs": [],
   "source": []
  },
  {
   "cell_type": "code",
   "execution_count": null,
   "metadata": {},
   "outputs": [],
   "source": []
  },
  {
   "cell_type": "code",
   "execution_count": null,
   "metadata": {},
   "outputs": [],
   "source": []
  },
  {
   "cell_type": "markdown",
   "metadata": {},
   "source": [
    "#### <font color='blue'>Exercício 5</font>\n",
    "\n",
    "> A empresa SAAE garante ser capaz de realizar o tratamento de esgoto e obter, no máximo, **150 g** de impurezas para cada mil litros de esgoto tratado. Vinte amostras de mil litros de esgoto apresentaram, em média, **230 g** de impurezas e desvio padrão amostral igual a **90 g**.\n",
    ">\n",
    "> Assumindo alfa igual a **5%** e população normalmente distribuída, seria possível discordar da empresa SAAE? \n",
    "> Apresente o código que atesta o resultado dessa hipótese."
   ]
  },
  {
   "cell_type": "code",
   "execution_count": null,
   "metadata": {},
   "outputs": [],
   "source": []
  },
  {
   "cell_type": "code",
   "execution_count": null,
   "metadata": {},
   "outputs": [],
   "source": []
  },
  {
   "cell_type": "code",
   "execution_count": null,
   "metadata": {},
   "outputs": [],
   "source": []
  },
  {
   "cell_type": "code",
   "execution_count": null,
   "metadata": {},
   "outputs": [],
   "source": []
  },
  {
   "cell_type": "markdown",
   "metadata": {},
   "source": [
    "#### <font color='blue'>Exercício 6</font>\n",
    "\n",
    "> A pizzaria Pizza da Mama alega que a quantidade de queijo em suas pizzas tamanho família é de, no mínimo, **350 g**. Uma amostra de **35 pizzas** tamanho família revelou uma **média de 330 g** de queijo por pizza. O desvio padrão **amostral** foi de 80 g.\n",
    ">\n",
    "> Assumindo alfa igual a **5%** e população normalmente distribuída, seria possível discordar da alegação da pizzaria? Assinale a alternativa que apresenta a estatística de teste e a decisão correta do teste."
   ]
  },
  {
   "cell_type": "code",
   "execution_count": null,
   "metadata": {},
   "outputs": [],
   "source": []
  },
  {
   "cell_type": "code",
   "execution_count": null,
   "metadata": {},
   "outputs": [],
   "source": []
  },
  {
   "cell_type": "code",
   "execution_count": null,
   "metadata": {},
   "outputs": [],
   "source": []
  },
  {
   "cell_type": "code",
   "execution_count": null,
   "metadata": {},
   "outputs": [],
   "source": []
  },
  {
   "cell_type": "code",
   "execution_count": null,
   "metadata": {},
   "outputs": [],
   "source": []
  },
  {
   "cell_type": "markdown",
   "metadata": {},
   "source": [
    "#### <font color='blue'>Exercício 7</font>\n",
    "\n",
    "\n",
    "> Baseado nos exemplos já visto, temos em nosso dataset os rendimento dos chefes de domicílio obtidos da Pesquisa Nacional por Amostra de Domicílios - PNAD no ano de 2015. Um problema bastante conhecido em nosso país diz respeito a desigualdade de renda, principalmente entre homens e mulheres.\n",
    "\n",
    "> Duas amostras aleatórias, uma de **500 homens** e outra com **500 mulheres**, foram selecionadas em nosso dataset. Com o objetivo de comprovar tal desigualdade, **teste a igualdade das médias** entre estas duas amostras com um nível de **significância de 1%**."
   ]
  },
  {
   "cell_type": "markdown",
   "metadata": {},
   "source": [
    "#### <font color='blue'>Exercício 8</font>\n",
    "\n",
    " \n",
    "> O número de pontos de um exame de inglês tem sido historicamente ao redor de **80**. Sorteamos **10 estudantes** que fizeram recentemente esse exame e observamos as notas: 65, 74, 78, 86, 59, 84, 75, 72, 81 e 83. \n",
    "> Especialistas desconfiam que a média diminuiu e desejam testar essa afirmação através de um teste de hipóteses, com nível de significância de **5%**. Fazendo as suposições necessárias, apresente:\n",
    "\n",
    "> - Qual seria a conclusão do teste? \n",
    "> - Quais suposições serão necessárias para a realização do teste?\n",
    "> - Qual hipótese iremos apresentar como resultado?"
   ]
  },
  {
   "cell_type": "code",
   "execution_count": null,
   "metadata": {},
   "outputs": [],
   "source": []
  },
  {
   "cell_type": "code",
   "execution_count": null,
   "metadata": {},
   "outputs": [],
   "source": []
  },
  {
   "cell_type": "code",
   "execution_count": null,
   "metadata": {},
   "outputs": [],
   "source": []
  },
  {
   "cell_type": "markdown",
   "metadata": {},
   "source": [
    "#### <font color='blue'>Exercício 9</font>\n",
    "\n",
    "\n",
    "> A vida média de uma amostra de **100 lâmpadas** de certa marca é de **1615 horas**. Por similiariadade com outros processos de fabricação, supomos o desvio padrão igual a **120 horas**. \n",
    "\n",
    "> Utilizando-se um nível de significância igual a **5%**, desejamos testar se a duração média de todas as lâmpadas dessa marca é igual ou é diferente de **1600 horas**. Qual a conclusão podemos tirar após encontrarmos os resultados?"
   ]
  },
  {
   "cell_type": "code",
   "execution_count": null,
   "metadata": {},
   "outputs": [],
   "source": []
  },
  {
   "cell_type": "code",
   "execution_count": null,
   "metadata": {},
   "outputs": [],
   "source": []
  },
  {
   "cell_type": "code",
   "execution_count": null,
   "metadata": {},
   "outputs": [],
   "source": []
  },
  {
   "cell_type": "markdown",
   "metadata": {},
   "source": [
    "#### <font color='blue'>Exercício 10</font>\n",
    "\n",
    "> Em uma análise, um pesquisador está realizando um teste para a média e obteve nível descritivo igual a\n",
    "0,035. Baseado neste resultado, ele aceitará a hipótese nula para níveis de significância superiores ou inferioes a 0,035? Justifique."
   ]
  },
  {
   "cell_type": "code",
   "execution_count": null,
   "metadata": {},
   "outputs": [],
   "source": []
  }
 ],
 "metadata": {
  "kernelspec": {
   "display_name": "Python 3 (ipykernel)",
   "language": "python",
   "name": "python3"
  },
  "language_info": {
   "codemirror_mode": {
    "name": "ipython",
    "version": 3
   },
   "file_extension": ".py",
   "mimetype": "text/x-python",
   "name": "python",
   "nbconvert_exporter": "python",
   "pygments_lexer": "ipython3",
   "version": "3.10.6"
  }
 },
 "nbformat": 4,
 "nbformat_minor": 2
}

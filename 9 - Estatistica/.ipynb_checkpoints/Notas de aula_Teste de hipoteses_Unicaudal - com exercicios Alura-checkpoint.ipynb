{
 "cells": [
  {
   "cell_type": "markdown",
   "id": "7841aec4",
   "metadata": {},
   "source": [
    "# Teste de hipóteses"
   ]
  },
  {
   "cell_type": "code",
   "execution_count": 1,
   "id": "e7c82352",
   "metadata": {},
   "outputs": [],
   "source": [
    "import numpy as np\n",
    "import pandas as pd\n",
    "import seaborn as sns"
   ]
  },
  {
   "cell_type": "code",
   "execution_count": 2,
   "id": "c47053f8",
   "metadata": {},
   "outputs": [],
   "source": [
    "from scipy.stats import t as t_student\n",
    "from statsmodels.stats.weightstats import ztest\n",
    "from statsmodels.stats.weightstats import DescrStatsW"
   ]
  },
  {
   "cell_type": "markdown",
   "id": "9533e35a",
   "metadata": {},
   "source": [
    "## <font color=blue>Teste Unicaudal</font>\n",
    "***\n",
    "\n",
    "Trabalhamos até agora com o teste bicaldal, agora, vamos analisar um novo exemplo e aplicar os testes unicaldais. Tanto faz ser for **Unicaudal superior ou Unicaudal inferior**, a ideia é a mesma, só muda o local na cauda da distribuição.\n",
    "\n",
    "Em resumo, o nível de confiança é usado para estimar a incerteza, enquando o nível de significância é usado para avaliar a evidência conta a hipótese nula."
   ]
  },
  {
   "cell_type": "markdown",
   "id": "c0dff681",
   "metadata": {},
   "source": [
    "## <font color='red'>Problema</font>"
   ]
  },
  {
   "cell_type": "markdown",
   "id": "096516e6",
   "metadata": {},
   "source": [
    "Um famoso fabricante de refrigerantes alega que uma lata de 350 ml de seu principal produto contém, **no máximo**, **37 gramas de açúcar**. Esta alegação nos leva a entender que a quantidade média de açúcar em uma lata de refrigerante deve ser **igual ou menor que 37 g**.\n",
    "\n",
    "Um consumidor desconfiado e com conhecimentos em inferência estatística resolve testar a alegação do fabricante e seleciona, aleatóriamente, em um conjunto de estabelecimentos distintos, **uma amostra de 25 latas** do refrigerante em questão. Utilizando o equipamento correto o consumidor obteve as quantidades de açúcar em todas as 25 latas de sua amostra. \n",
    "\n",
    "**Assumindo que essa população se distribua aproximadamente como uma normal e considerando um nível de significância de 5%, é possível aceitar como válida a alegação do fabricante?**"
   ]
  },
  {
   "cell_type": "markdown",
   "id": "99b926af",
   "metadata": {},
   "source": [
    "### Construindo tabela $t$ de Student\n",
    "https://docs.scipy.org/doc/scipy/reference/generated/scipy.stats.t.html"
   ]
  },
  {
   "cell_type": "code",
   "execution_count": 3,
   "id": "2184be8f",
   "metadata": {},
   "outputs": [
    {
     "data": {
      "text/html": [
       "<div>\n",
       "<style scoped>\n",
       "    .dataframe tbody tr th:only-of-type {\n",
       "        vertical-align: middle;\n",
       "    }\n",
       "\n",
       "    .dataframe tbody tr th {\n",
       "        vertical-align: top;\n",
       "    }\n",
       "\n",
       "    .dataframe thead tr th {\n",
       "        text-align: left;\n",
       "    }\n",
       "</style>\n",
       "<table border=\"1\" class=\"dataframe\">\n",
       "  <thead>\n",
       "    <tr>\n",
       "      <th></th>\n",
       "      <th>Bicaudal</th>\n",
       "      <th>0.100</th>\n",
       "      <th>0.090</th>\n",
       "      <th>0.080</th>\n",
       "      <th>0.070</th>\n",
       "      <th>0.060</th>\n",
       "      <th>0.050</th>\n",
       "      <th>0.040</th>\n",
       "      <th>0.030</th>\n",
       "      <th>0.020</th>\n",
       "      <th>0.010</th>\n",
       "    </tr>\n",
       "    <tr>\n",
       "      <th></th>\n",
       "      <th>Unicaudal</th>\n",
       "      <th>0.050</th>\n",
       "      <th>0.045</th>\n",
       "      <th>0.040</th>\n",
       "      <th>0.035</th>\n",
       "      <th>0.030</th>\n",
       "      <th>0.025</th>\n",
       "      <th>0.020</th>\n",
       "      <th>0.015</th>\n",
       "      <th>0.010</th>\n",
       "      <th>0.005</th>\n",
       "    </tr>\n",
       "  </thead>\n",
       "  <tbody>\n",
       "    <tr>\n",
       "      <th rowspan=\"30\" valign=\"top\">Graus de Liberdade (n - 1)</th>\n",
       "      <th>1</th>\n",
       "      <td>6.313752</td>\n",
       "      <td>7.026366</td>\n",
       "      <td>7.915815</td>\n",
       "      <td>9.057887</td>\n",
       "      <td>10.578895</td>\n",
       "      <td>12.706205</td>\n",
       "      <td>15.894545</td>\n",
       "      <td>21.204949</td>\n",
       "      <td>31.820516</td>\n",
       "      <td>63.656741</td>\n",
       "    </tr>\n",
       "    <tr>\n",
       "      <th>2</th>\n",
       "      <td>2.919986</td>\n",
       "      <td>3.103977</td>\n",
       "      <td>3.319764</td>\n",
       "      <td>3.578247</td>\n",
       "      <td>3.896425</td>\n",
       "      <td>4.302653</td>\n",
       "      <td>4.848732</td>\n",
       "      <td>5.642778</td>\n",
       "      <td>6.964557</td>\n",
       "      <td>9.924843</td>\n",
       "    </tr>\n",
       "    <tr>\n",
       "      <th>3</th>\n",
       "      <td>2.353363</td>\n",
       "      <td>2.470807</td>\n",
       "      <td>2.605427</td>\n",
       "      <td>2.762599</td>\n",
       "      <td>2.95051</td>\n",
       "      <td>3.182446</td>\n",
       "      <td>3.481909</td>\n",
       "      <td>3.896046</td>\n",
       "      <td>4.540703</td>\n",
       "      <td>5.840909</td>\n",
       "    </tr>\n",
       "    <tr>\n",
       "      <th>4</th>\n",
       "      <td>2.131847</td>\n",
       "      <td>2.2261</td>\n",
       "      <td>2.332873</td>\n",
       "      <td>2.455892</td>\n",
       "      <td>2.600762</td>\n",
       "      <td>2.776445</td>\n",
       "      <td>2.998528</td>\n",
       "      <td>3.29763</td>\n",
       "      <td>3.746947</td>\n",
       "      <td>4.604095</td>\n",
       "    </tr>\n",
       "    <tr>\n",
       "      <th>5</th>\n",
       "      <td>2.015048</td>\n",
       "      <td>2.097837</td>\n",
       "      <td>2.190958</td>\n",
       "      <td>2.297392</td>\n",
       "      <td>2.421585</td>\n",
       "      <td>2.570582</td>\n",
       "      <td>2.756509</td>\n",
       "      <td>3.002875</td>\n",
       "      <td>3.36493</td>\n",
       "      <td>4.032143</td>\n",
       "    </tr>\n",
       "    <tr>\n",
       "      <th>6</th>\n",
       "      <td>1.94318</td>\n",
       "      <td>2.019201</td>\n",
       "      <td>2.104306</td>\n",
       "      <td>2.201059</td>\n",
       "      <td>2.313263</td>\n",
       "      <td>2.446912</td>\n",
       "      <td>2.612242</td>\n",
       "      <td>2.828928</td>\n",
       "      <td>3.142668</td>\n",
       "      <td>3.707428</td>\n",
       "    </tr>\n",
       "    <tr>\n",
       "      <th>7</th>\n",
       "      <td>1.894579</td>\n",
       "      <td>1.966153</td>\n",
       "      <td>2.046011</td>\n",
       "      <td>2.136453</td>\n",
       "      <td>2.240879</td>\n",
       "      <td>2.364624</td>\n",
       "      <td>2.516752</td>\n",
       "      <td>2.714573</td>\n",
       "      <td>2.997952</td>\n",
       "      <td>3.499483</td>\n",
       "    </tr>\n",
       "    <tr>\n",
       "      <th>8</th>\n",
       "      <td>1.859548</td>\n",
       "      <td>1.927986</td>\n",
       "      <td>2.004152</td>\n",
       "      <td>2.090166</td>\n",
       "      <td>2.189155</td>\n",
       "      <td>2.306004</td>\n",
       "      <td>2.448985</td>\n",
       "      <td>2.633814</td>\n",
       "      <td>2.896459</td>\n",
       "      <td>3.355387</td>\n",
       "    </tr>\n",
       "    <tr>\n",
       "      <th>9</th>\n",
       "      <td>1.833113</td>\n",
       "      <td>1.899222</td>\n",
       "      <td>1.972653</td>\n",
       "      <td>2.055395</td>\n",
       "      <td>2.150375</td>\n",
       "      <td>2.262157</td>\n",
       "      <td>2.398441</td>\n",
       "      <td>2.573804</td>\n",
       "      <td>2.821438</td>\n",
       "      <td>3.249836</td>\n",
       "    </tr>\n",
       "    <tr>\n",
       "      <th>10</th>\n",
       "      <td>1.812461</td>\n",
       "      <td>1.876774</td>\n",
       "      <td>1.948099</td>\n",
       "      <td>2.028327</td>\n",
       "      <td>2.120234</td>\n",
       "      <td>2.228139</td>\n",
       "      <td>2.359315</td>\n",
       "      <td>2.527484</td>\n",
       "      <td>2.763769</td>\n",
       "      <td>3.169273</td>\n",
       "    </tr>\n",
       "    <tr>\n",
       "      <th>11</th>\n",
       "      <td>1.795885</td>\n",
       "      <td>1.858772</td>\n",
       "      <td>1.928427</td>\n",
       "      <td>2.006663</td>\n",
       "      <td>2.096139</td>\n",
       "      <td>2.200985</td>\n",
       "      <td>2.32814</td>\n",
       "      <td>2.490664</td>\n",
       "      <td>2.718079</td>\n",
       "      <td>3.105807</td>\n",
       "    </tr>\n",
       "    <tr>\n",
       "      <th>12</th>\n",
       "      <td>1.782288</td>\n",
       "      <td>1.844015</td>\n",
       "      <td>1.912313</td>\n",
       "      <td>1.988934</td>\n",
       "      <td>2.076441</td>\n",
       "      <td>2.178813</td>\n",
       "      <td>2.302722</td>\n",
       "      <td>2.4607</td>\n",
       "      <td>2.680998</td>\n",
       "      <td>3.05454</td>\n",
       "    </tr>\n",
       "    <tr>\n",
       "      <th>13</th>\n",
       "      <td>1.770933</td>\n",
       "      <td>1.8317</td>\n",
       "      <td>1.898874</td>\n",
       "      <td>1.974158</td>\n",
       "      <td>2.060038</td>\n",
       "      <td>2.160369</td>\n",
       "      <td>2.281604</td>\n",
       "      <td>2.435845</td>\n",
       "      <td>2.650309</td>\n",
       "      <td>3.012276</td>\n",
       "    </tr>\n",
       "    <tr>\n",
       "      <th>14</th>\n",
       "      <td>1.76131</td>\n",
       "      <td>1.821267</td>\n",
       "      <td>1.887496</td>\n",
       "      <td>1.961656</td>\n",
       "      <td>2.046169</td>\n",
       "      <td>2.144787</td>\n",
       "      <td>2.263781</td>\n",
       "      <td>2.414898</td>\n",
       "      <td>2.624494</td>\n",
       "      <td>2.976843</td>\n",
       "    </tr>\n",
       "    <tr>\n",
       "      <th>15</th>\n",
       "      <td>1.75305</td>\n",
       "      <td>1.812316</td>\n",
       "      <td>1.877739</td>\n",
       "      <td>1.95094</td>\n",
       "      <td>2.034289</td>\n",
       "      <td>2.13145</td>\n",
       "      <td>2.24854</td>\n",
       "      <td>2.397005</td>\n",
       "      <td>2.60248</td>\n",
       "      <td>2.946713</td>\n",
       "    </tr>\n",
       "    <tr>\n",
       "      <th>16</th>\n",
       "      <td>1.745884</td>\n",
       "      <td>1.804553</td>\n",
       "      <td>1.869279</td>\n",
       "      <td>1.941654</td>\n",
       "      <td>2.024</td>\n",
       "      <td>2.119905</td>\n",
       "      <td>2.235358</td>\n",
       "      <td>2.381545</td>\n",
       "      <td>2.583487</td>\n",
       "      <td>2.920782</td>\n",
       "    </tr>\n",
       "    <tr>\n",
       "      <th>17</th>\n",
       "      <td>1.739607</td>\n",
       "      <td>1.797755</td>\n",
       "      <td>1.861875</td>\n",
       "      <td>1.93353</td>\n",
       "      <td>2.015002</td>\n",
       "      <td>2.109816</td>\n",
       "      <td>2.223845</td>\n",
       "      <td>2.368055</td>\n",
       "      <td>2.566934</td>\n",
       "      <td>2.898231</td>\n",
       "    </tr>\n",
       "    <tr>\n",
       "      <th>18</th>\n",
       "      <td>1.734064</td>\n",
       "      <td>1.791754</td>\n",
       "      <td>1.85534</td>\n",
       "      <td>1.926362</td>\n",
       "      <td>2.007067</td>\n",
       "      <td>2.100922</td>\n",
       "      <td>2.213703</td>\n",
       "      <td>2.35618</td>\n",
       "      <td>2.55238</td>\n",
       "      <td>2.87844</td>\n",
       "    </tr>\n",
       "    <tr>\n",
       "      <th>19</th>\n",
       "      <td>1.729133</td>\n",
       "      <td>1.786417</td>\n",
       "      <td>1.84953</td>\n",
       "      <td>1.919992</td>\n",
       "      <td>2.000017</td>\n",
       "      <td>2.093024</td>\n",
       "      <td>2.204701</td>\n",
       "      <td>2.345648</td>\n",
       "      <td>2.539483</td>\n",
       "      <td>2.860935</td>\n",
       "    </tr>\n",
       "    <tr>\n",
       "      <th>20</th>\n",
       "      <td>1.724718</td>\n",
       "      <td>1.78164</td>\n",
       "      <td>1.844331</td>\n",
       "      <td>1.914292</td>\n",
       "      <td>1.993713</td>\n",
       "      <td>2.085963</td>\n",
       "      <td>2.196658</td>\n",
       "      <td>2.336242</td>\n",
       "      <td>2.527977</td>\n",
       "      <td>2.84534</td>\n",
       "    </tr>\n",
       "    <tr>\n",
       "      <th>21</th>\n",
       "      <td>1.720743</td>\n",
       "      <td>1.777339</td>\n",
       "      <td>1.839651</td>\n",
       "      <td>1.909164</td>\n",
       "      <td>1.988041</td>\n",
       "      <td>2.079614</td>\n",
       "      <td>2.189427</td>\n",
       "      <td>2.327792</td>\n",
       "      <td>2.517648</td>\n",
       "      <td>2.83136</td>\n",
       "    </tr>\n",
       "    <tr>\n",
       "      <th>22</th>\n",
       "      <td>1.717144</td>\n",
       "      <td>1.773447</td>\n",
       "      <td>1.835417</td>\n",
       "      <td>1.904524</td>\n",
       "      <td>1.982911</td>\n",
       "      <td>2.073873</td>\n",
       "      <td>2.182893</td>\n",
       "      <td>2.32016</td>\n",
       "      <td>2.508325</td>\n",
       "      <td>2.818756</td>\n",
       "    </tr>\n",
       "    <tr>\n",
       "      <th>23</th>\n",
       "      <td>1.713872</td>\n",
       "      <td>1.769907</td>\n",
       "      <td>1.831567</td>\n",
       "      <td>1.900307</td>\n",
       "      <td>1.978249</td>\n",
       "      <td>2.068658</td>\n",
       "      <td>2.176958</td>\n",
       "      <td>2.313231</td>\n",
       "      <td>2.499867</td>\n",
       "      <td>2.807336</td>\n",
       "    </tr>\n",
       "    <tr>\n",
       "      <th>24</th>\n",
       "      <td>1.710882</td>\n",
       "      <td>1.766675</td>\n",
       "      <td>1.828051</td>\n",
       "      <td>1.896457</td>\n",
       "      <td>1.973994</td>\n",
       "      <td>2.063899</td>\n",
       "      <td>2.171545</td>\n",
       "      <td>2.306913</td>\n",
       "      <td>2.492159</td>\n",
       "      <td>2.79694</td>\n",
       "    </tr>\n",
       "    <tr>\n",
       "      <th>25</th>\n",
       "      <td>1.708141</td>\n",
       "      <td>1.763711</td>\n",
       "      <td>1.824828</td>\n",
       "      <td>1.892928</td>\n",
       "      <td>1.970095</td>\n",
       "      <td>2.059539</td>\n",
       "      <td>2.166587</td>\n",
       "      <td>2.30113</td>\n",
       "      <td>2.485107</td>\n",
       "      <td>2.787436</td>\n",
       "    </tr>\n",
       "    <tr>\n",
       "      <th>26</th>\n",
       "      <td>1.705618</td>\n",
       "      <td>1.760983</td>\n",
       "      <td>1.821863</td>\n",
       "      <td>1.889682</td>\n",
       "      <td>1.966509</td>\n",
       "      <td>2.055529</td>\n",
       "      <td>2.162029</td>\n",
       "      <td>2.295815</td>\n",
       "      <td>2.47863</td>\n",
       "      <td>2.778715</td>\n",
       "    </tr>\n",
       "    <tr>\n",
       "      <th>27</th>\n",
       "      <td>1.703288</td>\n",
       "      <td>1.758466</td>\n",
       "      <td>1.819126</td>\n",
       "      <td>1.886686</td>\n",
       "      <td>1.9632</td>\n",
       "      <td>2.051831</td>\n",
       "      <td>2.157825</td>\n",
       "      <td>2.290914</td>\n",
       "      <td>2.47266</td>\n",
       "      <td>2.770683</td>\n",
       "    </tr>\n",
       "    <tr>\n",
       "      <th>28</th>\n",
       "      <td>1.701131</td>\n",
       "      <td>1.756134</td>\n",
       "      <td>1.816592</td>\n",
       "      <td>1.883912</td>\n",
       "      <td>1.960136</td>\n",
       "      <td>2.048407</td>\n",
       "      <td>2.153935</td>\n",
       "      <td>2.28638</td>\n",
       "      <td>2.46714</td>\n",
       "      <td>2.763262</td>\n",
       "    </tr>\n",
       "    <tr>\n",
       "      <th>29</th>\n",
       "      <td>1.699127</td>\n",
       "      <td>1.753968</td>\n",
       "      <td>1.814238</td>\n",
       "      <td>1.881336</td>\n",
       "      <td>1.957293</td>\n",
       "      <td>2.04523</td>\n",
       "      <td>2.150325</td>\n",
       "      <td>2.282175</td>\n",
       "      <td>2.462021</td>\n",
       "      <td>2.756386</td>\n",
       "    </tr>\n",
       "    <tr>\n",
       "      <th>30</th>\n",
       "      <td>1.697261</td>\n",
       "      <td>1.751952</td>\n",
       "      <td>1.812047</td>\n",
       "      <td>1.878938</td>\n",
       "      <td>1.954645</td>\n",
       "      <td>2.042272</td>\n",
       "      <td>2.146966</td>\n",
       "      <td>2.278262</td>\n",
       "      <td>2.457262</td>\n",
       "      <td>2.749996</td>\n",
       "    </tr>\n",
       "  </tbody>\n",
       "</table>\n",
       "</div>"
      ],
      "text/plain": [
       "Bicaudal                          0.100     0.090     0.080     0.070  \\\n",
       "Unicaudal                         0.050     0.045     0.040     0.035   \n",
       "Graus de Liberdade (n - 1) 1   6.313752  7.026366  7.915815  9.057887   \n",
       "                           2   2.919986  3.103977  3.319764  3.578247   \n",
       "                           3   2.353363  2.470807  2.605427  2.762599   \n",
       "                           4   2.131847    2.2261  2.332873  2.455892   \n",
       "                           5   2.015048  2.097837  2.190958  2.297392   \n",
       "                           6    1.94318  2.019201  2.104306  2.201059   \n",
       "                           7   1.894579  1.966153  2.046011  2.136453   \n",
       "                           8   1.859548  1.927986  2.004152  2.090166   \n",
       "                           9   1.833113  1.899222  1.972653  2.055395   \n",
       "                           10  1.812461  1.876774  1.948099  2.028327   \n",
       "                           11  1.795885  1.858772  1.928427  2.006663   \n",
       "                           12  1.782288  1.844015  1.912313  1.988934   \n",
       "                           13  1.770933    1.8317  1.898874  1.974158   \n",
       "                           14   1.76131  1.821267  1.887496  1.961656   \n",
       "                           15   1.75305  1.812316  1.877739   1.95094   \n",
       "                           16  1.745884  1.804553  1.869279  1.941654   \n",
       "                           17  1.739607  1.797755  1.861875   1.93353   \n",
       "                           18  1.734064  1.791754   1.85534  1.926362   \n",
       "                           19  1.729133  1.786417   1.84953  1.919992   \n",
       "                           20  1.724718   1.78164  1.844331  1.914292   \n",
       "                           21  1.720743  1.777339  1.839651  1.909164   \n",
       "                           22  1.717144  1.773447  1.835417  1.904524   \n",
       "                           23  1.713872  1.769907  1.831567  1.900307   \n",
       "                           24  1.710882  1.766675  1.828051  1.896457   \n",
       "                           25  1.708141  1.763711  1.824828  1.892928   \n",
       "                           26  1.705618  1.760983  1.821863  1.889682   \n",
       "                           27  1.703288  1.758466  1.819126  1.886686   \n",
       "                           28  1.701131  1.756134  1.816592  1.883912   \n",
       "                           29  1.699127  1.753968  1.814238  1.881336   \n",
       "                           30  1.697261  1.751952  1.812047  1.878938   \n",
       "\n",
       "Bicaudal                           0.060      0.050      0.040      0.030  \\\n",
       "Unicaudal                          0.030      0.025      0.020      0.015   \n",
       "Graus de Liberdade (n - 1) 1   10.578895  12.706205  15.894545  21.204949   \n",
       "                           2    3.896425   4.302653   4.848732   5.642778   \n",
       "                           3     2.95051   3.182446   3.481909   3.896046   \n",
       "                           4    2.600762   2.776445   2.998528    3.29763   \n",
       "                           5    2.421585   2.570582   2.756509   3.002875   \n",
       "                           6    2.313263   2.446912   2.612242   2.828928   \n",
       "                           7    2.240879   2.364624   2.516752   2.714573   \n",
       "                           8    2.189155   2.306004   2.448985   2.633814   \n",
       "                           9    2.150375   2.262157   2.398441   2.573804   \n",
       "                           10   2.120234   2.228139   2.359315   2.527484   \n",
       "                           11   2.096139   2.200985    2.32814   2.490664   \n",
       "                           12   2.076441   2.178813   2.302722     2.4607   \n",
       "                           13   2.060038   2.160369   2.281604   2.435845   \n",
       "                           14   2.046169   2.144787   2.263781   2.414898   \n",
       "                           15   2.034289    2.13145    2.24854   2.397005   \n",
       "                           16      2.024   2.119905   2.235358   2.381545   \n",
       "                           17   2.015002   2.109816   2.223845   2.368055   \n",
       "                           18   2.007067   2.100922   2.213703    2.35618   \n",
       "                           19   2.000017   2.093024   2.204701   2.345648   \n",
       "                           20   1.993713   2.085963   2.196658   2.336242   \n",
       "                           21   1.988041   2.079614   2.189427   2.327792   \n",
       "                           22   1.982911   2.073873   2.182893    2.32016   \n",
       "                           23   1.978249   2.068658   2.176958   2.313231   \n",
       "                           24   1.973994   2.063899   2.171545   2.306913   \n",
       "                           25   1.970095   2.059539   2.166587    2.30113   \n",
       "                           26   1.966509   2.055529   2.162029   2.295815   \n",
       "                           27     1.9632   2.051831   2.157825   2.290914   \n",
       "                           28   1.960136   2.048407   2.153935    2.28638   \n",
       "                           29   1.957293    2.04523   2.150325   2.282175   \n",
       "                           30   1.954645   2.042272   2.146966   2.278262   \n",
       "\n",
       "Bicaudal                           0.020      0.010  \n",
       "Unicaudal                          0.010      0.005  \n",
       "Graus de Liberdade (n - 1) 1   31.820516  63.656741  \n",
       "                           2    6.964557   9.924843  \n",
       "                           3    4.540703   5.840909  \n",
       "                           4    3.746947   4.604095  \n",
       "                           5     3.36493   4.032143  \n",
       "                           6    3.142668   3.707428  \n",
       "                           7    2.997952   3.499483  \n",
       "                           8    2.896459   3.355387  \n",
       "                           9    2.821438   3.249836  \n",
       "                           10   2.763769   3.169273  \n",
       "                           11   2.718079   3.105807  \n",
       "                           12   2.680998    3.05454  \n",
       "                           13   2.650309   3.012276  \n",
       "                           14   2.624494   2.976843  \n",
       "                           15    2.60248   2.946713  \n",
       "                           16   2.583487   2.920782  \n",
       "                           17   2.566934   2.898231  \n",
       "                           18    2.55238    2.87844  \n",
       "                           19   2.539483   2.860935  \n",
       "                           20   2.527977    2.84534  \n",
       "                           21   2.517648    2.83136  \n",
       "                           22   2.508325   2.818756  \n",
       "                           23   2.499867   2.807336  \n",
       "                           24   2.492159    2.79694  \n",
       "                           25   2.485107   2.787436  \n",
       "                           26    2.47863   2.778715  \n",
       "                           27    2.47266   2.770683  \n",
       "                           28    2.46714   2.763262  \n",
       "                           29   2.462021   2.756386  \n",
       "                           30   2.457262   2.749996  "
      ]
     },
     "execution_count": 3,
     "metadata": {},
     "output_type": "execute_result"
    }
   ],
   "source": [
    "# Quanto maior o grau de liberdade, mais essa tabela se aproxima de uma normal\n",
    "\n",
    "import pandas as pd\n",
    "from scipy.stats import t as t_student\n",
    "\n",
    "tabela_t_student = pd.DataFrame(\n",
    "    [],\n",
    "    index = [i for i in range(1,31)],\n",
    "    columns = [i / 100 for i in range(10, 0, -1)]\n",
    ")\n",
    "\n",
    "for index in tabela_t_student.index:\n",
    "    for colum in tabela_t_student.columns:\n",
    "        tabela_t_student.loc[index, colum] = t_student.ppf(1 -float(colum) / 2, index)\n",
    "\n",
    "index = [('Graus de Liberdade (n - 1)', i) for i in range(1, 31)]\n",
    "tabela_t_student.index = pd.MultiIndex.from_tuples(index)\n",
    "\n",
    "columns = [(\"{0:0.3f}\".format(i/ 100), \"{0:0.3f}\".format(i/ 100 / 2)) for i in range(10, 0, -1)]\n",
    "tabela_t_student.columns = pd.MultiIndex.from_tuples(columns)\n",
    "\n",
    "tabela_t_student.rename_axis(['Bicaudal', 'Unicaudal'], axis=1, inplace = True)\n",
    "\n",
    "tabela_t_student"
   ]
  },
  {
   "cell_type": "markdown",
   "id": "39ed28db",
   "metadata": {},
   "source": [
    "As células da tabela acima são valores de $t$ para uma área ou probabilidade na cauda superior da distribuição $t$.\n",
    "\n",
    "<img src='https://raw.githubusercontent.com/claytontey/Images/master/h5.jpg' width=40%>"
   ]
  },
  {
   "cell_type": "markdown",
   "id": "238685f9",
   "metadata": {},
   "source": [
    "**Responda:** De acordo com nossa tabela, para um teste bicaudal, com nível de significância de **6%** e **5 graus** de liberdade, o valor de **t** seria?.\n",
    "\n",
    "Para um teste unicaudal, com nível de significância de **5%** e **11 registros**, o valor de t seria igual a: "
   ]
  },
  {
   "cell_type": "markdown",
   "id": "21e6cc20",
   "metadata": {},
   "source": [
    ">2.015048\t"
   ]
  },
  {
   "cell_type": "code",
   "execution_count": 4,
   "id": "252f42b6",
   "metadata": {},
   "outputs": [],
   "source": [
    "# Criando o dataset\n",
    "\n",
    "amostra2 = [37.27, 36.42, 34.84, 34.60, 37.49, \n",
    "           36.53, 35.49, 36.90, 34.52, 37.30, \n",
    "           34.99, 36.55, 36.29, 36.06, 37.42, \n",
    "           34.47, 36.70, 35.86, 36.80, 36.92, \n",
    "           37.04, 36.39, 37.32, 36.64, 35.45]"
   ]
  },
  {
   "cell_type": "code",
   "execution_count": 5,
   "id": "05577607",
   "metadata": {},
   "outputs": [
    {
     "data": {
      "text/html": [
       "<div>\n",
       "<style scoped>\n",
       "    .dataframe tbody tr th:only-of-type {\n",
       "        vertical-align: middle;\n",
       "    }\n",
       "\n",
       "    .dataframe tbody tr th {\n",
       "        vertical-align: top;\n",
       "    }\n",
       "\n",
       "    .dataframe thead th {\n",
       "        text-align: right;\n",
       "    }\n",
       "</style>\n",
       "<table border=\"1\" class=\"dataframe\">\n",
       "  <thead>\n",
       "    <tr style=\"text-align: right;\">\n",
       "      <th></th>\n",
       "      <th>Amostras</th>\n",
       "    </tr>\n",
       "  </thead>\n",
       "  <tbody>\n",
       "    <tr>\n",
       "      <th>0</th>\n",
       "      <td>37.27</td>\n",
       "    </tr>\n",
       "    <tr>\n",
       "      <th>1</th>\n",
       "      <td>36.42</td>\n",
       "    </tr>\n",
       "    <tr>\n",
       "      <th>2</th>\n",
       "      <td>34.84</td>\n",
       "    </tr>\n",
       "    <tr>\n",
       "      <th>3</th>\n",
       "      <td>34.60</td>\n",
       "    </tr>\n",
       "    <tr>\n",
       "      <th>4</th>\n",
       "      <td>37.49</td>\n",
       "    </tr>\n",
       "  </tbody>\n",
       "</table>\n",
       "</div>"
      ],
      "text/plain": [
       "   Amostras\n",
       "0     37.27\n",
       "1     36.42\n",
       "2     34.84\n",
       "3     34.60\n",
       "4     37.49"
      ]
     },
     "execution_count": 5,
     "metadata": {},
     "output_type": "execute_result"
    }
   ],
   "source": [
    "amostra2 = pd.DataFrame(amostra2, columns=['Amostras'])\n",
    "amostra2.head()"
   ]
  },
  {
   "cell_type": "markdown",
   "id": "ddcaf04e",
   "metadata": {},
   "source": [
    "### <font color = 'orangered'>Obtendo a média "
   ]
  },
  {
   "cell_type": "code",
   "execution_count": 6,
   "id": "60cb3936",
   "metadata": {},
   "outputs": [
    {
     "data": {
      "text/plain": [
       "36.2504"
      ]
     },
     "execution_count": 6,
     "metadata": {},
     "output_type": "execute_result"
    }
   ],
   "source": [
    "m_amostra = amostra2.mean()[0]\n",
    "m_amostra"
   ]
  },
  {
   "cell_type": "markdown",
   "id": "781d2368",
   "metadata": {},
   "source": [
    "### <font color = 'orangered'>Obtendo o desvio-padrão"
   ]
  },
  {
   "cell_type": "code",
   "execution_count": 7,
   "id": "cacce42b",
   "metadata": {},
   "outputs": [
    {
     "data": {
      "text/plain": [
       "0.9667535018469455"
      ]
     },
     "execution_count": 7,
     "metadata": {},
     "output_type": "execute_result"
    }
   ],
   "source": [
    "dp_amostra = amostra2.std()[0]\n",
    "dp_amostra"
   ]
  },
  {
   "cell_type": "markdown",
   "id": "c7785406",
   "metadata": {},
   "source": [
    "### <font color = 'orangered'>Dados do problema"
   ]
  },
  {
   "cell_type": "code",
   "execution_count": 8,
   "id": "e665dfa2",
   "metadata": {},
   "outputs": [],
   "source": [
    "media = 37\n",
    "significancia = 0.05\n",
    "confianca = 1 - significancia\n",
    "n = 25\n",
    "grau_de_liberdade = n -1 "
   ]
  },
  {
   "cell_type": "markdown",
   "id": "6c5dbc5d",
   "metadata": {},
   "source": [
    "### <font color = 'orangered'>Formulação das hipóteses $H_0$ e $H_1$"
   ]
  },
  {
   "cell_type": "markdown",
   "id": "bbf7957c",
   "metadata": {},
   "source": [
    "#### <font color='dodgerblue'>Lembre-se, a hipótese nula sempre contém a alegação de igualdade</font>\n",
    "\n",
    "### $H_0: \\mu \\leq 37$\n",
    "\n",
    "### $H_1: \\mu > 37$"
   ]
  },
  {
   "cell_type": "code",
   "execution_count": 9,
   "id": "a24ad740",
   "metadata": {},
   "outputs": [],
   "source": [
    "from scipy.stats import t as t_student"
   ]
  },
  {
   "cell_type": "code",
   "execution_count": 10,
   "id": "0621b4ba",
   "metadata": {},
   "outputs": [
    {
     "data": {
      "text/html": [
       "<div>\n",
       "<style scoped>\n",
       "    .dataframe tbody tr th:only-of-type {\n",
       "        vertical-align: middle;\n",
       "    }\n",
       "\n",
       "    .dataframe tbody tr th {\n",
       "        vertical-align: top;\n",
       "    }\n",
       "\n",
       "    .dataframe thead tr th {\n",
       "        text-align: left;\n",
       "    }\n",
       "</style>\n",
       "<table border=\"1\" class=\"dataframe\">\n",
       "  <thead>\n",
       "    <tr>\n",
       "      <th></th>\n",
       "      <th>Bicaudal</th>\n",
       "      <th>0.100</th>\n",
       "      <th>0.090</th>\n",
       "      <th>0.080</th>\n",
       "      <th>0.070</th>\n",
       "      <th>0.060</th>\n",
       "      <th>0.050</th>\n",
       "      <th>0.040</th>\n",
       "      <th>0.030</th>\n",
       "      <th>0.020</th>\n",
       "      <th>0.010</th>\n",
       "    </tr>\n",
       "    <tr>\n",
       "      <th></th>\n",
       "      <th>Unicaudal</th>\n",
       "      <th>0.050</th>\n",
       "      <th>0.045</th>\n",
       "      <th>0.040</th>\n",
       "      <th>0.035</th>\n",
       "      <th>0.030</th>\n",
       "      <th>0.025</th>\n",
       "      <th>0.020</th>\n",
       "      <th>0.015</th>\n",
       "      <th>0.010</th>\n",
       "      <th>0.005</th>\n",
       "    </tr>\n",
       "  </thead>\n",
       "  <tbody>\n",
       "    <tr>\n",
       "      <th rowspan=\"3\" valign=\"top\">Graus de Liberdade (n - 1)</th>\n",
       "      <th>23</th>\n",
       "      <td>1.713872</td>\n",
       "      <td>1.769907</td>\n",
       "      <td>1.831567</td>\n",
       "      <td>1.900307</td>\n",
       "      <td>1.978249</td>\n",
       "      <td>2.068658</td>\n",
       "      <td>2.176958</td>\n",
       "      <td>2.313231</td>\n",
       "      <td>2.499867</td>\n",
       "      <td>2.807336</td>\n",
       "    </tr>\n",
       "    <tr>\n",
       "      <th>24</th>\n",
       "      <td>1.710882</td>\n",
       "      <td>1.766675</td>\n",
       "      <td>1.828051</td>\n",
       "      <td>1.896457</td>\n",
       "      <td>1.973994</td>\n",
       "      <td>2.063899</td>\n",
       "      <td>2.171545</td>\n",
       "      <td>2.306913</td>\n",
       "      <td>2.492159</td>\n",
       "      <td>2.79694</td>\n",
       "    </tr>\n",
       "    <tr>\n",
       "      <th>25</th>\n",
       "      <td>1.708141</td>\n",
       "      <td>1.763711</td>\n",
       "      <td>1.824828</td>\n",
       "      <td>1.892928</td>\n",
       "      <td>1.970095</td>\n",
       "      <td>2.059539</td>\n",
       "      <td>2.166587</td>\n",
       "      <td>2.30113</td>\n",
       "      <td>2.485107</td>\n",
       "      <td>2.787436</td>\n",
       "    </tr>\n",
       "  </tbody>\n",
       "</table>\n",
       "</div>"
      ],
      "text/plain": [
       "Bicaudal                          0.100     0.090     0.080     0.070  \\\n",
       "Unicaudal                         0.050     0.045     0.040     0.035   \n",
       "Graus de Liberdade (n - 1) 23  1.713872  1.769907  1.831567  1.900307   \n",
       "                           24  1.710882  1.766675  1.828051  1.896457   \n",
       "                           25  1.708141  1.763711  1.824828  1.892928   \n",
       "\n",
       "Bicaudal                          0.060     0.050     0.040     0.030  \\\n",
       "Unicaudal                         0.030     0.025     0.020     0.015   \n",
       "Graus de Liberdade (n - 1) 23  1.978249  2.068658  2.176958  2.313231   \n",
       "                           24  1.973994  2.063899  2.171545  2.306913   \n",
       "                           25  1.970095  2.059539  2.166587   2.30113   \n",
       "\n",
       "Bicaudal                          0.020     0.010  \n",
       "Unicaudal                         0.010     0.005  \n",
       "Graus de Liberdade (n - 1) 23  2.499867  2.807336  \n",
       "                           24  2.492159   2.79694  \n",
       "                           25  2.485107  2.787436  "
      ]
     },
     "execution_count": 10,
     "metadata": {},
     "output_type": "execute_result"
    }
   ],
   "source": [
    "tabela_t_student[22:25]"
   ]
  },
  {
   "cell_type": "markdown",
   "id": "0473b058",
   "metadata": {},
   "source": [
    "><font color = 'Deeppink'>Como o teste é unicaudal, o nível de significância é de 5% e o número de amostras 25 (graus de liberdade = 24) o valor será de 1.71088</font>"
   ]
  },
  {
   "cell_type": "markdown",
   "id": "64be3fd2",
   "metadata": {},
   "source": [
    "### <font color = 'orangered'>Fixação da significância do teste ($\\alpha$)"
   ]
  },
  {
   "cell_type": "markdown",
   "id": "bfb80f5e",
   "metadata": {},
   "source": [
    "<img src='https://raw.githubusercontent.com/claytontey/Images/master/h6.jpg' width=40%>"
   ]
  },
  {
   "cell_type": "markdown",
   "id": "b5f86a4a",
   "metadata": {},
   "source": [
    "### <font color = 'orangered'>Área de aceitação"
   ]
  },
  {
   "cell_type": "code",
   "execution_count": 11,
   "id": "1342e35d",
   "metadata": {},
   "outputs": [
    {
     "data": {
      "text/plain": [
       "1.7108820799094275"
      ]
     },
     "execution_count": 11,
     "metadata": {},
     "output_type": "execute_result"
    }
   ],
   "source": [
    "t_alpha = t_student.ppf(confianca, grau_de_liberdade)\n",
    "t_alpha"
   ]
  },
  {
   "cell_type": "markdown",
   "id": "4c0d1df9",
   "metadata": {},
   "source": [
    "### <font color = 'orangered'>Cálculo da estatística-teste e verificação desse valor com as áreas de aceitação e rejeição do teste\n",
    "\n",
    "# $$t = \\frac{\\bar{x} - \\mu_0}{\\frac{s}{\\sqrt{n}}}$$"
   ]
  },
  {
   "cell_type": "code",
   "execution_count": 12,
   "id": "2be24071",
   "metadata": {
    "scrolled": true
   },
   "outputs": [
    {
     "data": {
      "text/plain": [
       "-3.876893119952081"
      ]
     },
     "execution_count": 12,
     "metadata": {},
     "output_type": "execute_result"
    }
   ],
   "source": [
    "# Estou rejeitando a H0(nula) de que a média = 300 ao nível de significância de 5%\n",
    "\n",
    "t = (m_amostra - media) / (dp_amostra / np.sqrt(n))\n",
    "t"
   ]
  },
  {
   "cell_type": "markdown",
   "id": "be4beacd",
   "metadata": {},
   "source": [
    "><font color = 'Deeppink'>Como o valor é -3.88 notamos que esse valor encontra-se dentra da área de aceitação de H0.</font>"
   ]
  },
  {
   "cell_type": "markdown",
   "id": "7b692a79",
   "metadata": {},
   "source": [
    "<img src='https://raw.githubusercontent.com/claytontey/Images/master/h7.jpg' width=20%>\n",
    "\n",
    "#### <font color='dodgerblue'>Regras de rejeição de $H_0$</font>\n",
    "\n",
    "#### Valor crítico $z$:\n",
    "Rejeitar se $z \\leq -z_\\alpha$\n",
    "\n",
    "Rejeitar se $z \\geq z_\\alpha$\n",
    "\n",
    "Rejeitar se $z \\leq -z_{\\alpha/2}$ ou se $z \\geq z_{\\alpha/2}$\n",
    "\n",
    "#### Valor crítico $t$:\n",
    "Rejeitar se $t \\leq -t_\\alpha$\n",
    "\n",
    "Rejeitar se $t \\geq t_\\alpha$\n",
    "\n",
    "Rejeitar se $t \\leq -t_{\\alpha/2}$ ou se $t \\geq t_{\\alpha/2}$\n",
    "\n",
    "#### Valor $p$:\n",
    "Rejeitar se $p\\_value \\leq \\alpha$"
   ]
  },
  {
   "cell_type": "markdown",
   "id": "636a573f",
   "metadata": {},
   "source": [
    "### <font color = 'orangered'>Teste de rejeição de t"
   ]
  },
  {
   "cell_type": "code",
   "execution_count": 13,
   "id": "3d67cf6f",
   "metadata": {},
   "outputs": [
    {
     "data": {
      "text/plain": [
       "False"
      ]
     },
     "execution_count": 13,
     "metadata": {},
     "output_type": "execute_result"
    }
   ],
   "source": [
    "t >= t_alpha"
   ]
  },
  {
   "cell_type": "markdown",
   "id": "a37f2c8e",
   "metadata": {},
   "source": [
    "#### <font color='dodgerblue'>Critério do $p-valor$</font>\n",
    "\n",
    "- Teste Bicaudal\n",
    "Rejeitar $H_0$ se o valor $p\\leq\\alpha$"
   ]
  },
  {
   "cell_type": "code",
   "execution_count": 14,
   "id": "30cd7a0e",
   "metadata": {},
   "outputs": [
    {
     "data": {
      "text/plain": [
       "0.9996406170303819"
      ]
     },
     "execution_count": 14,
     "metadata": {},
     "output_type": "execute_result"
    }
   ],
   "source": [
    "p_valor = t_student.sf(t, df = 24)\n",
    "p_valor"
   ]
  },
  {
   "cell_type": "code",
   "execution_count": 15,
   "id": "eaf36b67",
   "metadata": {},
   "outputs": [
    {
     "data": {
      "text/plain": [
       "False"
      ]
     },
     "execution_count": 15,
     "metadata": {},
     "output_type": "execute_result"
    }
   ],
   "source": [
    "p_valor <= significancia"
   ]
  },
  {
   "cell_type": "markdown",
   "id": "f9300edf",
   "metadata": {},
   "source": [
    "><font color='dodgerblue'>Podemos concluir que com um nível de confiança de 95% não podemos rejeitar $H_0$ ou seja, a alegação do fabricante é verdadeira. </font>"
   ]
  },
  {
   "cell_type": "markdown",
   "id": "a072891b",
   "metadata": {},
   "source": [
    "## <font color = 'Deeppink'>Vamos fazer um exercício\n",
    "\n",
    "<font color = 'Deeppink'>A empresa Limpa Esgoto garante ser capaz de realizar o tratamento de esgoto e obter, no máximo, 150 g de impurezas para cada mil litros de esgoto tratado. Vinte amostras de mil litros de esgoto apresentaram, em média, 230 g de impurezas e desvio padrão amostral igual a 90 g.\n",
    "\n",
    "<font color = 'Deeppink'>Assumindo alfa igual a 5% e população normalmente distribuída, seria possível discordar da empresa Limpa Esgoto? Assinale a alternativa que apresenta a estatística de teste e a decisão correta do teste."
   ]
  },
  {
   "cell_type": "markdown",
   "id": "8b531fab",
   "metadata": {},
   "source": [
    "<font color = 'darkolivegreen'>**Hipótese nula** = a média amostral e a média populacional sao iguais com nível de 5% de significância?"
   ]
  },
  {
   "cell_type": "code",
   "execution_count": 16,
   "id": "72dc92ff",
   "metadata": {
    "scrolled": true
   },
   "outputs": [
    {
     "data": {
      "text/plain": [
       "3.9752319599996264"
      ]
     },
     "execution_count": 16,
     "metadata": {},
     "output_type": "execute_result"
    }
   ],
   "source": [
    "n = 20\n",
    "media_populacional = 150\n",
    "media_amostral = 230\n",
    "desvio_amostral = 90\n",
    "significancia = 0.05\n",
    "\n",
    "t_exercicio = (media_amostral - media_populacional) / (desvio_amostral / np.sqrt(n))\n",
    "t_exercicio"
   ]
  },
  {
   "cell_type": "markdown",
   "id": "29743621",
   "metadata": {},
   "source": [
    "><font color = 'darkolivegreen'>O valor de 3.98 indica a posição de t para o meu conjunto de dados."
   ]
  },
  {
   "cell_type": "code",
   "execution_count": 17,
   "id": "021dcc33",
   "metadata": {
    "scrolled": true
   },
   "outputs": [
    {
     "data": {
      "text/plain": [
       "1.729132811521367"
      ]
     },
     "execution_count": 17,
     "metadata": {},
     "output_type": "execute_result"
    }
   ],
   "source": [
    "grau_de_liberdade = 19\n",
    "confianca = 1 - significancia\n",
    "\n",
    "t_alpha = t_student.ppf(confianca, grau_de_liberdade)\n",
    "t_alpha"
   ]
  },
  {
   "cell_type": "markdown",
   "id": "d5475dc7",
   "metadata": {},
   "source": [
    "><font color = 'darkolivegreen'>Já o valor de 1.73 $t_\\alpha$ é o valor máximo da região de aceitação, ou seja, valores maiores que 1.73 fazem parte da área de rejeição do gráfico."
   ]
  },
  {
   "cell_type": "code",
   "execution_count": 18,
   "id": "75735978",
   "metadata": {},
   "outputs": [
    {
     "data": {
      "text/plain": [
       "False"
      ]
     },
     "execution_count": 18,
     "metadata": {},
     "output_type": "execute_result"
    }
   ],
   "source": [
    "t_exercicio <= t_alpha"
   ]
  },
  {
   "cell_type": "markdown",
   "id": "fe1304be",
   "metadata": {},
   "source": [
    "><font color = 'darkolivegreen'>O valor de t está dentro da área de **rejeição**, portanto a hipótese nula $(H_0)$ deve ser **rejeitada**. A alegação da empresa não é verdadeira."
   ]
  },
  {
   "cell_type": "markdown",
   "id": "ca755965",
   "metadata": {},
   "source": [
    "### <font color = 'darkolivegreen'>Extras"
   ]
  },
  {
   "cell_type": "markdown",
   "id": "e534d5e4",
   "metadata": {},
   "source": [
    "<font color = 'darkolivegreen'>Considerando o nível de significância $\\alpha$ de 5%, qual seriam os valores mínimo e máximo aceitáveis de impurezas?"
   ]
  },
  {
   "cell_type": "code",
   "execution_count": 19,
   "id": "078487ec",
   "metadata": {},
   "outputs": [
    {
     "data": {
      "text/plain": [
       "184.79812657818397"
      ]
     },
     "execution_count": 19,
     "metadata": {},
     "output_type": "execute_result"
    }
   ],
   "source": [
    "x = 150 + ((desvio_amostral / np.sqrt(n)) * t_alpha)\n",
    "x"
   ]
  },
  {
   "cell_type": "code",
   "execution_count": 20,
   "id": "2d791092",
   "metadata": {},
   "outputs": [
    {
     "data": {
      "text/plain": [
       "115.20187342181603"
      ]
     },
     "execution_count": 20,
     "metadata": {},
     "output_type": "execute_result"
    }
   ],
   "source": [
    "x = 150 - ((desvio_amostral / np.sqrt(n)) * t_alpha)\n",
    "x"
   ]
  },
  {
   "cell_type": "markdown",
   "id": "029e192e",
   "metadata": {},
   "source": [
    "><font color = 'darkolivegreen'>Para que a hipótese nula não seja rejeitada, o valores de t mínimo e máximo devem ser 115.20 e 184.80, respectivamente."
   ]
  },
  {
   "cell_type": "code",
   "execution_count": 21,
   "id": "4d958cca",
   "metadata": {
    "scrolled": true
   },
   "outputs": [
    {
     "data": {
      "text/plain": [
       "-3.876893119952081"
      ]
     },
     "execution_count": 21,
     "metadata": {},
     "output_type": "execute_result"
    }
   ],
   "source": [
    "t"
   ]
  },
  {
   "cell_type": "code",
   "execution_count": 22,
   "id": "85d32610",
   "metadata": {},
   "outputs": [
    {
     "data": {
      "text/plain": [
       "0.9996406170303819"
      ]
     },
     "execution_count": 22,
     "metadata": {},
     "output_type": "execute_result"
    }
   ],
   "source": [
    "p_valor = t_student.sf(t, df = 24)\n",
    "p_valor"
   ]
  },
  {
   "cell_type": "code",
   "execution_count": 23,
   "id": "8dd1dad3",
   "metadata": {},
   "outputs": [
    {
     "data": {
      "text/plain": [
       "False"
      ]
     },
     "execution_count": 23,
     "metadata": {},
     "output_type": "execute_result"
    }
   ],
   "source": [
    "p_valor <= significancia"
   ]
  },
  {
   "cell_type": "markdown",
   "id": "4bfc67b9",
   "metadata": {},
   "source": [
    "### <font color ='orangered'>Aplicando p-valor (t test)</font>\n",
    "\n",
    "<font color ='orangered'>Utilizando DescrStatsW para apresentar os valores"
   ]
  },
  {
   "cell_type": "code",
   "execution_count": 24,
   "id": "9bb5f5db",
   "metadata": {},
   "outputs": [],
   "source": [
    "from statsmodels.stats.weightstats import DescrStatsW"
   ]
  },
  {
   "cell_type": "code",
   "execution_count": 25,
   "id": "28ff73f8",
   "metadata": {},
   "outputs": [
    {
     "data": {
      "text/plain": [
       "(array([-3.87689312]), array([0.99964062]), 24.0)"
      ]
     },
     "execution_count": 25,
     "metadata": {},
     "output_type": "execute_result"
    }
   ],
   "source": [
    "test = DescrStatsW(amostra2)\n",
    "test.ttest_mean(value=media, alternative='larger')"
   ]
  },
  {
   "cell_type": "code",
   "execution_count": 26,
   "id": "47170335",
   "metadata": {},
   "outputs": [
    {
     "name": "stdout",
     "output_type": "stream",
     "text": [
      "t_value =  -3.8769\n",
      "p_value =  0.9996\n",
      "G_liberdade =  24.0\n"
     ]
    }
   ],
   "source": [
    "t, p, df = test.ttest_mean(value = media, alternative='larger') # alternative='larger' = unicaudal superior\n",
    "print('t_value = ', round(t[0],4))\n",
    "print('p_value = ', round(p[0], 4))\n",
    "print('G_liberdade = ', df)"
   ]
  },
  {
   "cell_type": "markdown",
   "id": "ce751e9c",
   "metadata": {},
   "source": [
    "><font color = 'Deeppink'>Não podemos rejeitar H0"
   ]
  },
  {
   "cell_type": "markdown",
   "id": "92856da1",
   "metadata": {},
   "source": [
    "## <font color = 'Deeppink'>Exercício\n",
    "\n",
    "<font color = 'Deeppink'>A pizzaria Muito Queijo alega que a quantidade de queijo em suas pizzas tamanho família é de, no mínimo, 350 g. Uma amostra de 35 pizzas tamanho família revelou uma média de 330 g de queijo por pizza. O desvio padrão amostral foi de 80 g.\n",
    "\n",
    "<font color = 'Deeppink'>Assumindo alfa igual a 5% e população normalmente distribuída, seria possível discordar da alegação da pizzaria? Assinale a alternativa que apresenta a estatística de teste e a decisão correta do teste."
   ]
  },
  {
   "cell_type": "code",
   "execution_count": 27,
   "id": "df37ace5",
   "metadata": {
    "scrolled": true
   },
   "outputs": [
    {
     "data": {
      "text/plain": [
       "1.6448536269514722"
      ]
     },
     "execution_count": 27,
     "metadata": {},
     "output_type": "execute_result"
    }
   ],
   "source": [
    "from scipy.stats import norm\n",
    "import numpy as np\n",
    "\n",
    "n = 35\n",
    "media_pop = 350\n",
    "media_amostral = 330\n",
    "desvio_amostral = 80\n",
    "significancia = 0.05\n",
    "confianca = 1 - significancia\n",
    "\n",
    "z_alpha = norm.ppf(confianca)\n",
    "z_alpha"
   ]
  },
  {
   "cell_type": "code",
   "execution_count": 28,
   "id": "08f6b54e",
   "metadata": {},
   "outputs": [
    {
     "data": {
      "text/plain": [
       "-1.479019945774904"
      ]
     },
     "execution_count": 28,
     "metadata": {},
     "output_type": "execute_result"
    }
   ],
   "source": [
    "z = (media_amostral - media_pop) / (desvio_amostral / np.sqrt(n))\n",
    "z"
   ]
  },
  {
   "cell_type": "code",
   "execution_count": 29,
   "id": "4dcfef6d",
   "metadata": {},
   "outputs": [
    {
     "name": "stdout",
     "output_type": "stream",
     "text": [
      "z(alpha) = 1.645\n",
      "z = -1.479\n",
      "Aceitar H0\n"
     ]
    }
   ],
   "source": [
    "print('z(alpha) =', round(z_alpha, 3))\n",
    "print('z =', round(z, 3))\n",
    "if(z <= -z_alpha):\n",
    "    print('Rejeitar H0')\n",
    "else:\n",
    "    print('Aceitar H0')"
   ]
  },
  {
   "cell_type": "markdown",
   "id": "7da514a1",
   "metadata": {},
   "source": [
    "><font color = 'Deeppink'>Ao nível de confiança de 95%, não podemos rejeitar a hipótese de que as pizzas da pizzaria Muito Queijo têm pelo menos 350 g de queijo."
   ]
  },
  {
   "cell_type": "code",
   "execution_count": 30,
   "id": "43497735",
   "metadata": {},
   "outputs": [
    {
     "data": {
      "text/plain": [
       "-1.479019945774904"
      ]
     },
     "execution_count": 30,
     "metadata": {},
     "output_type": "execute_result"
    }
   ],
   "source": [
    "t_exercicio = (media_amostral - media_pop) / (desvio_amostral / np.sqrt(n))\n",
    "t_exercicio"
   ]
  },
  {
   "cell_type": "code",
   "execution_count": 31,
   "id": "27268df6",
   "metadata": {},
   "outputs": [
    {
     "data": {
      "text/plain": [
       "1.6909242507706543"
      ]
     },
     "execution_count": 31,
     "metadata": {},
     "output_type": "execute_result"
    }
   ],
   "source": [
    "grau_de_liberdade = 34\n",
    "significancia = 0.05\n",
    "confianca = 1 - significancia\n",
    "\n",
    "t_alpha = t_student.ppf(confianca, grau_de_liberdade)\n",
    "t_alpha"
   ]
  },
  {
   "cell_type": "code",
   "execution_count": 32,
   "id": "05e1faf8",
   "metadata": {},
   "outputs": [
    {
     "data": {
      "text/plain": [
       "0.9258294772641595"
      ]
     },
     "execution_count": 32,
     "metadata": {},
     "output_type": "execute_result"
    }
   ],
   "source": [
    "p_valor = t_student.sf(t_exercicio, df = 34)\n",
    "p_valor"
   ]
  },
  {
   "cell_type": "markdown",
   "id": "05d4a5ed",
   "metadata": {},
   "source": [
    "## <font color=green>3.4 Testes para Duas Amostras</font>\n",
    "***\n",
    "\n",
    "## <font color='red'>Problema</font>\n",
    "\n",
    "\n",
    "Em nosso dataset temos os rendimento dos chefes de domicílio obtidos da Pesquisa Nacional por Amostra de Domicílios - PNAD no ano de 2015. Um problema bastante conhecido em nosso país diz respeito a desigualdade de renda, principalmente entre homens e mulheres.\n",
    "\n",
    "Duas amostras aleatórias, uma de **500 homens** e outra com **500 mulheres**, foram selecionadas em nosso dataset. Com o objetivo de comprovar tal desigualdade, **teste a igualdade das médias** entre estas duas amostras com um nível de **significância de 1%**."
   ]
  },
  {
   "cell_type": "code",
   "execution_count": 33,
   "id": "844eb6b4",
   "metadata": {},
   "outputs": [],
   "source": [
    "df = pd.read_csv('/home/hub/git-pessoal/Aulas_git_Ai2/9 - Estatistica/dados.csv')"
   ]
  },
  {
   "cell_type": "markdown",
   "id": "1d2b022a",
   "metadata": {},
   "source": [
    "### <font color = 'Deeppink'>Criando as amostras aleatórias"
   ]
  },
  {
   "cell_type": "code",
   "execution_count": 34,
   "id": "f664cd53",
   "metadata": {},
   "outputs": [
    {
     "data": {
      "text/plain": [
       "26241     300\n",
       "65579    1000\n",
       "58984    4000\n",
       "65931    5000\n",
       "25501     300\n",
       "         ... \n",
       "25494     220\n",
       "1452      600\n",
       "29454     788\n",
       "5289     1750\n",
       "54618    7000\n",
       "Name: Renda, Length: 500, dtype: int64"
      ]
     },
     "execution_count": 34,
     "metadata": {},
     "output_type": "execute_result"
    }
   ],
   "source": [
    "amostra_h = df.query('Sexo == 0').sample(n = 500, random_state = 101).Renda\n",
    "amostra_h"
   ]
  },
  {
   "cell_type": "code",
   "execution_count": 35,
   "id": "c3d695cb",
   "metadata": {},
   "outputs": [
    {
     "data": {
      "text/plain": [
       "10179     788\n",
       "43943    1200\n",
       "75223    6000\n",
       "33243    1000\n",
       "5189      788\n",
       "         ... \n",
       "7383     1000\n",
       "70775     400\n",
       "56737    2000\n",
       "35947     200\n",
       "47913    1600\n",
       "Name: Renda, Length: 500, dtype: int64"
      ]
     },
     "execution_count": 35,
     "metadata": {},
     "output_type": "execute_result"
    }
   ],
   "source": [
    "amostra_m = df.query('Sexo == 1').sample(n = 500, random_state = 101).Renda\n",
    "amostra_m"
   ]
  },
  {
   "cell_type": "markdown",
   "id": "68c6170b",
   "metadata": {},
   "source": [
    "### <font color = 'Deeppink'>Extraindo informações das amostras"
   ]
  },
  {
   "cell_type": "code",
   "execution_count": 36,
   "id": "659753d5",
   "metadata": {},
   "outputs": [],
   "source": [
    "n_homens = 500\n",
    "n_mulheres = 500\n",
    "signif = 0.01\n",
    "confidence = 1 - signif"
   ]
  },
  {
   "cell_type": "code",
   "execution_count": 37,
   "id": "54f9b884",
   "metadata": {},
   "outputs": [
    {
     "data": {
      "text/plain": [
       "2142.608"
      ]
     },
     "execution_count": 37,
     "metadata": {},
     "output_type": "execute_result"
    }
   ],
   "source": [
    "media_h = amostra_h.mean()\n",
    "media_h"
   ]
  },
  {
   "cell_type": "code",
   "execution_count": 38,
   "id": "4125cd5d",
   "metadata": {},
   "outputs": [
    {
     "data": {
      "text/plain": [
       "1357.528"
      ]
     },
     "execution_count": 38,
     "metadata": {},
     "output_type": "execute_result"
    }
   ],
   "source": [
    "media_m = amostra_m.mean()\n",
    "media_m"
   ]
  },
  {
   "cell_type": "code",
   "execution_count": 39,
   "id": "c86f9435",
   "metadata": {},
   "outputs": [
    {
     "data": {
      "text/plain": [
       "2548.0508024998717"
      ]
     },
     "execution_count": 39,
     "metadata": {},
     "output_type": "execute_result"
    }
   ],
   "source": [
    "desv_h = amostra_h.std()\n",
    "desv_h"
   ]
  },
  {
   "cell_type": "code",
   "execution_count": 40,
   "id": "e6f3e0eb",
   "metadata": {},
   "outputs": [
    {
     "data": {
      "text/plain": [
       "1569.901190748458"
      ]
     },
     "execution_count": 40,
     "metadata": {},
     "output_type": "execute_result"
    }
   ],
   "source": [
    "desv_m = amostra_m.std()\n",
    "desv_m"
   ]
  },
  {
   "cell_type": "markdown",
   "id": "de5397d3",
   "metadata": {},
   "source": [
    "#### <font color = 'Deeppink'> **Hipótese nula:** A média das rendas dos homens é menor que a das mulheres ($H_0$: $\\mu_1$ <= $\\mu_2\\$) ao nível de 99% de confiança?</font>\n",
    "\n",
    "$\\mu_1 \\Rightarrow$ Média das rendas dos chefes de domicílios do sexo masculino\n",
    "\n",
    "$\\mu_2 \\Rightarrow$ Média das rendas dos chefes de domicílios do sexo feminino\n",
    "\n",
    "$\n",
    "\\begin{cases}\n",
    "H_0: \\mu_1 \\leq \\mu_2\\\\\n",
    "H_1: \\mu_1 > \\mu_2\n",
    "\\end{cases}\n",
    "$\n",
    "\n",
    "ou\n",
    "\n",
    "$\n",
    "\\begin{cases}\n",
    "H_0: \\mu_1 -\\mu_2 \\leq 0\\\\\n",
    "H_1: \\mu_1 -\\mu_2 > 0\n",
    "\\end{cases}\n",
    "$"
   ]
  },
  {
   "cell_type": "markdown",
   "id": "1079445f",
   "metadata": {},
   "source": [
    "><font color = 'Deeppink'>Como a hipótese nula será avaliar uma diferença faremos um teste unicaudal e como o valor calculado deve ser menor que o proposto, estamos avaliando o limite superior."
   ]
  },
  {
   "cell_type": "code",
   "execution_count": 41,
   "id": "dc1653c4",
   "metadata": {},
   "outputs": [
    {
     "data": {
      "text/plain": [
       "2.3263478740408408"
      ]
     },
     "execution_count": 41,
     "metadata": {},
     "output_type": "execute_result"
    }
   ],
   "source": [
    "# Limite máximo aceitavel, maior que isso a hipótese nula será rejeitada.\n",
    "z_alpha = norm.ppf(confidence)\n",
    "z_alpha"
   ]
  },
  {
   "cell_type": "markdown",
   "id": "282d7759",
   "metadata": {},
   "source": [
    "### <font color = 'Deeppink'>Calculando $z$"
   ]
  },
  {
   "cell_type": "markdown",
   "id": "71851d60",
   "metadata": {},
   "source": [
    "Cálculo da estatística-teste e verificação desse valor com as áreas de aceitação e rejeição do teste\n",
    "\n",
    "$$z = \\frac{(\\bar{x_1} - \\bar{x_2})-D_0}{\\sqrt{\\frac{s_1^2}{n_1} + \\frac{s_2^2}{n_2}}}$$"
   ]
  },
  {
   "cell_type": "code",
   "execution_count": 42,
   "id": "6cfc5a84",
   "metadata": {},
   "outputs": [
    {
     "data": {
      "text/plain": [
       "5.8656200577647555"
      ]
     },
     "execution_count": 42,
     "metadata": {},
     "output_type": "execute_result"
    }
   ],
   "source": [
    "d = 0 # diferença entre as medias amostrais \n",
    "\n",
    "z = ((media_h - media_m) - d) / np.sqrt((desv_h **2 / n_homens) + (desv_m ** 2 / n_mulheres))\n",
    "z"
   ]
  },
  {
   "cell_type": "code",
   "execution_count": 43,
   "id": "09bdec5c",
   "metadata": {},
   "outputs": [
    {
     "data": {
      "text/plain": [
       "True"
      ]
     },
     "execution_count": 43,
     "metadata": {},
     "output_type": "execute_result"
    }
   ],
   "source": [
    "z >= z_alpha"
   ]
  },
  {
   "cell_type": "markdown",
   "id": "e9171d45",
   "metadata": {},
   "source": [
    "><font color = 'Deeppink'>**Como a hipótese nula foi rejeitada, podemos dizer que a média das rendas entre homens e mulheres não são iguais ao nível de 99% de confiança.**</font>"
   ]
  },
  {
   "cell_type": "markdown",
   "id": "1921a7a2",
   "metadata": {},
   "source": [
    "## <font color = 'Deeppink'>Exercício: Testando uma nova linha de shampoos\n",
    "\n",
    "<font color = 'Deeppink'>Um fabricante de cosméticos afirma que a adição de um novo composto químico em sua linha de shampoos consegue promover em mais de 2 centímetros o crescimento dos fios de cabelo em um período de 60 dias. Duas amostras de pessoas foram selecionadas e testadas, uma utilizando o shampoo novo (com o composto) e a outra com o shampoo antigo (sem o composto).\n",
    "\n",
    "<font color = 'Deeppink'>Os resultados (crescimento dos fios de cabelo em centímetros) podem ser verificados na tabela abaixo:"
   ]
  },
  {
   "cell_type": "code",
   "execution_count": 104,
   "id": "3e19d5df",
   "metadata": {},
   "outputs": [],
   "source": [
    "shampoo_Novo = pd.Series([3.4, 4.9, 2.8, 5.5, 3.7, 2.5, 4.3, 4.6, 3.7, 3.4])\n",
    "shampoo_Antigo = pd.Series([0.3, 1.2, 1.2, 1.7, 1.1, 0.6, 1.2, 1.5, 0.5, 0.7])"
   ]
  },
  {
   "cell_type": "markdown",
   "id": "85e05dac",
   "metadata": {},
   "source": [
    "<font color = 'Deeppink'>Assumindo um nível de confiança de 95% e considerando que as populações se distribuem como uma normal, podemos acreditar na afirmação do fabricante do shampoo? Assinale a alternativa que apresenta a estatística de teste e a decisão correta do teste.\n",
    "\n",
    "<font color = 'Deeppink'>Um pouco mais de teoria: como se trata de um problema um pouco diferente do apresentado em nossa aula, vamos esclarecer alguns pontos para ajudar na solução:\n",
    "\n",
    "<font color = 'Deeppink'>1) Em testes entre duas amostras, quando realizamos a escolha da distribuição amostral adequada (passo 2) e perguntamos se n ≥ 30, temos que considerar que n = n1 + n2, onde n1 é o tamanho da primeira amostra e n2 o tamanho da segunda;\n",
    "\n",
    "<font color = 'Deeppink'>2) Quando n1 + n2 ≥ 30, utilizamos z (normal), e quando n1 + n2 < 30, σ não for conhecido e as populações forem normalmente distribuídas, utilizamos t (t-Student);</font>\n",
    "\n",
    "<font color = 'Deeppink'>3) Quando utilizamos a tabela t de Student, em teste de duas amostras, os graus de liberdade são obtidos da seguinte forma: n1 + n2 - 2;\n",
    "\n",
    "<font color = 'Deeppink'>4) Quando o problema nos pergunta se podemos acreditar na afirmação do fabricante, está nos indicando o que devemos testar, ou seja, a nossa hipótese alternativa (H1), que no caso é:\n",
    "\n",
    "H1 = u1 - u2 > 2\n",
    "    \n",
    "Onde:\n",
    "\n",
    "μ1 = Crescimento médio dos cabelos com o uso do novo shampoo\n",
    "    \n",
    "μ2 = Crescimento médio dos cabelos com o uso do shampoo antigo.\n",
    "    \n",
    "5) Em nosso próximo vídeo, utilizaremos o ztest_ind() para solucionar problemas como este. Um teste similar ao ztest_ind(), que utiliza a distribuição t de Student, é o ttest_ind(). Aqui, você será redirecionado para a documentação. Observe que o ttest_ind() retorna a estatística de teste, o p-valor e também os graus de liberdade."
   ]
  },
  {
   "cell_type": "code",
   "execution_count": 105,
   "id": "febd3dd3",
   "metadata": {},
   "outputs": [
    {
     "data": {
      "text/plain": [
       "2.0"
      ]
     },
     "execution_count": 105,
     "metadata": {},
     "output_type": "execute_result"
    }
   ],
   "source": [
    "pop_mean = 2.0\n",
    "pop_mean"
   ]
  },
  {
   "cell_type": "code",
   "execution_count": 106,
   "id": "cd1cb199",
   "metadata": {},
   "outputs": [
    {
     "data": {
      "text/plain": [
       "1.0"
      ]
     },
     "execution_count": 106,
     "metadata": {},
     "output_type": "execute_result"
    }
   ],
   "source": [
    "antigo_mean = shampoo_Antigo.mean()\n",
    "antigo_mean"
   ]
  },
  {
   "cell_type": "code",
   "execution_count": 107,
   "id": "ee33e6fa",
   "metadata": {},
   "outputs": [
    {
     "data": {
      "text/plain": [
       "3.88"
      ]
     },
     "execution_count": 107,
     "metadata": {},
     "output_type": "execute_result"
    }
   ],
   "source": [
    "novo_mean = shampoo_Novo.mean()\n",
    "novo_mean"
   ]
  },
  {
   "cell_type": "code",
   "execution_count": 108,
   "id": "a444d8b3",
   "metadata": {},
   "outputs": [
    {
     "data": {
      "text/plain": [
       "0.4546060565661952"
      ]
     },
     "execution_count": 108,
     "metadata": {},
     "output_type": "execute_result"
    }
   ],
   "source": [
    "antigo_std = shampoo_Antigo.std()\n",
    "antigo_std"
   ]
  },
  {
   "cell_type": "code",
   "execution_count": 109,
   "id": "60fb41f5",
   "metadata": {},
   "outputs": [
    {
     "data": {
      "text/plain": [
       "0.9402127418834527"
      ]
     },
     "execution_count": 109,
     "metadata": {},
     "output_type": "execute_result"
    }
   ],
   "source": [
    "novo_std = shampoo_Novo.std()\n",
    "novo_std"
   ]
  },
  {
   "cell_type": "markdown",
   "id": "7edbd8ac",
   "metadata": {},
   "source": [
    "Hipótese-nula: Assumindo um nível de confiança de 95% e considerando que as populações se distribuem como uma normal, podemos acreditar na afirmação do fabricante do shampoo? Assinale a alternativa que apresenta a estatística de teste e a decisão correta do teste."
   ]
  },
  {
   "cell_type": "code",
   "execution_count": 110,
   "id": "6df2e5b9",
   "metadata": {},
   "outputs": [],
   "source": [
    "significancia = 0.05\n",
    "confianca = 1 - significancia"
   ]
  },
  {
   "cell_type": "code",
   "execution_count": 111,
   "id": "dfaf6e8e",
   "metadata": {},
   "outputs": [],
   "source": [
    "n_total = 20\n",
    "n_novo = 10\n",
    "n_antigo = 10\n",
    "D_0 = 2"
   ]
  },
  {
   "cell_type": "code",
   "execution_count": 116,
   "id": "5069a1e5",
   "metadata": {},
   "outputs": [
    {
     "name": "stdout",
     "output_type": "stream",
     "text": [
      "t = 1.7341\n"
     ]
    }
   ],
   "source": [
    "graus_de_liberdade = n_novo + n_antigo - 2\n",
    "\n",
    "t_alpha = t_student.ppf(confianca, grau_de_liberdade)\n",
    "print('t =', round(t_alpha, 4))"
   ]
  },
  {
   "cell_type": "code",
   "execution_count": 115,
   "id": "c96425d9",
   "metadata": {},
   "outputs": [
    {
     "name": "stdout",
     "output_type": "stream",
     "text": [
      "t = 2.6646\n"
     ]
    }
   ],
   "source": [
    "t_exercicio = ((novo_mean - antigo_mean) - D_0) / (np.sqrt((antigo_std ** 2 / n_novo) + (novo_std ** 2 / n_antigo)))\n",
    "print('t =', round(t_exercicio, 4))"
   ]
  },
  {
   "cell_type": "code",
   "execution_count": 117,
   "id": "3b911cb8",
   "metadata": {},
   "outputs": [
    {
     "name": "stdout",
     "output_type": "stream",
     "text": [
      "Rejeitar H0\n"
     ]
    }
   ],
   "source": [
    "if(t_exercicio >= t_alpha):\n",
    "    print('Rejeitar H0')\n",
    "else:\n",
    "    print('Aceitar H0')"
   ]
  },
  {
   "cell_type": "markdown",
   "id": "13dd8b29",
   "metadata": {
    "scrolled": true
   },
   "source": [
    "><font color = 'Deeppink'>t = 2,6646. Rejeitar H0, ou seja, a alegação do fabricante é verdadeira."
   ]
  },
  {
   "cell_type": "markdown",
   "id": "02a6bb6b",
   "metadata": {},
   "source": [
    "### <font color = 'dodgerblue'>Resolvendo o exercício anterior com DescrStatsW"
   ]
  },
  {
   "cell_type": "code",
   "execution_count": 118,
   "id": "bce65a74",
   "metadata": {},
   "outputs": [],
   "source": [
    "from statsmodels.stats.weightstats import DescrStatsW, CompareMeans"
   ]
  },
  {
   "cell_type": "code",
   "execution_count": 119,
   "id": "dbd6c6f7",
   "metadata": {},
   "outputs": [],
   "source": [
    "test_novo = DescrStatsW(shampoo_Novo)\n",
    "test_antigo = DescrStatsW(shampoo_Antigo)\n",
    "test_A = test_novo.get_compare(test_antigo)"
   ]
  },
  {
   "cell_type": "code",
   "execution_count": 123,
   "id": "f1957dc6",
   "metadata": {},
   "outputs": [
    {
     "name": "stdout",
     "output_type": "stream",
     "text": [
      "t = 2.6646\n",
      "p-valor = 0.0079\n",
      "graus de liberdade = 18.0\n"
     ]
    }
   ],
   "source": [
    "t, p_valor, df = test_A.ttest_ind(alternative='larger', value=2)\n",
    "\n",
    "print('t =', round(t, 4))\n",
    "print('p-valor =', round(p_valor, 4))\n",
    "print('graus de liberdade =', df)"
   ]
  },
  {
   "cell_type": "code",
   "execution_count": 122,
   "id": "3a8c9123",
   "metadata": {
    "scrolled": true
   },
   "outputs": [
    {
     "name": "stdout",
     "output_type": "stream",
     "text": [
      "Rejeitar H0\n"
     ]
    }
   ],
   "source": [
    "if(p_valor <= significancia):\n",
    "    print('Rejeitar H0')\n",
    "else:\n",
    "    print('Aceitar H0')"
   ]
  },
  {
   "cell_type": "markdown",
   "id": "c2774dc6",
   "metadata": {},
   "source": [
    ">Outra maneira de resolver este problema seria pelo CompareMeans"
   ]
  },
  {
   "cell_type": "code",
   "execution_count": 124,
   "id": "91bc0649",
   "metadata": {},
   "outputs": [],
   "source": [
    "test_B = CompareMeans(test_novo, test_antigo)"
   ]
  },
  {
   "cell_type": "code",
   "execution_count": 125,
   "id": "1329bfb0",
   "metadata": {
    "scrolled": true
   },
   "outputs": [
    {
     "data": {
      "text/plain": [
       "1.3836322946823993e-18"
      ]
     },
     "execution_count": 125,
     "metadata": {},
     "output_type": "execute_result"
    }
   ],
   "source": [
    "z, p_valor = test_B.ztest_ind(alternative='larger', value=0)\n",
    "p_valor"
   ]
  },
  {
   "cell_type": "code",
   "execution_count": 126,
   "id": "478c2775",
   "metadata": {},
   "outputs": [
    {
     "data": {
      "text/plain": [
       "True"
      ]
     },
     "execution_count": 126,
     "metadata": {},
     "output_type": "execute_result"
    }
   ],
   "source": [
    "p_valor <= significancia"
   ]
  }
 ],
 "metadata": {
  "kernelspec": {
   "display_name": "Python 3 (ipykernel)",
   "language": "python",
   "name": "python3"
  },
  "language_info": {
   "codemirror_mode": {
    "name": "ipython",
    "version": 3
   },
   "file_extension": ".py",
   "mimetype": "text/x-python",
   "name": "python",
   "nbconvert_exporter": "python",
   "pygments_lexer": "ipython3",
   "version": "3.10.6"
  }
 },
 "nbformat": 4,
 "nbformat_minor": 5
}

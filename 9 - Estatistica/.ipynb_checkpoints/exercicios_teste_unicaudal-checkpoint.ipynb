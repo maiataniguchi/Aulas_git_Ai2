{
 "cells": [
  {
   "cell_type": "markdown",
   "id": "8381817e",
   "metadata": {},
   "source": [
    "## <font color = 'Deeppink'>Vamos fazer um exercício\n",
    "\n",
    "<font color = 'Deeppink'>A empresa Limpa Esgoto garante ser capaz de realizar o tratamento de esgoto e obter, no máximo, 150 g de impurezas para cada mil litros de esgoto tratado. Vinte amostras de mil litros de esgoto apresentaram, em média, 230 g de impurezas e desvio padrão amostral igual a 90 g.\n",
    "\n",
    "<font color = 'Deeppink'>Assumindo alfa igual a 5% e população normalmente distribuída, seria possível discordar da empresa Limpa Esgoto? Assinale a alternativa que apresenta a estatística de teste e a decisão correta do teste."
   ]
  },
  {
   "cell_type": "code",
   "execution_count": 1,
   "id": "60be4278",
   "metadata": {},
   "outputs": [],
   "source": [
    "import numpy as np\n",
    "import pandas as pd\n",
    "from scipy.stats import norm\n",
    "from scipy.stats import t as t_student\n",
    "from statsmodels.stats.weightstats import ztest"
   ]
  },
  {
   "cell_type": "markdown",
   "id": "d28315d4",
   "metadata": {},
   "source": [
    "<font color = 'darkolivegreen'>**Hipótese nula** = a média amostral e a média populacional sao iguais com nível de 5% de significância?"
   ]
  },
  {
   "cell_type": "code",
   "execution_count": 2,
   "id": "c9b56426",
   "metadata": {
    "scrolled": true
   },
   "outputs": [
    {
     "data": {
      "text/plain": [
       "3.9752319599996264"
      ]
     },
     "execution_count": 2,
     "metadata": {},
     "output_type": "execute_result"
    }
   ],
   "source": [
    "n = 20\n",
    "media_populacional = 150\n",
    "media_amostral = 230\n",
    "desvio_amostral = 90\n",
    "significancia = 0.05\n",
    "\n",
    "t_exercicio = (media_amostral - media_populacional) / (desvio_amostral / np.sqrt(n))\n",
    "t_exercicio"
   ]
  },
  {
   "cell_type": "markdown",
   "id": "723d825d",
   "metadata": {},
   "source": [
    "><font color = 'darkolivegreen'>O valor de 3.98 indica a posição de t para o meu conjunto de dados."
   ]
  },
  {
   "cell_type": "code",
   "execution_count": 3,
   "id": "22b23153",
   "metadata": {
    "scrolled": true
   },
   "outputs": [
    {
     "data": {
      "text/plain": [
       "1.729132811521367"
      ]
     },
     "execution_count": 3,
     "metadata": {},
     "output_type": "execute_result"
    }
   ],
   "source": [
    "grau_de_liberdade = 19\n",
    "confianca = 1 - significancia\n",
    "\n",
    "t_alpha = t_student.ppf(confianca, grau_de_liberdade)\n",
    "t_alpha"
   ]
  },
  {
   "cell_type": "markdown",
   "id": "cae28617",
   "metadata": {},
   "source": [
    "><font color = 'darkolivegreen'>Já o valor de 1.73 $t_\\alpha$ é o valor máximo da região de aceitação, ou seja, valores maiores que 1.73 fazem parte da área de rejeição do gráfico."
   ]
  },
  {
   "cell_type": "code",
   "execution_count": 4,
   "id": "44d3eed0",
   "metadata": {},
   "outputs": [
    {
     "data": {
      "text/plain": [
       "False"
      ]
     },
     "execution_count": 4,
     "metadata": {},
     "output_type": "execute_result"
    }
   ],
   "source": [
    "t_exercicio <= t_alpha"
   ]
  },
  {
   "cell_type": "markdown",
   "id": "7cbf08cb",
   "metadata": {},
   "source": [
    "><font color = 'darkolivegreen'>O valor de t está dentro da área de **rejeição**, portanto a hipótese nula $(H_0)$ deve ser **rejeitada**. A alegação da empresa não é verdadeira."
   ]
  },
  {
   "cell_type": "markdown",
   "id": "315f7a0b",
   "metadata": {},
   "source": [
    "### <font color = 'darkolivegreen'>Extras"
   ]
  },
  {
   "cell_type": "markdown",
   "id": "7e30f930",
   "metadata": {},
   "source": [
    "<font color = 'darkolivegreen'>Considerando o nível de significância $\\alpha$ de 5%, qual seriam os valores mínimo e máximo aceitáveis de impurezas?"
   ]
  },
  {
   "cell_type": "code",
   "execution_count": 5,
   "id": "736482da",
   "metadata": {},
   "outputs": [
    {
     "data": {
      "text/plain": [
       "184.79812657818397"
      ]
     },
     "execution_count": 5,
     "metadata": {},
     "output_type": "execute_result"
    }
   ],
   "source": [
    "x = 150 + ((desvio_amostral / np.sqrt(n)) * t_alpha)\n",
    "x"
   ]
  },
  {
   "cell_type": "code",
   "execution_count": 6,
   "id": "ba92bbf7",
   "metadata": {},
   "outputs": [
    {
     "data": {
      "text/plain": [
       "115.20187342181603"
      ]
     },
     "execution_count": 6,
     "metadata": {},
     "output_type": "execute_result"
    }
   ],
   "source": [
    "x = 150 - ((desvio_amostral / np.sqrt(n)) * t_alpha)\n",
    "x"
   ]
  },
  {
   "cell_type": "markdown",
   "id": "d8529ae5",
   "metadata": {},
   "source": [
    "><font color = 'darkolivegreen'>Para que a hipótese nula não seja rejeitada, o valores de t mínimo e máximo devem ser 115.20 e 184.80, respectivamente."
   ]
  },
  {
   "cell_type": "markdown",
   "id": "ab9d8897",
   "metadata": {},
   "source": [
    "## <font color=green>3.4 Testes para Duas Amostras</font>\n",
    "***\n",
    "\n",
    "## <font color='red'>Problema</font>\n",
    "\n",
    "\n",
    "Em nosso dataset temos os rendimento dos chefes de domicílio obtidos da Pesquisa Nacional por Amostra de Domicílios - PNAD no ano de 2015. Um problema bastante conhecido em nosso país diz respeito a desigualdade de renda, principalmente entre homens e mulheres.\n",
    "\n",
    "Duas amostras aleatórias, uma de **500 homens** e outra com **500 mulheres**, foram selecionadas em nosso dataset. Com o objetivo de comprovar tal desigualdade, **teste a igualdade das médias** entre estas duas amostras com um nível de **significância de 1%**."
   ]
  },
  {
   "cell_type": "code",
   "execution_count": 7,
   "id": "1b838e73",
   "metadata": {},
   "outputs": [],
   "source": [
    "df = pd.read_csv('/home/hub/git-pessoal/Aulas_git_Ai2/9 - Estatistica/dados.csv')"
   ]
  },
  {
   "cell_type": "markdown",
   "id": "0cfeea13",
   "metadata": {},
   "source": [
    "### <font color = 'Deeppink'>Criando as amostras aleatórias"
   ]
  },
  {
   "cell_type": "code",
   "execution_count": 8,
   "id": "6c10665e",
   "metadata": {},
   "outputs": [
    {
     "data": {
      "text/plain": [
       "26241     300\n",
       "65579    1000\n",
       "58984    4000\n",
       "65931    5000\n",
       "25501     300\n",
       "         ... \n",
       "25494     220\n",
       "1452      600\n",
       "29454     788\n",
       "5289     1750\n",
       "54618    7000\n",
       "Name: Renda, Length: 500, dtype: int64"
      ]
     },
     "execution_count": 8,
     "metadata": {},
     "output_type": "execute_result"
    }
   ],
   "source": [
    "amostra_h = df.query('Sexo == 0').sample(n = 500, random_state = 101).Renda\n",
    "amostra_h"
   ]
  },
  {
   "cell_type": "code",
   "execution_count": 9,
   "id": "c9ca2f07",
   "metadata": {},
   "outputs": [
    {
     "data": {
      "text/plain": [
       "10179     788\n",
       "43943    1200\n",
       "75223    6000\n",
       "33243    1000\n",
       "5189      788\n",
       "         ... \n",
       "7383     1000\n",
       "70775     400\n",
       "56737    2000\n",
       "35947     200\n",
       "47913    1600\n",
       "Name: Renda, Length: 500, dtype: int64"
      ]
     },
     "execution_count": 9,
     "metadata": {},
     "output_type": "execute_result"
    }
   ],
   "source": [
    "amostra_m = df.query('Sexo == 1').sample(n = 500, random_state = 101).Renda\n",
    "amostra_m"
   ]
  },
  {
   "cell_type": "markdown",
   "id": "be35ee6f",
   "metadata": {},
   "source": [
    "### <font color = 'Deeppink'>Extraindo informações das amostras"
   ]
  },
  {
   "cell_type": "code",
   "execution_count": 10,
   "id": "faf9fe23",
   "metadata": {},
   "outputs": [],
   "source": [
    "n_homens = 500\n",
    "n_mulheres = 500\n",
    "signif = 0.01\n",
    "confidence = 1 - signif"
   ]
  },
  {
   "cell_type": "code",
   "execution_count": 11,
   "id": "be8222f4",
   "metadata": {},
   "outputs": [
    {
     "data": {
      "text/plain": [
       "2142.608"
      ]
     },
     "execution_count": 11,
     "metadata": {},
     "output_type": "execute_result"
    }
   ],
   "source": [
    "media_h = amostra_h.mean()\n",
    "media_h"
   ]
  },
  {
   "cell_type": "code",
   "execution_count": 12,
   "id": "d411d736",
   "metadata": {},
   "outputs": [
    {
     "data": {
      "text/plain": [
       "1357.528"
      ]
     },
     "execution_count": 12,
     "metadata": {},
     "output_type": "execute_result"
    }
   ],
   "source": [
    "media_m = amostra_m.mean()\n",
    "media_m"
   ]
  },
  {
   "cell_type": "code",
   "execution_count": 13,
   "id": "b65a3454",
   "metadata": {},
   "outputs": [
    {
     "data": {
      "text/plain": [
       "2548.0508024998717"
      ]
     },
     "execution_count": 13,
     "metadata": {},
     "output_type": "execute_result"
    }
   ],
   "source": [
    "desv_h = amostra_h.std()\n",
    "desv_h"
   ]
  },
  {
   "cell_type": "code",
   "execution_count": 14,
   "id": "7de2127e",
   "metadata": {},
   "outputs": [
    {
     "data": {
      "text/plain": [
       "1569.901190748458"
      ]
     },
     "execution_count": 14,
     "metadata": {},
     "output_type": "execute_result"
    }
   ],
   "source": [
    "desv_m = amostra_m.std()\n",
    "desv_m"
   ]
  },
  {
   "cell_type": "markdown",
   "id": "e807ed66",
   "metadata": {},
   "source": [
    "#### <font color = 'Deeppink'> **Hipótese nula:** A média das rendas dos homens é menor que a das mulheres ($H_0$: $\\mu_1$ <= $\\mu_2\\$) ao nível de 99% de confiança?</font>\n",
    "\n",
    "$\\mu_1 \\Rightarrow$ Média das rendas dos chefes de domicílios do sexo masculino\n",
    "\n",
    "$\\mu_2 \\Rightarrow$ Média das rendas dos chefes de domicílios do sexo feminino\n",
    "\n",
    "$\n",
    "\\begin{cases}\n",
    "H_0: \\mu_1 \\leq \\mu_2\\\\\n",
    "H_1: \\mu_1 > \\mu_2\n",
    "\\end{cases}\n",
    "$\n",
    "\n",
    "ou\n",
    "\n",
    "$\n",
    "\\begin{cases}\n",
    "H_0: \\mu_1 -\\mu_2 \\leq 0\\\\\n",
    "H_1: \\mu_1 -\\mu_2 > 0\n",
    "\\end{cases}\n",
    "$"
   ]
  },
  {
   "cell_type": "markdown",
   "id": "7d939b77",
   "metadata": {},
   "source": [
    "><font color = 'Deeppink'>Como a hipótese nula será avaliar uma diferença faremos um teste unicaudal e como o valor calculado deve ser menor que o proposto, estamos avaliando o limite superior."
   ]
  },
  {
   "cell_type": "code",
   "execution_count": 15,
   "id": "64f84db1",
   "metadata": {},
   "outputs": [
    {
     "data": {
      "text/plain": [
       "2.3263478740408408"
      ]
     },
     "execution_count": 15,
     "metadata": {},
     "output_type": "execute_result"
    }
   ],
   "source": [
    "# Limite máximo aceitavel, maior que isso a hipótese nula será rejeitada.\n",
    "z_alpha = norm.ppf(confidence)\n",
    "z_alpha"
   ]
  },
  {
   "cell_type": "markdown",
   "id": "36ac6b34",
   "metadata": {},
   "source": [
    "### <font color = 'Deeppink'>Calculando $z$"
   ]
  },
  {
   "cell_type": "markdown",
   "id": "0914d9c7",
   "metadata": {},
   "source": [
    "Cálculo da estatística-teste e verificação desse valor com as áreas de aceitação e rejeição do teste\n",
    "\n",
    "$$z = \\frac{(\\bar{x_1} - \\bar{x_2})-D_0}{\\sqrt{\\frac{s_1^2}{n_1} + \\frac{s_2^2}{n_2}}}$$"
   ]
  },
  {
   "cell_type": "code",
   "execution_count": 16,
   "id": "9ec024d1",
   "metadata": {},
   "outputs": [
    {
     "data": {
      "text/plain": [
       "5.8656200577647555"
      ]
     },
     "execution_count": 16,
     "metadata": {},
     "output_type": "execute_result"
    }
   ],
   "source": [
    "d = 0 # diferença entre as medias amostrais \n",
    "\n",
    "z = ((media_h - media_m) - d) / np.sqrt((desv_h **2 / n_homens) + (desv_m ** 2 / n_mulheres))\n",
    "z"
   ]
  },
  {
   "cell_type": "code",
   "execution_count": 17,
   "id": "d8ee41f1",
   "metadata": {},
   "outputs": [
    {
     "data": {
      "text/plain": [
       "True"
      ]
     },
     "execution_count": 17,
     "metadata": {},
     "output_type": "execute_result"
    }
   ],
   "source": [
    "z >= z_alpha"
   ]
  },
  {
   "cell_type": "markdown",
   "id": "9d5a0cb2",
   "metadata": {},
   "source": [
    "><font color = 'Deeppink'>**Como a hipótese nula foi rejeitada, podemos dizer que a média das rendas entre homens e mulheres não são iguais ao nível de 99% de confiança.**</font>"
   ]
  }
 ],
 "metadata": {
  "kernelspec": {
   "display_name": "Python 3 (ipykernel)",
   "language": "python",
   "name": "python3"
  },
  "language_info": {
   "codemirror_mode": {
    "name": "ipython",
    "version": 3
   },
   "file_extension": ".py",
   "mimetype": "text/x-python",
   "name": "python",
   "nbconvert_exporter": "python",
   "pygments_lexer": "ipython3",
   "version": "3.10.6"
  }
 },
 "nbformat": 4,
 "nbformat_minor": 5
}
